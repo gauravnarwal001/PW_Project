{
 "cells": [
  {
   "cell_type": "code",
   "execution_count": 1,
   "id": "1852c40f",
   "metadata": {},
   "outputs": [],
   "source": [
    "class Node:\n",
    "    def __init__(self,data = None,next = None):\n",
    "        self.data = data\n",
    "        self.next = next\n",
    "    \n",
    "    def setData(self,data):\n",
    "        self.data = data\n",
    "        \n",
    "    def getData(self):\n",
    "        return self.data\n",
    "    \n",
    "    def setNext(self,next):\n",
    "        self.next = next\n",
    "        \n",
    "    def getNext(self):\n",
    "        return self.next"
   ]
  },
  {
   "cell_type": "code",
   "execution_count": 2,
   "id": "155862d8",
   "metadata": {},
   "outputs": [],
   "source": [
    "head = Node(1)\n",
    "node2 = Node(2)\n",
    "node3 = Node(3)\n",
    "node4 = Node(4)\n",
    "node5 = Node(5)\n",
    "node6 = Node(6)\n",
    "node7 = Node(7)"
   ]
  },
  {
   "cell_type": "code",
   "execution_count": 3,
   "id": "d187d777",
   "metadata": {},
   "outputs": [],
   "source": [
    "head.setNext(node2)\n",
    "node2.setNext(node3)\n",
    "node3.setNext(node4)\n",
    "node4.setNext(node5)\n",
    "node5.setNext(node6)\n",
    "node6.setNext(node7)"
   ]
  },
  {
   "cell_type": "code",
   "execution_count": 4,
   "id": "3c21bb47",
   "metadata": {},
   "outputs": [
    {
     "name": "stdout",
     "output_type": "stream",
     "text": [
      "1\n",
      "2\n",
      "3\n",
      "4\n",
      "5\n",
      "6\n",
      "7\n"
     ]
    }
   ],
   "source": [
    "temp = head\n",
    "while(temp):\n",
    "    print(temp.getData())\n",
    "    temp = temp.getNext()"
   ]
  },
  {
   "cell_type": "code",
   "execution_count": 5,
   "id": "1e33477d",
   "metadata": {},
   "outputs": [],
   "source": [
    "def length(head):\n",
    "    temp = head\n",
    "    count = 0\n",
    "    while(temp):\n",
    "        count = count + 1\n",
    "        temp = temp.getNext()\n",
    "    return count"
   ]
  },
  {
   "cell_type": "code",
   "execution_count": 6,
   "id": "80c179ca",
   "metadata": {},
   "outputs": [
    {
     "data": {
      "text/plain": [
       "7"
      ]
     },
     "execution_count": 6,
     "metadata": {},
     "output_type": "execute_result"
    }
   ],
   "source": [
    "length(head)"
   ]
  },
  {
   "cell_type": "code",
   "execution_count": 7,
   "id": "35faf6fa",
   "metadata": {},
   "outputs": [],
   "source": [
    "def print_linked_list(head):\n",
    "    i = 0 \n",
    "    temp = head\n",
    "    while(temp):\n",
    "        print(temp.getData(),end = '->')\n",
    "        temp = temp.getNext()"
   ]
  },
  {
   "cell_type": "code",
   "execution_count": 8,
   "id": "936e49ba",
   "metadata": {},
   "outputs": [
    {
     "name": "stdout",
     "output_type": "stream",
     "text": [
      "1->2->3->4->5->6->7->"
     ]
    }
   ],
   "source": [
    "print_linked_list(head)"
   ]
  },
  {
   "cell_type": "code",
   "execution_count": 9,
   "id": "63fed003",
   "metadata": {},
   "outputs": [],
   "source": [
    "def print_recursice(head):\n",
    "    if not head:\n",
    "        return\n",
    "    else:\n",
    "        temp = head\n",
    "        print(head.getData(),end = '->')\n",
    "    return print_recursice(temp.getNext())"
   ]
  },
  {
   "cell_type": "code",
   "execution_count": 10,
   "id": "beb9c90f",
   "metadata": {},
   "outputs": [
    {
     "name": "stdout",
     "output_type": "stream",
     "text": [
      "1->2->3->4->5->6->7->"
     ]
    }
   ],
   "source": [
    "print_recursice(head)"
   ]
  },
  {
   "cell_type": "code",
   "execution_count": 11,
   "id": "2956fd88",
   "metadata": {},
   "outputs": [],
   "source": [
    "def len_recurcive(head,count = 0):\n",
    "    if not head:\n",
    "        return count\n",
    "    else:\n",
    "        count += 1\n",
    "        return len_recurcive(head.getNext(),count)"
   ]
  },
  {
   "cell_type": "code",
   "execution_count": 12,
   "id": "1c8dce9f",
   "metadata": {},
   "outputs": [
    {
     "data": {
      "text/plain": [
       "7"
      ]
     },
     "execution_count": 12,
     "metadata": {},
     "output_type": "execute_result"
    }
   ],
   "source": [
    "len_recurcive(head)"
   ]
  },
  {
   "cell_type": "code",
   "execution_count": 13,
   "id": "092cfae4",
   "metadata": {},
   "outputs": [
    {
     "data": {
      "text/plain": [
       "1"
      ]
     },
     "execution_count": 13,
     "metadata": {},
     "output_type": "execute_result"
    }
   ],
   "source": [
    "head.getData()"
   ]
  },
  {
   "cell_type": "code",
   "execution_count": 14,
   "id": "8f5729e3",
   "metadata": {},
   "outputs": [],
   "source": [
    "def insert_node(head,data,k):\n",
    "    new_node = Node(data)\n",
    "    if (k > length(head) or k < 0):\n",
    "        return \"K value is not correct\"\n",
    "    elif k == 0:\n",
    "        new_node.setNext(head)\n",
    "        head = new_node\n",
    "        return head\n",
    "    else:\n",
    "        temp = head\n",
    "        i = 0\n",
    "        while(i < k-1):\n",
    "            temp = temp.getNext()\n",
    "            i += 1\n",
    "#         new_node.setNext(temp.getNext())\n",
    "#         temp.setNext(new_node)\n",
    "        \n",
    "#         temp.setNext(new_node)\n",
    "#         new_node.setNext(new_.getNext())\n",
    "\n",
    "        new_node.setNext(temp.getNext())\n",
    "        temp.setNext(new_node)\n",
    "        \n",
    "        return head"
   ]
  },
  {
   "cell_type": "code",
   "execution_count": 15,
   "id": "99d06de8",
   "metadata": {},
   "outputs": [
    {
     "name": "stdout",
     "output_type": "stream",
     "text": [
      "1->2->3->4->5->6->7->\n",
      "1->2->3->0->4->5->6->7->"
     ]
    }
   ],
   "source": [
    "head = Node(1)\n",
    "node2 = Node(2)\n",
    "node3 = Node(3)\n",
    "node4 = Node(4)\n",
    "node5 = Node(5)\n",
    "node6 = Node(6)\n",
    "node7 = Node(7)\n",
    "\n",
    "head.setNext(node2)\n",
    "node2.setNext(node3)\n",
    "node3.setNext(node4)\n",
    "node4.setNext(node5)\n",
    "node5.setNext(node6)\n",
    "node6.setNext(node7)\n",
    "\n",
    "\n",
    "print_linked_list(head)\n",
    "print()\n",
    "h = insert_node(head,0,3)\n",
    "print_linked_list(h)\n"
   ]
  },
  {
   "cell_type": "code",
   "execution_count": 16,
   "id": "35272a86",
   "metadata": {},
   "outputs": [
    {
     "name": "stdout",
     "output_type": "stream",
     "text": [
      "1->2->3->0->4->5->6->7->"
     ]
    }
   ],
   "source": [
    "print_linked_list(head)"
   ]
  },
  {
   "cell_type": "code",
   "execution_count": 17,
   "id": "bea754f0",
   "metadata": {},
   "outputs": [],
   "source": [
    "def deleteNode(head,k):\n",
    "    temp = head\n",
    "    i = 0\n",
    "    \n",
    "    if (k <=0 or k > len_ll(head) or not head ):\n",
    "        print(\"Check Your Input\")\n",
    "        return head\n",
    "    \n",
    "    if k == 1:\n",
    "        head = temp.getNext()\n",
    "        return head\n",
    "    \n",
    "    else:\n",
    "\n",
    "        while(i < k-2):\n",
    "            temp = temp.getNext()\n",
    "            i += 1\n",
    "        delete = temp\n",
    "\n",
    "        for i in range(2):\n",
    "            delete = delete.getNext()\n",
    "    temp.setNext(delete)\n",
    "    return head"
   ]
  },
  {
   "cell_type": "code",
   "execution_count": 18,
   "id": "e6dd510f",
   "metadata": {},
   "outputs": [
    {
     "name": "stdout",
     "output_type": "stream",
     "text": [
      "1->2->3->4->5->6->7->\n"
     ]
    },
    {
     "ename": "NameError",
     "evalue": "name 'len_ll' is not defined",
     "output_type": "error",
     "traceback": [
      "\u001b[1;31m---------------------------------------------------------------------------\u001b[0m",
      "\u001b[1;31mNameError\u001b[0m                                 Traceback (most recent call last)",
      "\u001b[1;32m~\\AppData\\Local\\Temp\\ipykernel_19848\\3694149560.py\u001b[0m in \u001b[0;36m<module>\u001b[1;34m\u001b[0m\n\u001b[0;32m     16\u001b[0m \u001b[0mprint_linked_list\u001b[0m\u001b[1;33m(\u001b[0m\u001b[0mhead\u001b[0m\u001b[1;33m)\u001b[0m\u001b[1;33m\u001b[0m\u001b[1;33m\u001b[0m\u001b[0m\n\u001b[0;32m     17\u001b[0m \u001b[0mprint\u001b[0m\u001b[1;33m(\u001b[0m\u001b[1;33m)\u001b[0m\u001b[1;33m\u001b[0m\u001b[1;33m\u001b[0m\u001b[0m\n\u001b[1;32m---> 18\u001b[1;33m \u001b[0ma\u001b[0m \u001b[1;33m=\u001b[0m \u001b[0mdeleteNode\u001b[0m\u001b[1;33m(\u001b[0m\u001b[0mhead\u001b[0m\u001b[1;33m,\u001b[0m\u001b[1;36m2\u001b[0m\u001b[1;33m)\u001b[0m\u001b[1;33m\u001b[0m\u001b[1;33m\u001b[0m\u001b[0m\n\u001b[0m\u001b[0;32m     19\u001b[0m \u001b[0mprint_linked_list\u001b[0m\u001b[1;33m(\u001b[0m\u001b[0ma\u001b[0m\u001b[1;33m)\u001b[0m\u001b[1;33m\u001b[0m\u001b[1;33m\u001b[0m\u001b[0m\n",
      "\u001b[1;32m~\\AppData\\Local\\Temp\\ipykernel_19848\\1360265547.py\u001b[0m in \u001b[0;36mdeleteNode\u001b[1;34m(head, k)\u001b[0m\n\u001b[0;32m      3\u001b[0m     \u001b[0mi\u001b[0m \u001b[1;33m=\u001b[0m \u001b[1;36m0\u001b[0m\u001b[1;33m\u001b[0m\u001b[1;33m\u001b[0m\u001b[0m\n\u001b[0;32m      4\u001b[0m \u001b[1;33m\u001b[0m\u001b[0m\n\u001b[1;32m----> 5\u001b[1;33m     \u001b[1;32mif\u001b[0m \u001b[1;33m(\u001b[0m\u001b[0mk\u001b[0m \u001b[1;33m<=\u001b[0m\u001b[1;36m0\u001b[0m \u001b[1;32mor\u001b[0m \u001b[0mk\u001b[0m \u001b[1;33m>\u001b[0m \u001b[0mlen_ll\u001b[0m\u001b[1;33m(\u001b[0m\u001b[0mhead\u001b[0m\u001b[1;33m)\u001b[0m \u001b[1;32mor\u001b[0m \u001b[1;32mnot\u001b[0m \u001b[0mhead\u001b[0m \u001b[1;33m)\u001b[0m\u001b[1;33m:\u001b[0m\u001b[1;33m\u001b[0m\u001b[1;33m\u001b[0m\u001b[0m\n\u001b[0m\u001b[0;32m      6\u001b[0m         \u001b[0mprint\u001b[0m\u001b[1;33m(\u001b[0m\u001b[1;34m\"Check Your Input\"\u001b[0m\u001b[1;33m)\u001b[0m\u001b[1;33m\u001b[0m\u001b[1;33m\u001b[0m\u001b[0m\n\u001b[0;32m      7\u001b[0m         \u001b[1;32mreturn\u001b[0m \u001b[0mhead\u001b[0m\u001b[1;33m\u001b[0m\u001b[1;33m\u001b[0m\u001b[0m\n",
      "\u001b[1;31mNameError\u001b[0m: name 'len_ll' is not defined"
     ]
    }
   ],
   "source": [
    "head = Node(1)\n",
    "node2 = Node(2)\n",
    "node3 = Node(3)\n",
    "node4 = Node(4)\n",
    "node5 = Node(5)\n",
    "node6 = Node(6)\n",
    "node7 = Node(7)\n",
    "\n",
    "head.setNext(node2)\n",
    "node2.setNext(node3)\n",
    "node3.setNext(node4)\n",
    "node4.setNext(node5)\n",
    "node5.setNext(node6)\n",
    "node6.setNext(node7)\n",
    "\n",
    "print_linked_list(head)\n",
    "print()\n",
    "a = deleteNode(head,2)\n",
    "print_linked_list(a)"
   ]
  },
  {
   "cell_type": "code",
   "execution_count": null,
   "id": "b206b5be",
   "metadata": {},
   "outputs": [],
   "source": [
    "print_linked_list(a)"
   ]
  },
  {
   "cell_type": "code",
   "execution_count": 20,
   "id": "89de76d9",
   "metadata": {},
   "outputs": [],
   "source": [
    "class Node:\n",
    "    def __init__(self,data = None, next = None):\n",
    "        self.data = data\n",
    "        self.next = next\n",
    "        \n",
    "    def setData(self,data):\n",
    "        self.data = data\n",
    "    \n",
    "    def getData(self):\n",
    "        return self.data\n",
    "    \n",
    "    def setNext(self,next):\n",
    "        self.next = next\n",
    "        \n",
    "    def getNext(self):\n",
    "        return self.next"
   ]
  },
  {
   "cell_type": "code",
   "execution_count": 21,
   "id": "2336a45b",
   "metadata": {},
   "outputs": [],
   "source": [
    "head = Node(1)\n",
    "node2 = Node(2)\n",
    "node3 = Node(3)\n",
    "node4 = Node(4)\n",
    "node5 = Node(5)\n",
    "node6 = Node(6)\n",
    "node7 = Node(7)\n",
    "\n",
    "head.setNext(node2)\n",
    "node2.setNext(node3)\n",
    "node3.setNext(node4)\n",
    "node4.setNext(node5)\n",
    "node5.setNext(node6)\n",
    "node6.setNext(node7)"
   ]
  },
  {
   "cell_type": "code",
   "execution_count": 22,
   "id": "d2de0620",
   "metadata": {},
   "outputs": [],
   "source": [
    "def print_ll(head):\n",
    "    temp = head\n",
    "    \n",
    "    while(temp):\n",
    "        print(temp.getData(),end = \"->\")\n",
    "        temp = temp.getNext()"
   ]
  },
  {
   "cell_type": "code",
   "execution_count": 23,
   "id": "67df8f35",
   "metadata": {},
   "outputs": [
    {
     "name": "stdout",
     "output_type": "stream",
     "text": [
      "1->2->3->4->5->6->7->"
     ]
    }
   ],
   "source": [
    "print_ll(head)"
   ]
  },
  {
   "cell_type": "code",
   "execution_count": 24,
   "id": "3831e3d8",
   "metadata": {},
   "outputs": [],
   "source": [
    "def len_ll(head):\n",
    "    count = 0\n",
    "    temp = head\n",
    "    while(temp):\n",
    "        temp = temp.getNext()\n",
    "        count = count + 1\n",
    "    return count"
   ]
  },
  {
   "cell_type": "code",
   "execution_count": 25,
   "id": "ab81b534",
   "metadata": {},
   "outputs": [
    {
     "data": {
      "text/plain": [
       "7"
      ]
     },
     "execution_count": 25,
     "metadata": {},
     "output_type": "execute_result"
    }
   ],
   "source": [
    "len_ll(head)"
   ]
  },
  {
   "cell_type": "code",
   "execution_count": 26,
   "id": "9020eb4a",
   "metadata": {},
   "outputs": [],
   "source": [
    "def len_ll_rec(temp = head,count = 0):\n",
    "    if not temp :\n",
    "        return count\n",
    "    else:\n",
    "        temp = temp.getNext()\n",
    "        count += 1\n",
    "    return len_ll_rec(temp,count)"
   ]
  },
  {
   "cell_type": "code",
   "execution_count": 27,
   "id": "acccd210",
   "metadata": {},
   "outputs": [
    {
     "data": {
      "text/plain": [
       "7"
      ]
     },
     "execution_count": 27,
     "metadata": {},
     "output_type": "execute_result"
    }
   ],
   "source": [
    "len_ll_rec(head)"
   ]
  },
  {
   "cell_type": "code",
   "execution_count": 28,
   "id": "0784f32f",
   "metadata": {},
   "outputs": [],
   "source": [
    "def insert_node(head,data,k):\n",
    "    new_data = Node(data)\n",
    "    temp = head\n",
    "    if ((k > len_ll_rec(head)) or (k < 0)):\n",
    "        return \"Wrong K value\"\n",
    "    \n",
    "    elif k == 0:\n",
    "        new_data.setNext(head)\n",
    "        head = new_data\n",
    "        return head\n",
    "    \n",
    "    else:\n",
    "        i = 0\n",
    "        while(i < k-1):\n",
    "            temp = temp.getNext()\n",
    "            i = i + 1\n",
    "        new_data.setNext(temp.getNext())\n",
    "        temp.setNext(new_data)\n",
    "        return head"
   ]
  },
  {
   "cell_type": "code",
   "execution_count": 29,
   "id": "7d217338",
   "metadata": {},
   "outputs": [
    {
     "name": "stdout",
     "output_type": "stream",
     "text": [
      "1->2->3->4->5->6->7->\n",
      "1->2->3->4->0->5->6->7->"
     ]
    }
   ],
   "source": [
    "head = Node(1)\n",
    "node2 = Node(2)\n",
    "node3 = Node(3)\n",
    "node4 = Node(4)\n",
    "node5 = Node(5)\n",
    "node6 = Node(6)\n",
    "node7 = Node(7)\n",
    "\n",
    "head.setNext(node2)\n",
    "node2.setNext(node3)\n",
    "node3.setNext(node4)\n",
    "node4.setNext(node5)\n",
    "node5.setNext(node6)\n",
    "node6.setNext(node7)\n",
    "\n",
    "print_ll(head)\n",
    "print()\n",
    "a = insert_node(head,0,4)\n",
    "print_ll(a)"
   ]
  },
  {
   "cell_type": "code",
   "execution_count": 30,
   "id": "ec3bc789",
   "metadata": {},
   "outputs": [],
   "source": [
    "def add_last_node(head,data):\n",
    "    new_node = Node(data)\n",
    "    temp = head\n",
    "    length = len_ll(temp)\n",
    "    i = 0\n",
    "    while(i < length-1):\n",
    "        temp = temp.getNext()\n",
    "        i = i + 1\n",
    "    temp.setNext(new_node)\n",
    "    return head"
   ]
  },
  {
   "cell_type": "code",
   "execution_count": 31,
   "id": "083a6cbe",
   "metadata": {},
   "outputs": [
    {
     "name": "stdout",
     "output_type": "stream",
     "text": [
      "1->2->3->4->0->5->6->7->"
     ]
    }
   ],
   "source": [
    "print_ll(head)"
   ]
  },
  {
   "cell_type": "code",
   "execution_count": 32,
   "id": "deb87d58",
   "metadata": {},
   "outputs": [
    {
     "name": "stdout",
     "output_type": "stream",
     "text": [
      "1->2->3->4->5->6->7->\n",
      "1->2->3->4->5->6->7->10->"
     ]
    }
   ],
   "source": [
    "head = Node(1)\n",
    "node2 = Node(2)\n",
    "node3 = Node(3)\n",
    "node4 = Node(4)\n",
    "node5 = Node(5)\n",
    "node6 = Node(6)\n",
    "node7 = Node(7)\n",
    "\n",
    "head.setNext(node2)\n",
    "node2.setNext(node3)\n",
    "node3.setNext(node4)\n",
    "node4.setNext(node5)\n",
    "node5.setNext(node6)\n",
    "node6.setNext(node7)\n",
    "\n",
    "print_ll(head)\n",
    "print()\n",
    "a = add_last_node(head,10)\n",
    "print_ll(a)"
   ]
  },
  {
   "cell_type": "code",
   "execution_count": 33,
   "id": "55891996",
   "metadata": {},
   "outputs": [
    {
     "data": {
      "text/plain": [
       "8"
      ]
     },
     "execution_count": 33,
     "metadata": {},
     "output_type": "execute_result"
    }
   ],
   "source": [
    "len_ll(head)"
   ]
  },
  {
   "cell_type": "code",
   "execution_count": null,
   "id": "29987c65",
   "metadata": {},
   "outputs": [],
   "source": []
  },
  {
   "cell_type": "code",
   "execution_count": 34,
   "id": "1045ee9c",
   "metadata": {},
   "outputs": [],
   "source": [
    "def remove_node(head,k):\n",
    "    temp = head\n",
    "    if (k <= 0 or k > len_ll(head) or not head):\n",
    "        print('Check your input')\n",
    "        return head\n",
    "    \n",
    "    if (k == 1):\n",
    "        head = temp.getNext()`x\n",
    "        return head\n",
    "    else:\n",
    "        i = 0\n",
    "        while(i < k-2):\n",
    "            temp = temp.getNext()\n",
    "            i = i + 1\n",
    "        temp.setNext(temp.getNext().getNext())\n",
    "        return head"
   ]
  },
  {
   "cell_type": "code",
   "execution_count": 35,
   "id": "c06016d4",
   "metadata": {},
   "outputs": [
    {
     "name": "stdout",
     "output_type": "stream",
     "text": [
      "1->2->3->4->5->6->7->\n",
      "1->3->4->5->6->7->"
     ]
    }
   ],
   "source": [
    "head = Node(1)\n",
    "node2 = Node(2)\n",
    "node3 = Node(3)\n",
    "node4 = Node(4)\n",
    "node5 = Node(5)\n",
    "node6 = Node(6)\n",
    "node7 = Node(7)\n",
    "\n",
    "head.setNext(node2)\n",
    "node2.setNext(node3)\n",
    "node3.setNext(node4)\n",
    "node4.setNext(node5)\n",
    "node5.setNext(node6)\n",
    "node6.setNext(node7)\n",
    "\n",
    "print_ll(head)\n",
    "print()\n",
    "a = remove_node(head,2)\n",
    "print_ll(a)"
   ]
  },
  {
   "cell_type": "code",
   "execution_count": 36,
   "id": "1d797605",
   "metadata": {},
   "outputs": [],
   "source": [
    "def remove_node1(head,k):\n",
    "    temp = head\n",
    "    if (k <= 0 or k > len_ll(head) or not head):\n",
    "        print('Check your input')\n",
    "        return head\n",
    "    \n",
    "    if (k == 1):\n",
    "        head = temp.getNext()\n",
    "        return head\n",
    "    else:\n",
    "        i = 0\n",
    "        while(i < k-2):\n",
    "            temp = temp.getNext()\n",
    "            i = i + 1\n",
    "        for i in range(1):\n",
    "            temp2 = temp.getNext()\n",
    "        temp.setNext(temp2)\n",
    "        return head"
   ]
  },
  {
   "cell_type": "code",
   "execution_count": 37,
   "id": "f484b144",
   "metadata": {},
   "outputs": [
    {
     "name": "stdout",
     "output_type": "stream",
     "text": [
      "1->2->3->4->5->6->7->\n",
      "1->3->4->5->6->7->"
     ]
    }
   ],
   "source": [
    "head = Node(1)\n",
    "node2 = Node(2)\n",
    "node3 = Node(3)\n",
    "node4 = Node(4)\n",
    "node5 = Node(5)\n",
    "node6 = Node(6)\n",
    "node7 = Node(7)\n",
    "\n",
    "head.setNext(node2)\n",
    "node2.setNext(node3)\n",
    "node3.setNext(node4)\n",
    "node4.setNext(node5)\n",
    "node5.setNext(node6)\n",
    "node6.setNext(node7)\n",
    "\n",
    "print_ll(head)\n",
    "print()\n",
    "a = remove_node(head,2)\n",
    "print_ll(a)"
   ]
  },
  {
   "cell_type": "code",
   "execution_count": 38,
   "id": "17c639f3",
   "metadata": {},
   "outputs": [],
   "source": [
    "def middle_node(head):\n",
    "    temp = head\n",
    "    length = len_ll(head)\n",
    "    mid = length // 2\n",
    "    for i in range(mid):\n",
    "        temp = temp.getNext()\n",
    "        \n",
    "    return temp.getData()\n"
   ]
  },
  {
   "cell_type": "code",
   "execution_count": 39,
   "id": "2f0e0643",
   "metadata": {},
   "outputs": [],
   "source": [
    "head = Node(1)\n",
    "node2 = Node(2)\n",
    "node3 = Node(3)\n",
    "node4 = Node(4)\n",
    "node5 = Node(5)\n",
    "node6 = Node(6)\n",
    "node7 = Node(7)\n",
    "node8 = Node(8)\n",
    "\n",
    "head.setNext(node2)\n",
    "node2.setNext(node3)\n",
    "node3.setNext(node4)\n",
    "node4.setNext(node5)\n",
    "node5.setNext(node6)\n",
    "node6.setNext(node7)\n",
    "node7.setNext(node8)\n"
   ]
  },
  {
   "cell_type": "code",
   "execution_count": 40,
   "id": "28e448d7",
   "metadata": {},
   "outputs": [
    {
     "data": {
      "text/plain": [
       "5"
      ]
     },
     "execution_count": 40,
     "metadata": {},
     "output_type": "execute_result"
    }
   ],
   "source": [
    "middle_node(head)"
   ]
  },
  {
   "cell_type": "code",
   "execution_count": 41,
   "id": "83d98bb0",
   "metadata": {},
   "outputs": [
    {
     "name": "stdout",
     "output_type": "stream",
     "text": [
      "1->2->3->4->5->6->7->8->"
     ]
    }
   ],
   "source": [
    "print_ll(head)"
   ]
  },
  {
   "cell_type": "code",
   "execution_count": 42,
   "id": "81e664d2",
   "metadata": {},
   "outputs": [],
   "source": [
    "def jump_middle(head):\n",
    "    slow = head\n",
    "    fast = head\n",
    "    while fast:\n",
    "        fast = fast.getNext()\n",
    "        if fast:        \n",
    "            slow = slow.getNext()\n",
    "            fast = fast.getNext()\n",
    "    return slow.getData()"
   ]
  },
  {
   "cell_type": "code",
   "execution_count": 43,
   "id": "5c7f3259",
   "metadata": {},
   "outputs": [
    {
     "data": {
      "text/plain": [
       "5"
      ]
     },
     "execution_count": 43,
     "metadata": {},
     "output_type": "execute_result"
    }
   ],
   "source": [
    "jump_middle(head)"
   ]
  },
  {
   "cell_type": "code",
   "execution_count": 44,
   "id": "d9139e41",
   "metadata": {},
   "outputs": [
    {
     "name": "stdout",
     "output_type": "stream",
     "text": [
      "1->2->3->4->5->6->7->8->"
     ]
    }
   ],
   "source": [
    "print_ll(head)"
   ]
  },
  {
   "cell_type": "code",
   "execution_count": 45,
   "id": "d1441f87",
   "metadata": {},
   "outputs": [],
   "source": [
    "def check_cycle(head):\n",
    "    slow = head\n",
    "    fast = head\n",
    "    while (fast and fast.getNext != None):\n",
    "        slow = slow.getNext()\n",
    "        fast = fast.getNext().getNext()\n",
    "        \n",
    "        if slow == fast:\n",
    "            return True\n",
    "    return False"
   ]
  },
  {
   "cell_type": "code",
   "execution_count": 109,
   "id": "40c6afde",
   "metadata": {},
   "outputs": [],
   "source": [
    "head = Node(1)\n",
    "node2 = Node(2)\n",
    "node3 = Node(3)\n",
    "node4 = Node(4)\n",
    "node5 = Node(5)\n",
    "node6 = Node(6)\n",
    "node7 = Node(7)\n",
    "node8 = Node(8)\n",
    "\n",
    "head.setNext(node2)\n",
    "node2.setNext(node3)\n",
    "node3.setNext(node4)\n",
    "node4.setNext(node5)\n",
    "node5.setNext(node6)\n",
    "node6.setNext(node7)\n",
    "node7.setNext(node8)\n",
    "\n"
   ]
  },
  {
   "cell_type": "code",
   "execution_count": 101,
   "id": "08e0e56d",
   "metadata": {},
   "outputs": [
    {
     "data": {
      "text/plain": [
       "False"
      ]
     },
     "execution_count": 101,
     "metadata": {},
     "output_type": "execute_result"
    }
   ],
   "source": [
    "check_cycle(head)"
   ]
  },
  {
   "cell_type": "code",
   "execution_count": 102,
   "id": "ac0247b2",
   "metadata": {},
   "outputs": [
    {
     "name": "stdout",
     "output_type": "stream",
     "text": [
      "1->2->3->4->5->6->7->8->"
     ]
    }
   ],
   "source": [
    "print_linked_list(head)"
   ]
  },
  {
   "cell_type": "code",
   "execution_count": 144,
   "id": "2ec7f5f6",
   "metadata": {},
   "outputs": [
    {
     "ename": "SyntaxError",
     "evalue": "cannot assign to function call (2343822709.py, line 7)",
     "output_type": "error",
     "traceback": [
      "\u001b[1;36m  File \u001b[1;32m\"C:\\Users\\gaura\\AppData\\Local\\Temp\\ipykernel_19848\\2343822709.py\"\u001b[1;36m, line \u001b[1;32m7\u001b[0m\n\u001b[1;33m    current.getNext() = prev\u001b[0m\n\u001b[1;37m    ^\u001b[0m\n\u001b[1;31mSyntaxError\u001b[0m\u001b[1;31m:\u001b[0m cannot assign to function call\n"
     ]
    }
   ],
   "source": [
    "def reverse_linked_list(head):\n",
    "    prev = None\n",
    "    current = head\n",
    "    \n",
    "    while current is not None:\n",
    "        next_node = current.getNext()\n",
    "        current.getNext() = prev\n",
    "        prev = current\n",
    "        current = next_node\n",
    "        \n",
    "    return prev"
   ]
  },
  {
   "cell_type": "code",
   "execution_count": 145,
   "id": "c9ce134f",
   "metadata": {},
   "outputs": [
    {
     "name": "stdout",
     "output_type": "stream",
     "text": [
      "1->2->3->4->5->6->7->8->"
     ]
    }
   ],
   "source": [
    "head = Node(1)\n",
    "node2 = Node(2)\n",
    "node3 = Node(3)\n",
    "node4 = Node(4)\n",
    "node5 = Node(5)\n",
    "node6 = Node(6)\n",
    "node7 = Node(7)\n",
    "node8 = Node(8)\n",
    "\n",
    "head.setNext(node2)\n",
    "node2.setNext(node3)\n",
    "node3.setNext(node4)\n",
    "node4.setNext(node5)\n",
    "node5.setNext(node6)\n",
    "node6.setNext(node7)\n",
    "node7.setNext(node8)\n",
    "\n",
    "\n",
    "print_linked_list(head)"
   ]
  },
  {
   "cell_type": "code",
   "execution_count": 142,
   "id": "fd6c5fa6",
   "metadata": {},
   "outputs": [],
   "source": [
    "a = reverse_linked_list(head)"
   ]
  },
  {
   "cell_type": "code",
   "execution_count": 143,
   "id": "10c3423d",
   "metadata": {
    "scrolled": false
   },
   "outputs": [
    {
     "name": "stdout",
     "output_type": "stream",
     "text": [
      "8->"
     ]
    },
    {
     "ename": "TypeError",
     "evalue": "'Node' object is not callable",
     "output_type": "error",
     "traceback": [
      "\u001b[1;31m---------------------------------------------------------------------------\u001b[0m",
      "\u001b[1;31mTypeError\u001b[0m                                 Traceback (most recent call last)",
      "\u001b[1;32m~\\AppData\\Local\\Temp\\ipykernel_19848\\2174741003.py\u001b[0m in \u001b[0;36m<module>\u001b[1;34m\u001b[0m\n\u001b[1;32m----> 1\u001b[1;33m \u001b[0mprint_linked_list\u001b[0m\u001b[1;33m(\u001b[0m\u001b[0ma\u001b[0m\u001b[1;33m)\u001b[0m\u001b[1;33m\u001b[0m\u001b[1;33m\u001b[0m\u001b[0m\n\u001b[0m",
      "\u001b[1;32m~\\AppData\\Local\\Temp\\ipykernel_19848\\834748120.py\u001b[0m in \u001b[0;36mprint_linked_list\u001b[1;34m(head)\u001b[0m\n\u001b[0;32m      4\u001b[0m     \u001b[1;32mwhile\u001b[0m\u001b[1;33m(\u001b[0m\u001b[0mtemp\u001b[0m\u001b[1;33m)\u001b[0m\u001b[1;33m:\u001b[0m\u001b[1;33m\u001b[0m\u001b[1;33m\u001b[0m\u001b[0m\n\u001b[0;32m      5\u001b[0m         \u001b[0mprint\u001b[0m\u001b[1;33m(\u001b[0m\u001b[0mtemp\u001b[0m\u001b[1;33m.\u001b[0m\u001b[0mgetData\u001b[0m\u001b[1;33m(\u001b[0m\u001b[1;33m)\u001b[0m\u001b[1;33m,\u001b[0m\u001b[0mend\u001b[0m \u001b[1;33m=\u001b[0m \u001b[1;34m'->'\u001b[0m\u001b[1;33m)\u001b[0m\u001b[1;33m\u001b[0m\u001b[1;33m\u001b[0m\u001b[0m\n\u001b[1;32m----> 6\u001b[1;33m         \u001b[0mtemp\u001b[0m \u001b[1;33m=\u001b[0m \u001b[0mtemp\u001b[0m\u001b[1;33m.\u001b[0m\u001b[0mgetNext\u001b[0m\u001b[1;33m(\u001b[0m\u001b[1;33m)\u001b[0m\u001b[1;33m\u001b[0m\u001b[1;33m\u001b[0m\u001b[0m\n\u001b[0m",
      "\u001b[1;31mTypeError\u001b[0m: 'Node' object is not callable"
     ]
    }
   ],
   "source": [
    "print_linked_list(a)"
   ]
  },
  {
   "cell_type": "code",
   "execution_count": null,
   "id": "090edb8e",
   "metadata": {},
   "outputs": [],
   "source": []
  }
 ],
 "metadata": {
  "kernelspec": {
   "display_name": "Python 3 (ipykernel)",
   "language": "python",
   "name": "python3"
  },
  "language_info": {
   "codemirror_mode": {
    "name": "ipython",
    "version": 3
   },
   "file_extension": ".py",
   "mimetype": "text/x-python",
   "name": "python",
   "nbconvert_exporter": "python",
   "pygments_lexer": "ipython3",
   "version": "3.9.13"
  }
 },
 "nbformat": 4,
 "nbformat_minor": 5
}
