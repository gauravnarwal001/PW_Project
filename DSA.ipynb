{
 "cells": [
  {
   "cell_type": "markdown",
   "id": "16ee1658",
   "metadata": {},
   "source": [
    "# Problem 1: Reverse a singly linked list.\n",
    "Input: 1 -> 2 -> 3 -> 4 -> 5\n",
    "\n",
    "Output: 5 -> 4 -> 3 -> 2 -> 1"
   ]
  },
  {
   "cell_type": "code",
   "execution_count": 1,
   "id": "053a2632",
   "metadata": {},
   "outputs": [
    {
     "name": "stdout",
     "output_type": "stream",
     "text": [
      "Original list:\n",
      "1 -> 2 -> 3 -> 4 -> 5\n",
      "Reversed list:\n",
      "5 -> 4 -> 3 -> 2 -> 1\n"
     ]
    }
   ],
   "source": [
    "class Node:\n",
    "    def __init__(self, value=0, next=None):\n",
    "        self.value = value\n",
    "        self.next = next\n",
    "\n",
    "class LinkedList:\n",
    "    def __init__(self):\n",
    "        self.head = None\n",
    "\n",
    "    def append(self, value):\n",
    "        if not self.head:\n",
    "            self.head = Node(value)\n",
    "        else:\n",
    "            current = self.head\n",
    "            while current.next:\n",
    "                current = current.next\n",
    "            current.next = Node(value)\n",
    "\n",
    "    def print_list(self):\n",
    "        current = self.head\n",
    "        while current:\n",
    "            print(current.value, end=\" -> \" if current.next else \"\\n\")\n",
    "            current = current.next\n",
    "\n",
    "    def reverse(self):\n",
    "        prev = None\n",
    "        current = self.head\n",
    "        while current:\n",
    "            next_node = current.next\n",
    "            current.next = prev\n",
    "            prev = current\n",
    "            current = next_node\n",
    "        self.head = prev\n",
    "\n",
    "# Create and populate the linked list\n",
    "ll = LinkedList()\n",
    "for value in [1, 2, 3, 4, 5]:\n",
    "    ll.append(value)\n",
    "\n",
    "print(\"Original list:\")\n",
    "ll.print_list()\n",
    "\n",
    "# Reverse the linked list\n",
    "ll.reverse()\n",
    "\n",
    "print(\"Reversed list:\")\n",
    "ll.print_list()\n"
   ]
  },
  {
   "cell_type": "code",
   "execution_count": null,
   "id": "0b2cddab",
   "metadata": {},
   "outputs": [],
   "source": []
  },
  {
   "cell_type": "markdown",
   "id": "bcb533ec",
   "metadata": {},
   "source": [
    "# Problem 2: Merge two sorted linked lists into one sorted linked list.\n",
    "\n",
    "Input: List 1: 1 -> 3 -> 5, List 2: 2 -> 4 -> 6\n",
    "            \n",
    "Output: 1 -> 2 -> 3 -> 4 -> 5 -> 6"
   ]
  },
  {
   "cell_type": "code",
   "execution_count": 4,
   "id": "d4ecfefa",
   "metadata": {},
   "outputs": [
    {
     "name": "stdout",
     "output_type": "stream",
     "text": [
      "List 1:\n",
      "1 -> 3 -> 5\n",
      "List 2:\n",
      "2 -> 4 -> 6\n",
      "Merged list:\n",
      "1 -> 2 -> 3 -> 4 -> 5 -> 6\n"
     ]
    }
   ],
   "source": [
    "class Node:\n",
    "    def __init__(self, value=0, next=None):\n",
    "        self.value = value\n",
    "        self.next = next\n",
    "\n",
    "class LinkedList:\n",
    "    def __init__(self):\n",
    "        self.head = None\n",
    "\n",
    "    def append(self, value):\n",
    "        if not self.head:\n",
    "            self.head = Node(value)\n",
    "        else:\n",
    "            current = self.head\n",
    "            while current.next:\n",
    "                current = current.next\n",
    "            current.next = Node(value)\n",
    "\n",
    "    def print_list(self):\n",
    "        current = self.head\n",
    "        while current:\n",
    "            print(current.value, end=\" -> \" if current.next else \"\\n\")\n",
    "            current = current.next\n",
    "\n",
    "    def merge_sorted(self, other):\n",
    "        dummy = Node()\n",
    "        tail = dummy\n",
    "        l1 = self.head\n",
    "        l2 = other.head\n",
    "\n",
    "        while l1 and l2:\n",
    "            if l1.value <= l2.value:\n",
    "                tail.next = l1\n",
    "                l1 = l1.next\n",
    "            else:\n",
    "                tail.next = l2\n",
    "                l2 = l2.next\n",
    "            tail = tail.next\n",
    "\n",
    "        if l1:\n",
    "            tail.next = l1\n",
    "        if l2:\n",
    "            tail.next = l2\n",
    "\n",
    "        self.head = dummy.next\n",
    "\n",
    "list1 = LinkedList()\n",
    "for value in [1, 3, 5]:\n",
    "    list1.append(value)\n",
    "\n",
    "list2 = LinkedList()\n",
    "for value in [2, 4, 6]:\n",
    "    list2.append(value)\n",
    "\n",
    "print(\"List 1:\")\n",
    "list1.print_list()\n",
    "\n",
    "print(\"List 2:\")\n",
    "list2.print_list()\n",
    "\n",
    "list1.merge_sorted(list2)\n",
    "\n",
    "print(\"Merged list:\")\n",
    "list1.print_list()\n"
   ]
  },
  {
   "cell_type": "code",
   "execution_count": null,
   "id": "eea51fc8",
   "metadata": {},
   "outputs": [],
   "source": []
  },
  {
   "cell_type": "markdown",
   "id": "59bb704d",
   "metadata": {},
   "source": [
    "# Problem 3: Remove the nth node from the end of a linked list.\n",
    "\n",
    "Input: 1 -> 2 -> 3 -> 4 -> 5, n = 2\n",
    "\n",
    "Output: 1 -> 2 -> 3 -> 5"
   ]
  },
  {
   "cell_type": "code",
   "execution_count": 5,
   "id": "7c79ed66",
   "metadata": {},
   "outputs": [
    {
     "name": "stdout",
     "output_type": "stream",
     "text": [
      "Original list:\n",
      "1 -> 2 -> 3 -> 4 -> 5\n",
      "List after removing the 2nd node from the end:\n",
      "1 -> 2 -> 3 -> 5\n"
     ]
    }
   ],
   "source": [
    "class Node:\n",
    "    def __init__(self, value=0, next=None):\n",
    "        self.value = value\n",
    "        self.next = next\n",
    "\n",
    "class LinkedList:\n",
    "    def __init__(self):\n",
    "        self.head = None\n",
    "\n",
    "    def append(self, value):\n",
    "        if not self.head:\n",
    "            self.head = Node(value)\n",
    "        else:\n",
    "            current = self.head\n",
    "            while current.next:\n",
    "                current = current.next\n",
    "            current.next = Node(value)\n",
    "\n",
    "    def print_list(self):\n",
    "        current = self.head\n",
    "        while current:\n",
    "            print(current.value, end=\" -> \" if current.next else \"\\n\")\n",
    "            current = current.next\n",
    "\n",
    "    def remove_nth_from_end(self, n):\n",
    "        dummy = Node(0)\n",
    "        dummy.next = self.head\n",
    "        fast = slow = dummy\n",
    "\n",
    "        # Move fast pointer n+1 steps ahead\n",
    "        for _ in range(n + 1):\n",
    "            if fast:\n",
    "                fast = fast.next\n",
    "        \n",
    "        # Move both pointers until fast reaches the end\n",
    "        while fast:\n",
    "            fast = fast.next\n",
    "            slow = slow.next\n",
    "        \n",
    "        # Remove the nth node from end\n",
    "        slow.next = slow.next.next\n",
    "\n",
    "        self.head = dummy.next\n",
    "\n",
    "# Create and populate the linked list\n",
    "ll = LinkedList()\n",
    "for value in [1, 2, 3, 4, 5]:\n",
    "    ll.append(value)\n",
    "\n",
    "print(\"Original list:\")\n",
    "ll.print_list()\n",
    "\n",
    "# Remove the 2nd node from the end\n",
    "ll.remove_nth_from_end(2)\n",
    "\n",
    "print(\"List after removing the 2nd node from the end:\")\n",
    "ll.print_list()\n"
   ]
  },
  {
   "cell_type": "code",
   "execution_count": null,
   "id": "42c6de1f",
   "metadata": {},
   "outputs": [],
   "source": []
  },
  {
   "cell_type": "markdown",
   "id": "ff29fb01",
   "metadata": {},
   "source": [
    "# Problem 4: Find the intersection point of two linked lists.\n",
    "\n",
    "Input: List 1: 1 -> 2 -> 3 -> 4, List 2: 9 -> 8 -> 3 -> 4\n",
    "\n",
    "\n",
    "Output: Node with value 3"
   ]
  },
  {
   "cell_type": "code",
   "execution_count": 6,
   "id": "812125ff",
   "metadata": {},
   "outputs": [
    {
     "name": "stdout",
     "output_type": "stream",
     "text": [
      "List 1:\n",
      "1 -> 2 -> 3 -> 4 -> 3\n",
      "List 2:\n",
      "9 -> 8 -> 3\n",
      "Intersection node value: 3\n"
     ]
    }
   ],
   "source": [
    "class Node:\n",
    "    def __init__(self, value=0, next=None):\n",
    "        self.value = value\n",
    "        self.next = next\n",
    "\n",
    "class LinkedList:\n",
    "    def __init__(self):\n",
    "        self.head = None\n",
    "\n",
    "    def append(self, value):\n",
    "        if not self.head:\n",
    "            self.head = Node(value)\n",
    "        else:\n",
    "            current = self.head\n",
    "            while current.next:\n",
    "                current = current.next\n",
    "            current.next = Node(value)\n",
    "\n",
    "    def print_list(self):\n",
    "        current = self.head\n",
    "        while current:\n",
    "            print(current.value, end=\" -> \" if current.next else \"\\n\")\n",
    "            current = current.next\n",
    "\n",
    "    def get_length(self):\n",
    "        length = 0\n",
    "        current = self.head\n",
    "        while current:\n",
    "            length += 1\n",
    "            current = current.next\n",
    "        return length\n",
    "\n",
    "    def get_intersection_node(self, other):\n",
    "        len1 = self.get_length()\n",
    "        len2 = other.get_length()\n",
    "\n",
    "        # Find the difference in lengths\n",
    "        diff = abs(len1 - len2)\n",
    "        \n",
    "        # Set pointers for the two lists\n",
    "        ptr1 = self.head\n",
    "        ptr2 = other.head\n",
    "        \n",
    "        # Advance the pointer of the longer list by 'diff'\n",
    "        if len1 > len2:\n",
    "            for _ in range(diff):\n",
    "                ptr1 = ptr1.next\n",
    "        else:\n",
    "            for _ in range(diff):\n",
    "                ptr2 = ptr2.next\n",
    "        \n",
    "        # Traverse both lists until the intersection is found\n",
    "        while ptr1 and ptr2:\n",
    "            if ptr1 == ptr2:\n",
    "                return ptr1  # Return the intersection node\n",
    "            ptr1 = ptr1.next\n",
    "            ptr2 = ptr2.next\n",
    "        \n",
    "        return None  # No intersection\n",
    "\n",
    "# Create linked lists\n",
    "list1 = LinkedList()\n",
    "list2 = LinkedList()\n",
    "\n",
    "# Populate the first linked list\n",
    "for value in [1, 2, 3, 4]:\n",
    "    list1.append(value)\n",
    "\n",
    "# Populate the second linked list\n",
    "for value in [9, 8]:\n",
    "    list2.append(value)\n",
    "\n",
    "# Create intersection\n",
    "intersection_node = Node(3)\n",
    "list1.head.next.next.next.next = intersection_node\n",
    "list2.head.next.next = intersection_node\n",
    "\n",
    "# Print lists\n",
    "print(\"List 1:\")\n",
    "list1.print_list()\n",
    "\n",
    "print(\"List 2:\")\n",
    "list2.print_list()\n",
    "\n",
    "# Find intersection\n",
    "intersection = list1.get_intersection_node(list2)\n",
    "if intersection:\n",
    "    print(f\"Intersection node value: {intersection.value}\")\n",
    "else:\n",
    "    print(\"No intersection\")\n"
   ]
  },
  {
   "cell_type": "code",
   "execution_count": null,
   "id": "eeea4907",
   "metadata": {},
   "outputs": [],
   "source": []
  },
  {
   "cell_type": "markdown",
   "id": "43c79dd8",
   "metadata": {},
   "source": [
    "# Problem 5: Remove duplicates from a sorted linked list.\n",
    "\n",
    "Input: 1 -> 1 -> 2 -> 3 -> 3\n",
    "\n",
    "Output: 1 -> 2 -> 3"
   ]
  },
  {
   "cell_type": "code",
   "execution_count": 7,
   "id": "3e964d7a",
   "metadata": {},
   "outputs": [
    {
     "name": "stdout",
     "output_type": "stream",
     "text": [
      "Original list:\n",
      "1 -> 1 -> 2 -> 3 -> 3\n",
      "List after removing duplicates:\n",
      "1 -> 2 -> 3\n"
     ]
    }
   ],
   "source": [
    "class Node:\n",
    "    def __init__(self, value=0, next=None):\n",
    "        self.value = value\n",
    "        self.next = next\n",
    "\n",
    "class LinkedList:\n",
    "    def __init__(self):\n",
    "        self.head = None\n",
    "\n",
    "    def append(self, value):\n",
    "        if not self.head:\n",
    "            self.head = Node(value)\n",
    "        else:\n",
    "            current = self.head\n",
    "            while current.next:\n",
    "                current = current.next\n",
    "            current.next = Node(value)\n",
    "\n",
    "    def print_list(self):\n",
    "        current = self.head\n",
    "        while current:\n",
    "            print(current.value, end=\" -> \" if current.next else \"\\n\")\n",
    "            current = current.next\n",
    "\n",
    "    def remove_duplicates(self):\n",
    "        current = self.head\n",
    "        while current and current.next:\n",
    "            if current.value == current.next.value:\n",
    "                current.next = current.next.next\n",
    "            else:\n",
    "                current = current.next\n",
    "\n",
    "# Create and populate the linked list\n",
    "ll = LinkedList()\n",
    "for value in [1, 1, 2, 3, 3]:\n",
    "    ll.append(value)\n",
    "\n",
    "print(\"Original list:\")\n",
    "ll.print_list()\n",
    "\n",
    "# Remove duplicates\n",
    "ll.remove_duplicates()\n",
    "\n",
    "print(\"List after removing duplicates:\")\n",
    "ll.print_list()\n"
   ]
  },
  {
   "cell_type": "code",
   "execution_count": null,
   "id": "97f14c15",
   "metadata": {},
   "outputs": [],
   "source": []
  },
  {
   "cell_type": "markdown",
   "id": "89a40d02",
   "metadata": {},
   "source": [
    "# Problem 6: Add two numbers represented by linked lists (where each node contains a single digit).\n",
    "\n",
    "Input: List 1: 2 -> 4 -> 3, List 2: 5 -> 6 -> 4 (represents 342 + 465)\n",
    "\n",
    "Output: 7 -> 0 -> 8 (represents 807)"
   ]
  },
  {
   "cell_type": "code",
   "execution_count": 8,
   "id": "ebec044c",
   "metadata": {},
   "outputs": [
    {
     "name": "stdout",
     "output_type": "stream",
     "text": [
      "List 1:\n",
      "2 -> 4 -> 3\n",
      "List 2:\n",
      "5 -> 6 -> 4\n",
      "Sum of the two numbers:\n",
      "7 -> 0 -> 8\n"
     ]
    }
   ],
   "source": [
    "class Node:\n",
    "    def __init__(self, value=0, next=None):\n",
    "        self.value = value\n",
    "        self.next = next\n",
    "\n",
    "class LinkedList:\n",
    "    def __init__(self):\n",
    "        self.head = None\n",
    "\n",
    "    def append(self, value):\n",
    "        if not self.head:\n",
    "            self.head = Node(value)\n",
    "        else:\n",
    "            current = self.head\n",
    "            while current.next:\n",
    "                current = current.next\n",
    "            current.next = Node(value)\n",
    "\n",
    "    def print_list(self):\n",
    "        current = self.head\n",
    "        while current:\n",
    "            print(current.value, end=\" -> \" if current.next else \"\\n\")\n",
    "            current = current.next\n",
    "\n",
    "    def add_two_numbers(self, other):\n",
    "        dummy = Node(0)\n",
    "        p = self.head\n",
    "        q = other.head\n",
    "        current = dummy\n",
    "        carry = 0\n",
    "\n",
    "        while p or q or carry:\n",
    "            x = p.value if p else 0\n",
    "            y = q.value if q else 0\n",
    "            total = x + y + carry\n",
    "\n",
    "            carry = total // 10\n",
    "            current.next = Node(total % 10)\n",
    "            current = current.next\n",
    "\n",
    "            if p: p = p.next\n",
    "            if q: q = q.next\n",
    "\n",
    "        self.head = dummy.next\n",
    "\n",
    "# Create and populate the first linked list\n",
    "list1 = LinkedList()\n",
    "for value in [2, 4, 3]:  # Represents 342\n",
    "    list1.append(value)\n",
    "\n",
    "# Create and populate the second linked list\n",
    "list2 = LinkedList()\n",
    "for value in [5, 6, 4]:  # Represents 465\n",
    "    list2.append(value)\n",
    "\n",
    "print(\"List 1:\")\n",
    "list1.print_list()\n",
    "\n",
    "print(\"List 2:\")\n",
    "list2.print_list()\n",
    "\n",
    "# Add the two numbers\n",
    "list1.add_two_numbers(list2)\n",
    "\n",
    "print(\"Sum of the two numbers:\")\n",
    "list1.print_list()\n"
   ]
  },
  {
   "cell_type": "code",
   "execution_count": null,
   "id": "9ba86717",
   "metadata": {},
   "outputs": [],
   "source": []
  },
  {
   "cell_type": "markdown",
   "id": "0e8e22e6",
   "metadata": {},
   "source": [
    "# Find the peak element in an array. A peak element is greater than its neighbors.\n",
    "\n",
    "Input: nums = [1, 2, 3, 1]\n",
    "\n",
    "Output: 2 (index of peak element)"
   ]
  },
  {
   "cell_type": "code",
   "execution_count": 9,
   "id": "b8975795",
   "metadata": {},
   "outputs": [
    {
     "name": "stdout",
     "output_type": "stream",
     "text": [
      "Peak element is at index 2, value: 3\n"
     ]
    }
   ],
   "source": [
    "def find_peak_element(nums):\n",
    "    def binary_search_peak(left, right):\n",
    "        mid = (left + right) // 2\n",
    "        if (mid == 0 or nums[mid] > nums[mid - 1]) and (mid == len(nums) - 1 or nums[mid] > nums[mid + 1]):\n",
    "            return mid\n",
    "        elif mid > 0 and nums[mid] < nums[mid - 1]:\n",
    "            return binary_search_peak(left, mid - 1)\n",
    "        else:\n",
    "            return binary_search_peak(mid + 1, right)\n",
    "    \n",
    "    return binary_search_peak(0, len(nums) - 1)\n",
    "\n",
    "nums = [1, 2, 3, 1]\n",
    "peak_index = find_peak_element(nums)\n",
    "print(f\"Peak element is at index {peak_index}, value: {nums[peak_index]}\")\n"
   ]
  },
  {
   "cell_type": "code",
   "execution_count": null,
   "id": "fdc8dc15",
   "metadata": {},
   "outputs": [],
   "source": []
  },
  {
   "cell_type": "markdown",
   "id": "e13de790",
   "metadata": {},
   "source": [
    "# Given a 2D matrix sorted in ascending order in each row, and the first integer of each row is greater than the last integer of the previous row, determine if a target value is present in the matrix.\n",
    "\n",
    "Input: matrix = [[1, 3, 5, 7], [10, 11, 16, 20], [23, 30, 34, 60]], target = 3\n",
    "\n",
    "Output: True"
   ]
  },
  {
   "cell_type": "code",
   "execution_count": 10,
   "id": "fa9eaab0",
   "metadata": {},
   "outputs": [
    {
     "name": "stdout",
     "output_type": "stream",
     "text": [
      "True\n"
     ]
    }
   ],
   "source": [
    "def search_matrix(matrix, target):\n",
    "    if not matrix or not matrix[0]:\n",
    "        return False\n",
    "    \n",
    "    rows, cols = len(matrix), len(matrix[0])\n",
    "    left, right = 0, rows * cols - 1\n",
    "    \n",
    "    while left <= right:\n",
    "        mid = (left + right) // 2\n",
    "        mid_value = matrix[mid // cols][mid % cols]\n",
    "        \n",
    "        if mid_value == target:\n",
    "            return True\n",
    "        elif mid_value < target:\n",
    "            left = mid + 1\n",
    "        else:\n",
    "            right = mid - 1\n",
    "    \n",
    "    return False\n",
    "\n",
    "# Example usage\n",
    "matrix = [[1, 3, 5, 7], [10, 11, 16, 20], [23, 30, 34, 60]]\n",
    "target = 3\n",
    "result = search_matrix(matrix, target)\n",
    "print(result)\n"
   ]
  },
  {
   "cell_type": "code",
   "execution_count": null,
   "id": "2ad0e4e9",
   "metadata": {},
   "outputs": [],
   "source": []
  },
  {
   "cell_type": "markdown",
   "id": "bc6f18fc",
   "metadata": {},
   "source": [
    "# Given a sorted character array and a target letter, find the smallest letter in the array that is greater than the target.\n",
    "\n",
    "Input: letters = ['c', 'f', 'j'], target = a\n",
    "\n",
    "Output: 'c'"
   ]
  },
  {
   "cell_type": "code",
   "execution_count": 11,
   "id": "07096611",
   "metadata": {},
   "outputs": [
    {
     "name": "stdout",
     "output_type": "stream",
     "text": [
      "c\n"
     ]
    }
   ],
   "source": [
    "def next_greatest_letter(letters, target):\n",
    "    left, right = 0, len(letters)\n",
    "    \n",
    "    while left < right:\n",
    "        mid = (left + right) // 2\n",
    "        if letters[mid] <= target:\n",
    "            left = mid + 1\n",
    "        else:\n",
    "            right = mid\n",
    "    \n",
    "    return letters[left % len(letters)]\n",
    "\n",
    "# Example usage\n",
    "letters = ['c', 'f', 'j']\n",
    "target = 'a'\n",
    "result = next_greatest_letter(letters, target)\n",
    "print(result)\n"
   ]
  },
  {
   "cell_type": "code",
   "execution_count": null,
   "id": "ec977911",
   "metadata": {},
   "outputs": [],
   "source": []
  },
  {
   "cell_type": "markdown",
   "id": "c9b5a68c",
   "metadata": {},
   "source": [
    "# Find the kth largest element in an unsorted array.\n",
    "\n",
    "Input: nums = [3, 2, 1, 5, 6, 4], k = 2\n",
    "\n",
    "Output: 5"
   ]
  },
  {
   "cell_type": "code",
   "execution_count": 13,
   "id": "16a761de",
   "metadata": {},
   "outputs": [
    {
     "name": "stdout",
     "output_type": "stream",
     "text": [
      "5\n"
     ]
    }
   ],
   "source": [
    "def find_kth_largest(nums, k):\n",
    "    nums.sort(reverse=True)\n",
    "    return nums[k - 1]\n",
    "\n",
    "nums = [3, 2, 1, 5, 6, 4]\n",
    "k = 2\n",
    "result = find_kth_largest(nums, k)\n",
    "print(result)\n"
   ]
  },
  {
   "cell_type": "code",
   "execution_count": null,
   "id": "50955d6f",
   "metadata": {},
   "outputs": [],
   "source": []
  },
  {
   "cell_type": "markdown",
   "id": "9e99e5fc",
   "metadata": {},
   "source": [
    "# Given an unsorted array, reorder it in-place such that nums[0] <= nums[1] >= nums[2] <= nums[3]...\n",
    "\n",
    "Input: nums = [3, 5, 2, 1, 6, 4]\n",
    "\n",
    "Output: [3, 5, 1, 6, 2, 4]"
   ]
  },
  {
   "cell_type": "code",
   "execution_count": 14,
   "id": "972ceeb7",
   "metadata": {},
   "outputs": [
    {
     "name": "stdout",
     "output_type": "stream",
     "text": [
      "[5, 2, 3, 1, 6, 4]\n"
     ]
    }
   ],
   "source": [
    "def wiggle_sort(nums):\n",
    "    for i in range(len(nums)):\n",
    "        if i % 2 == 0:\n",
    "            if i > 0 and nums[i] < nums[i - 1]:\n",
    "                nums[i], nums[i - 1] = nums[i - 1], nums[i]\n",
    "        else:\n",
    "            if i > 0 and nums[i] > nums[i - 1]:\n",
    "                nums[i], nums[i - 1] = nums[i - 1], nums[i]\n",
    "\n",
    "# Example usage\n",
    "nums = [3, 5, 2, 1, 6, 4]\n",
    "wiggle_sort(nums)\n",
    "print(nums)\n"
   ]
  },
  {
   "cell_type": "code",
   "execution_count": null,
   "id": "aa446888",
   "metadata": {},
   "outputs": [],
   "source": []
  },
  {
   "cell_type": "markdown",
   "id": "36d2bb11",
   "metadata": {},
   "source": [
    "# Given an array of integers, calculate the sum of all its elements.\n",
    "\n",
    "Input: [1, 2, 3, 4, 5]\n",
    "\n",
    "Output: 15"
   ]
  },
  {
   "cell_type": "code",
   "execution_count": 15,
   "id": "97c16bf9",
   "metadata": {},
   "outputs": [
    {
     "name": "stdout",
     "output_type": "stream",
     "text": [
      "15\n"
     ]
    }
   ],
   "source": [
    "def sum_of_elements(arr):\n",
    "    return sum(arr)\n",
    "\n",
    "# Example usage\n",
    "arr = [1, 2, 3, 4, 5]\n",
    "result = sum_of_elements(arr)\n",
    "print(result)\n"
   ]
  },
  {
   "cell_type": "code",
   "execution_count": null,
   "id": "8f9b0fcb",
   "metadata": {},
   "outputs": [],
   "source": []
  },
  {
   "cell_type": "markdown",
   "id": "393ab45f",
   "metadata": {},
   "source": [
    "# Calculate the factorial of a given number.\n",
    "\n",
    "Input: 5\n",
    "\n",
    "Output: 120 (as 5! = 5 * 4 * 3 * 2 * 1 = 120)"
   ]
  },
  {
   "cell_type": "code",
   "execution_count": 18,
   "id": "c8490997",
   "metadata": {},
   "outputs": [
    {
     "name": "stdout",
     "output_type": "stream",
     "text": [
      "120\n"
     ]
    }
   ],
   "source": [
    "def factorial_recursive(n):\n",
    "    if n == 0 or n == 1:\n",
    "        return 1\n",
    "    else:\n",
    "        return n * factorial_recursive(n - 1)\n",
    "\n",
    "# Example usage\n",
    "number = 5\n",
    "print(factorial_recursive(number))\n"
   ]
  },
  {
   "cell_type": "code",
   "execution_count": null,
   "id": "00ed9e07",
   "metadata": {},
   "outputs": [],
   "source": []
  },
  {
   "cell_type": "markdown",
   "id": "7474c447",
   "metadata": {},
   "source": [
    "# Generate the Fibonacci series up to a given number n.\n",
    "\n",
    "Input: 8\n",
    "\n",
    "Output: [0, 1, 1, 2, 3, 5, 8, 13]\n"
   ]
  },
  {
   "cell_type": "code",
   "execution_count": 19,
   "id": "dc74c661",
   "metadata": {},
   "outputs": [
    {
     "name": "stdout",
     "output_type": "stream",
     "text": [
      "[0, 1, 1, 2, 3, 5, 8]\n"
     ]
    }
   ],
   "source": [
    "def generate_fibonacci_up_to(n):\n",
    "    if n < 0:\n",
    "        return []\n",
    "    \n",
    "    fibonacci_series = [0, 1]\n",
    "    \n",
    "    while True:\n",
    "        next_number = fibonacci_series[-1] + fibonacci_series[-2]\n",
    "        if next_number > n:\n",
    "            break\n",
    "        fibonacci_series.append(next_number)\n",
    "    \n",
    "    return fibonacci_series\n",
    "\n",
    "# Example usage\n",
    "number = 8\n",
    "result = generate_fibonacci_up_to(number)\n",
    "print(result)\n"
   ]
  },
  {
   "cell_type": "code",
   "execution_count": null,
   "id": "e6331a69",
   "metadata": {},
   "outputs": [],
   "source": []
  },
  {
   "cell_type": "markdown",
   "id": "2423c67b",
   "metadata": {},
   "source": [
    "# Reverse a given string.\n",
    "\n",
    "Input: \"hello\"\n",
    "\n",
    "Output: \"olleh\""
   ]
  },
  {
   "cell_type": "code",
   "execution_count": 20,
   "id": "4437044d",
   "metadata": {},
   "outputs": [
    {
     "name": "stdout",
     "output_type": "stream",
     "text": [
      "olleh\n"
     ]
    }
   ],
   "source": [
    "def reverse_string(s):\n",
    "    return s[::-1]\n",
    "\n",
    "# Example usage\n",
    "input_string = \"hello\"\n",
    "output_string = reverse_string(input_string)\n",
    "print(output_string)\n"
   ]
  },
  {
   "cell_type": "code",
   "execution_count": null,
   "id": "3486b95f",
   "metadata": {},
   "outputs": [],
   "source": []
  },
  {
   "cell_type": "code",
   "execution_count": null,
   "id": "82db4d9d",
   "metadata": {},
   "outputs": [],
   "source": []
  },
  {
   "cell_type": "code",
   "execution_count": null,
   "id": "61e5a0be",
   "metadata": {},
   "outputs": [],
   "source": []
  },
  {
   "cell_type": "code",
   "execution_count": null,
   "id": "216a639f",
   "metadata": {},
   "outputs": [],
   "source": []
  },
  {
   "cell_type": "code",
   "execution_count": null,
   "id": "2a723ace",
   "metadata": {},
   "outputs": [],
   "source": []
  }
 ],
 "metadata": {
  "kernelspec": {
   "display_name": "Python 3 (ipykernel)",
   "language": "python",
   "name": "python3"
  },
  "language_info": {
   "codemirror_mode": {
    "name": "ipython",
    "version": 3
   },
   "file_extension": ".py",
   "mimetype": "text/x-python",
   "name": "python",
   "nbconvert_exporter": "python",
   "pygments_lexer": "ipython3",
   "version": "3.9.13"
  }
 },
 "nbformat": 4,
 "nbformat_minor": 5
}
