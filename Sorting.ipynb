{
 "cells": [
  {
   "cell_type": "markdown",
   "id": "cac7c03b",
   "metadata": {},
   "source": [
    "###### 1.Given an array of n numbers, give an algorithm which gives the element appearing maximum number of times?"
   ]
  },
  {
   "cell_type": "code",
   "execution_count": 27,
   "id": "a801eeee",
   "metadata": {},
   "outputs": [],
   "source": [
    "def maximum_repeat(arr):\n",
    "    dic = {}\n",
    "    for num in arr:\n",
    "        if num in dic:\n",
    "            dic[num] += 1\n",
    "        else:\n",
    "            dic[num] = 1\n",
    "            \n",
    "    max_key = 0\n",
    "    max_value = 0\n",
    "    for key,value in dic.items():\n",
    "        if max_value < value:\n",
    "            max_key = key\n",
    "            max_value = value\n",
    "        \n",
    "    return f'Max Key :- {max_key} Max Value :- {max_value}'"
   ]
  },
  {
   "cell_type": "code",
   "execution_count": 28,
   "id": "e4726611",
   "metadata": {},
   "outputs": [
    {
     "data": {
      "text/plain": [
       "'Max Key :- 1 Max Value :- 7'"
      ]
     },
     "execution_count": 28,
     "metadata": {},
     "output_type": "execute_result"
    }
   ],
   "source": [
    "maximum_repeat([1,5,6,2,4,8,3,3,1,2,2,1,1,1,1,1])"
   ]
  },
  {
   "cell_type": "markdown",
   "id": "3e912b8d",
   "metadata": {},
   "source": [
    "###### We are given a list of n-1 integers and these integers are in the range of 1 to n . There are no duplicates in the list. One of the integers is missing in the list. Give an algorithm to find that element Ex: [1,2,4,6,3,7,8] 5 is the missing num."
   ]
  },
  {
   "cell_type": "code",
   "execution_count": 50,
   "id": "8245d2d2",
   "metadata": {},
   "outputs": [],
   "source": [
    "def find_missing_num(arr):\n",
    "    for i,j in zip(range(1,len(arr)+1),arr):\n",
    "        if i != j:\n",
    "            return i\n",
    "\n",
    "    return f\"No Missing Value\""
   ]
  },
  {
   "cell_type": "code",
   "execution_count": 51,
   "id": "efee0e68",
   "metadata": {},
   "outputs": [
    {
     "data": {
      "text/plain": [
       "8"
      ]
     },
     "execution_count": 51,
     "metadata": {},
     "output_type": "execute_result"
    }
   ],
   "source": [
    "find_missing_num([1,2,3,4,5,6,7,9,10])"
   ]
  },
  {
   "cell_type": "markdown",
   "id": "65c4cd1e",
   "metadata": {},
   "source": [
    "###### Problem 3 : Given an array of n positive numbers. All numbers occurs even number of times except 1 which occurs odd number of times. Find that number in O(n) time and O(1) space. Ex: [1,2,3,2,3,1,3]. 3 is repeats odd times."
   ]
  },
  {
   "cell_type": "code",
   "execution_count": 56,
   "id": "09f881bd",
   "metadata": {},
   "outputs": [],
   "source": [
    "def odd_times(arr):\n",
    "    dic = {}\n",
    "    for num in arr:\n",
    "        if num in dic:\n",
    "            dic[num] += 1\n",
    "        else:\n",
    "            dic[num] = 1\n",
    "            \n",
    "    for key,value in dic.items():\n",
    "        if value % 2 != 0:\n",
    "            return f\"{key} is repeats odd times\"\n",
    "    return dic"
   ]
  },
  {
   "cell_type": "code",
   "execution_count": 60,
   "id": "5b738433",
   "metadata": {},
   "outputs": [
    {
     "data": {
      "text/plain": [
       "'5 is repeats odd times'"
      ]
     },
     "execution_count": 60,
     "metadata": {},
     "output_type": "execute_result"
    }
   ],
   "source": [
    "odd_times([1,2,3,2,5,1,4,2,3,4,5,2,5])"
   ]
  },
  {
   "cell_type": "markdown",
   "id": "aa0bfcee",
   "metadata": {},
   "source": [
    "###### Given an array of n elements. Find two elements in the array such that their sum is equal to given element K."
   ]
  },
  {
   "cell_type": "code",
   "execution_count": 74,
   "id": "77b56cfe",
   "metadata": {},
   "outputs": [],
   "source": [
    "def given_element_sum(arr,k):\n",
    "    for i in arr:\n",
    "        for j in arr:\n",
    "            if i + j == k:\n",
    "                return f\"{i} {j}\"\n",
    "            \n",
    "    return \"No Match\""
   ]
  },
  {
   "cell_type": "code",
   "execution_count": 76,
   "id": "f96f34fb",
   "metadata": {},
   "outputs": [
    {
     "data": {
      "text/plain": [
       "'6 7'"
      ]
     },
     "execution_count": 76,
     "metadata": {},
     "output_type": "execute_result"
    }
   ],
   "source": [
    "given_element_sum([1,6,7,5,4,2,9],13)"
   ]
  },
  {
   "cell_type": "markdown",
   "id": "09bde535",
   "metadata": {},
   "source": [
    "###### Given an array of n elements . Find three elements such that their sum is equal to the given number."
   ]
  },
  {
   "cell_type": "code",
   "execution_count": 81,
   "id": "f56df346",
   "metadata": {},
   "outputs": [],
   "source": [
    "def three_element_sum(arr,k):\n",
    "    for i in arr:\n",
    "        for j in arr:\n",
    "            for l in arr:\n",
    "                if l + j + i == k:\n",
    "                    return f\"{i} {j} {l}\"\n",
    "    return 'No Number Find'"
   ]
  },
  {
   "cell_type": "code",
   "execution_count": 82,
   "id": "a24a7a74",
   "metadata": {},
   "outputs": [
    {
     "data": {
      "text/plain": [
       "'1 6 5'"
      ]
     },
     "execution_count": 82,
     "metadata": {},
     "output_type": "execute_result"
    }
   ],
   "source": [
    "three_element_sum([1,6,7,5,4,2,9],12)"
   ]
  },
  {
   "cell_type": "markdown",
   "id": "9a64dbea",
   "metadata": {},
   "source": [
    "###### Given an array of n elements . Find three elements i, j, k in the array such that i * i + j * j = k*k."
   ]
  },
  {
   "cell_type": "code",
   "execution_count": 84,
   "id": "39c44ac3",
   "metadata": {},
   "outputs": [],
   "source": [
    "def three_element(arr):\n",
    "    for i in arr:\n",
    "        for j in arr:\n",
    "            for k in arr:\n",
    "                if (i*i) + (j*j) == k*k:\n",
    "                    return f\"{i} {j} {k}\"\n",
    "    return \"No Match\""
   ]
  },
  {
   "cell_type": "code",
   "execution_count": 86,
   "id": "36f5a657",
   "metadata": {},
   "outputs": [
    {
     "data": {
      "text/plain": [
       "'3 4 5'"
      ]
     },
     "execution_count": 86,
     "metadata": {},
     "output_type": "execute_result"
    }
   ],
   "source": [
    "three_element([1,2,3,2,5,1,4,2,3,4,5,2,5])"
   ]
  },
  {
   "cell_type": "markdown",
   "id": "e377134f",
   "metadata": {},
   "source": [
    "###### An element is a majority if it appears more than n/2 times. Give an algorithm takes an array of n element as argument and identifies a majority (if it exists)."
   ]
  },
  {
   "cell_type": "code",
   "execution_count": 1,
   "id": "aa91d3d1",
   "metadata": {},
   "outputs": [],
   "source": [
    "def check_majority(arr):\n",
    "    majority = len(arr)/2\n",
    "    dic = {}\n",
    "    for num in arr:\n",
    "        if num in dic:\n",
    "            dic[num] += 1\n",
    "        else:\n",
    "            dic[num] = 1\n",
    "            \n",
    "    for key,value in dic.items():\n",
    "        if value > majority:\n",
    "            print(f\"{key} have majority\")\n",
    "            "
   ]
  },
  {
   "cell_type": "code",
   "execution_count": 101,
   "id": "faa49eb2",
   "metadata": {},
   "outputs": [
    {
     "name": "stdout",
     "output_type": "stream",
     "text": [
      "9.5\n",
      "{1: 2, 2: 10, 23: 1, 5: 3, 4: 2, 3: 1}\n",
      "2 have majority\n"
     ]
    }
   ],
   "source": [
    "check_majority([1,2,2,2,23,2,5,2,1,2,4,2,3,2,4,5,2,5,2])"
   ]
  }
 ],
 "metadata": {
  "kernelspec": {
   "display_name": "Python 3 (ipykernel)",
   "language": "python",
   "name": "python3"
  },
  "language_info": {
   "codemirror_mode": {
    "name": "ipython",
    "version": 3
   },
   "file_extension": ".py",
   "mimetype": "text/x-python",
   "name": "python",
   "nbconvert_exporter": "python",
   "pygments_lexer": "ipython3",
   "version": "3.9.13"
  }
 },
 "nbformat": 4,
 "nbformat_minor": 5
}
