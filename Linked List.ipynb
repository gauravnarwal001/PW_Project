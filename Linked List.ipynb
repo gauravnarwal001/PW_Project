{
 "cells": [
  {
   "cell_type": "markdown",
   "id": "fb2a19bf",
   "metadata": {},
   "source": [
    "## create linked list class"
   ]
  },
  {
   "cell_type": "code",
   "execution_count": 22,
   "id": "eb2c1e13",
   "metadata": {},
   "outputs": [],
   "source": [
    "class Node:\n",
    "    def __init__(self,data,next = None):\n",
    "        self.data = data\n",
    "        self.next = next\n",
    "        \n",
    "    def getnext(self):\n",
    "        return self.next\n",
    "    \n",
    "    def setnext(self,next):\n",
    "        self.next = next\n",
    "        \n",
    "    def getdata(self):\n",
    "        return self.data\n",
    "    \n",
    "    def setdata(self,data):\n",
    "        self.data = data"
   ]
  },
  {
   "cell_type": "code",
   "execution_count": 35,
   "id": "1a0ee377",
   "metadata": {},
   "outputs": [],
   "source": [
    "head = Node(1)\n",
    "node1 = Node(2)\n",
    "node2 = Node(3)\n",
    "node3 = Node(4)\n",
    "node4 = Node(5)\n",
    "node5 = Node(6)\n",
    "node6 = Node(7)"
   ]
  },
  {
   "cell_type": "code",
   "execution_count": 36,
   "id": "06142d4b",
   "metadata": {},
   "outputs": [],
   "source": [
    "head.setnext(node1)\n",
    "node1.setnext(node2)\n",
    "node2.setnext(node3)\n",
    "node3.setnext(node4)\n",
    "node4.setnext(node5)\n",
    "node5.setnext(node6)\n"
   ]
  },
  {
   "cell_type": "code",
   "execution_count": 37,
   "id": "85968f2e",
   "metadata": {},
   "outputs": [
    {
     "data": {
      "text/plain": [
       "2"
      ]
     },
     "execution_count": 37,
     "metadata": {},
     "output_type": "execute_result"
    }
   ],
   "source": [
    "head.getnext().getdata()"
   ]
  },
  {
   "cell_type": "code",
   "execution_count": 38,
   "id": "dbb28c74",
   "metadata": {},
   "outputs": [
    {
     "data": {
      "text/plain": [
       "2"
      ]
     },
     "execution_count": 38,
     "metadata": {},
     "output_type": "execute_result"
    }
   ],
   "source": [
    "head.getnext().getdata()"
   ]
  },
  {
   "cell_type": "code",
   "execution_count": 52,
   "id": "4c0157c0",
   "metadata": {},
   "outputs": [],
   "source": [
    "def print_ll(head):\n",
    "    temp = head\n",
    "    while temp:\n",
    "        print(temp.getdata(),end = '->')\n",
    "        temp = temp.getnext()\n",
    "        "
   ]
  },
  {
   "cell_type": "code",
   "execution_count": 53,
   "id": "65ed84fd",
   "metadata": {},
   "outputs": [
    {
     "name": "stdout",
     "output_type": "stream",
     "text": [
      "1->2->3->4->5->0->6->7->"
     ]
    }
   ],
   "source": [
    "print_ll(head)"
   ]
  },
  {
   "cell_type": "code",
   "execution_count": 44,
   "id": "7585be9c",
   "metadata": {},
   "outputs": [
    {
     "data": {
      "text/plain": [
       "1"
      ]
     },
     "execution_count": 44,
     "metadata": {},
     "output_type": "execute_result"
    }
   ],
   "source": [
    "head.getdata()"
   ]
  },
  {
   "cell_type": "code",
   "execution_count": 45,
   "id": "294514b8",
   "metadata": {},
   "outputs": [],
   "source": [
    "def length(head):\n",
    "    count = 0\n",
    "    temp = head\n",
    "    while temp:\n",
    "        count = count + 1\n",
    "        temp = temp.getnext()\n",
    "        \n",
    "    return count"
   ]
  },
  {
   "cell_type": "code",
   "execution_count": 46,
   "id": "177c77bf",
   "metadata": {},
   "outputs": [
    {
     "data": {
      "text/plain": [
       "7"
      ]
     },
     "execution_count": 46,
     "metadata": {},
     "output_type": "execute_result"
    }
   ],
   "source": [
    "length(head)"
   ]
  },
  {
   "cell_type": "code",
   "execution_count": 54,
   "id": "0df38397",
   "metadata": {},
   "outputs": [],
   "source": [
    "def print_using_recursion(head):\n",
    "    temp = head\n",
    "    if not temp:\n",
    "        return \n",
    "    \n",
    "    print(temp.getdata(),end = '->')\n",
    "    print_using_recursion(temp.getnext())"
   ]
  },
  {
   "cell_type": "code",
   "execution_count": 55,
   "id": "4fcf7c8c",
   "metadata": {},
   "outputs": [
    {
     "name": "stdout",
     "output_type": "stream",
     "text": [
      "1->2->3->4->5->0->6->7->"
     ]
    }
   ],
   "source": [
    "print_using_recursion(head)"
   ]
  },
  {
   "cell_type": "code",
   "execution_count": 60,
   "id": "6a9c2501",
   "metadata": {},
   "outputs": [],
   "source": [
    "# Insert node with place number\n",
    "\n",
    "def insert_node(head,data,k):\n",
    "    temp = head\n",
    "    if (k < 0) or (k > length(temp)):\n",
    "        return f' Wrong K value'\n",
    "    \n",
    "    for i in range(k-2):\n",
    "        temp = temp.getnext()\n",
    "        \n",
    "    new_node = Node(data)\n",
    "    next_node = temp.getnext()\n",
    "    temp.setnext(new_node)\n",
    "    new_node.setnext(next_node)\n",
    "    return head"
   ]
  },
  {
   "cell_type": "code",
   "execution_count": 61,
   "id": "2ddd90d8",
   "metadata": {},
   "outputs": [
    {
     "name": "stdout",
     "output_type": "stream",
     "text": [
      "1->2->3->4->5->6->7->\n",
      "1->2->3->0->4->5->6->7->"
     ]
    }
   ],
   "source": [
    "head = Node(1)\n",
    "node1 = Node(2)\n",
    "node2 = Node(3)\n",
    "node3 = Node(4)\n",
    "node4 = Node(5)\n",
    "node5 = Node(6)\n",
    "node6 = Node(7)\n",
    "\n",
    "\n",
    "head.setnext(node1)\n",
    "node1.setnext(node2)\n",
    "node2.setnext(node3)\n",
    "node3.setnext(node4)\n",
    "node4.setnext(node5)\n",
    "node5.setnext(node6)\n",
    "\n",
    "\n",
    "print_ll(head)\n",
    "print()\n",
    "i = insert_node(head,0,4)\n",
    "print_ll(i)"
   ]
  },
  {
   "cell_type": "code",
   "execution_count": 62,
   "id": "e42724a0",
   "metadata": {},
   "outputs": [],
   "source": [
    "def deleteNode(head,place):\n",
    "    temp = head\n",
    "    if (place < 0) or ( place > length(temp)):\n",
    "        return f'Your place value is wrong'\n",
    "    \n",
    "    for i in range(place-2):\n",
    "        temp = temp.getnext()\n",
    "        \n",
    "    remove_node = temp.getnext().getdata()\n",
    "    \n",
    "    temp.setnext(temp.getnext().getnext())\n",
    "    \n",
    "    return remove_node"
   ]
  },
  {
   "cell_type": "code",
   "execution_count": 67,
   "id": "96e65599",
   "metadata": {},
   "outputs": [
    {
     "name": "stdout",
     "output_type": "stream",
     "text": [
      "1->2->3->4->5->6->7->\n",
      "1->2->4->5->6->7->"
     ]
    }
   ],
   "source": [
    "head = Node(1)\n",
    "node1 = Node(2)\n",
    "node2 = Node(3)\n",
    "node3 = Node(4)\n",
    "node4 = Node(5)\n",
    "node5 = Node(6)\n",
    "node6 = Node(7)\n",
    "\n",
    "\n",
    "head.setnext(node1)\n",
    "node1.setnext(node2)\n",
    "node2.setnext(node3)\n",
    "node3.setnext(node4)\n",
    "node4.setnext(node5)\n",
    "node5.setnext(node6)\n",
    "\n",
    "\n",
    "print_ll(head)\n",
    "print()\n",
    "deleteNode(head,3)\n",
    "print_ll(head)"
   ]
  },
  {
   "cell_type": "code",
   "execution_count": 71,
   "id": "ad9ec5ba",
   "metadata": {},
   "outputs": [],
   "source": [
    "def add_last_node(head,node):\n",
    "    temp = head\n",
    "    \n",
    "    while temp.getnext():\n",
    "        temp = temp.getnext()\n",
    "        \n",
    "    new_node = Node(node)\n",
    "    temp.setnext(new_node)\n",
    "    return head"
   ]
  },
  {
   "cell_type": "code",
   "execution_count": 72,
   "id": "a1b15801",
   "metadata": {},
   "outputs": [
    {
     "name": "stdout",
     "output_type": "stream",
     "text": [
      "1->2->3->4->5->6->7->\n",
      "1->2->3->4->5->6->7->8->"
     ]
    }
   ],
   "source": [
    "head = Node(1)\n",
    "node1 = Node(2)\n",
    "node2 = Node(3)\n",
    "node3 = Node(4)\n",
    "node4 = Node(5)\n",
    "node5 = Node(6)\n",
    "node6 = Node(7)\n",
    "\n",
    "\n",
    "head.setnext(node1)\n",
    "node1.setnext(node2)\n",
    "node2.setnext(node3)\n",
    "node3.setnext(node4)\n",
    "node4.setnext(node5)\n",
    "node5.setnext(node6)\n",
    "\n",
    "print_ll(head)\n",
    "print()\n",
    "i = add_last_node(head,8)\n",
    "print_ll(i)"
   ]
  },
  {
   "cell_type": "code",
   "execution_count": 86,
   "id": "88035650",
   "metadata": {},
   "outputs": [],
   "source": [
    "def add_first_node(head,node):\n",
    "    \n",
    "    new_node = Node(node)\n",
    "    \n",
    "    head = new_node.setnext(head)\n",
    "    return new_node"
   ]
  },
  {
   "cell_type": "code",
   "execution_count": 87,
   "id": "ead6670e",
   "metadata": {},
   "outputs": [],
   "source": [
    "j=add_first_node(head,10)"
   ]
  },
  {
   "cell_type": "code",
   "execution_count": 88,
   "id": "fdac2397",
   "metadata": {},
   "outputs": [
    {
     "name": "stdout",
     "output_type": "stream",
     "text": [
      "10->1->2->3->4->5->6->7->8->"
     ]
    }
   ],
   "source": [
    "print_ll(j)"
   ]
  },
  {
   "cell_type": "code",
   "execution_count": null,
   "id": "57586438",
   "metadata": {},
   "outputs": [],
   "source": []
  },
  {
   "cell_type": "markdown",
   "id": "e68c1a9e",
   "metadata": {},
   "source": [
    "## Full Linked List Class"
   ]
  },
  {
   "cell_type": "code",
   "execution_count": 458,
   "id": "317e951e",
   "metadata": {},
   "outputs": [],
   "source": [
    "class Node:\n",
    "    def __init__(self,data,next = None):\n",
    "        self.data = data\n",
    "        self.next = next\n",
    "        self.head = None\n",
    "        \n",
    "        \n",
    "            \n",
    "    def getdata(self):\n",
    "        return self.data\n",
    "    \n",
    "    def setdata(self,data):\n",
    "        self.data = data\n",
    "        \n",
    "    def getnext(self):\n",
    "        return self.next\n",
    "    \n",
    "    def setnext(self,next):\n",
    "        self.next = next\n",
    "        \n",
    "    # print the linked list values\n",
    "    def print_ll(self):\n",
    "        temp = self\n",
    "        \n",
    "        while temp:\n",
    "            print(temp.getdata(),end = '->')\n",
    "            temp = temp.getnext()\n",
    "            \n",
    "    # show the length of the linked list\n",
    "    def length(self):\n",
    "        temp = self\n",
    "        count = 0\n",
    "        while temp:\n",
    "            count += 1\n",
    "            temp = temp.getnext()\n",
    "            \n",
    "        return count\n",
    "    \n",
    "    def delete(self,index):\n",
    "        temp = self\n",
    "        \n",
    "        if index > self.length() - 1:\n",
    "            return 'Check your index value'\n",
    "        \n",
    "        if index == 0:\n",
    "            self.head = self.getnext()\n",
    "\n",
    "            remove = temp.getdata()\n",
    "                        \n",
    "            return self.head\n",
    "        \n",
    "        else:\n",
    "        \n",
    "        \n",
    "            for i in range(index-1):\n",
    "                temp = temp.getnext()\n",
    "\n",
    "            # deleted Node \n",
    "            remove = temp.getnext().getdata()\n",
    "\n",
    "            temp.setnext(temp.getnext().getnext())\n",
    "\n",
    "            return remove\n",
    "        \n",
    "    \n",
    "    def insert(self,data,index):\n",
    "        temp = self\n",
    "        for i in range(index-1):\n",
    "            temp = temp.getnext()\n",
    "            \n",
    "        new_node = Node(data)\n",
    "        \n",
    "        new_node.setnext(temp.getnext())\n",
    "        temp.setnext(new_node)\n",
    "        \n",
    "        return f'{data} is insert Successfully'\n",
    "        \n",
    "        \n",
    "    def remove_with_index(self,index):\n",
    "        temp = self\n",
    "        for i in range(index-1):\n",
    "            temp = temp.getnext()\n",
    "            \n",
    "        remove = temp.getnext().getdata()\n",
    "        temp.setnext(temp.getnext().getnext())\n",
    "        return remove"
   ]
  },
  {
   "cell_type": "code",
   "execution_count": 459,
   "id": "e1085586",
   "metadata": {},
   "outputs": [],
   "source": [
    "head = Node(1)\n",
    "node1 = Node(2)\n",
    "node2 = Node(3)\n",
    "node3 = Node(4)\n",
    "node4 = Node(5)\n",
    "node5 = Node(6)\n",
    "node6 = Node(7)\n",
    "\n",
    "\n",
    "head.setnext(node1)\n",
    "node1.setnext(node2)\n",
    "node2.setnext(node3)\n",
    "node3.setnext(node4)\n",
    "node4.setnext(node5)\n",
    "node5.setnext(node6)"
   ]
  },
  {
   "cell_type": "code",
   "execution_count": 460,
   "id": "4d447796",
   "metadata": {},
   "outputs": [
    {
     "name": "stdout",
     "output_type": "stream",
     "text": [
      "1->2->3->4->5->6->7->"
     ]
    }
   ],
   "source": [
    "head.print_ll()"
   ]
  },
  {
   "cell_type": "code",
   "execution_count": 461,
   "id": "78c2b618",
   "metadata": {},
   "outputs": [
    {
     "data": {
      "text/plain": [
       "7"
      ]
     },
     "execution_count": 461,
     "metadata": {},
     "output_type": "execute_result"
    }
   ],
   "source": [
    "head.length()"
   ]
  },
  {
   "cell_type": "code",
   "execution_count": 462,
   "id": "451155c5",
   "metadata": {},
   "outputs": [
    {
     "data": {
      "text/plain": [
       "4"
      ]
     },
     "execution_count": 462,
     "metadata": {},
     "output_type": "execute_result"
    }
   ],
   "source": [
    "head.delete(3)"
   ]
  },
  {
   "cell_type": "code",
   "execution_count": 463,
   "id": "bb7eabaa",
   "metadata": {
    "scrolled": true
   },
   "outputs": [
    {
     "name": "stdout",
     "output_type": "stream",
     "text": [
      "1->2->3->5->6->7->"
     ]
    }
   ],
   "source": [
    "head.print_ll()"
   ]
  },
  {
   "cell_type": "code",
   "execution_count": 464,
   "id": "7de1b36f",
   "metadata": {},
   "outputs": [
    {
     "data": {
      "text/plain": [
       "'11 is insert Successfully'"
      ]
     },
     "execution_count": 464,
     "metadata": {},
     "output_type": "execute_result"
    }
   ],
   "source": [
    "head.insert(11,6)"
   ]
  },
  {
   "cell_type": "code",
   "execution_count": 465,
   "id": "96aa52bf",
   "metadata": {},
   "outputs": [
    {
     "name": "stdout",
     "output_type": "stream",
     "text": [
      "1->2->3->5->6->7->11->"
     ]
    }
   ],
   "source": [
    "head.print_ll()"
   ]
  },
  {
   "cell_type": "code",
   "execution_count": 468,
   "id": "4d7d2fb3",
   "metadata": {},
   "outputs": [
    {
     "data": {
      "text/plain": [
       "3"
      ]
     },
     "execution_count": 468,
     "metadata": {},
     "output_type": "execute_result"
    }
   ],
   "source": [
    "head.remove_with_index(2)"
   ]
  },
  {
   "cell_type": "code",
   "execution_count": 469,
   "id": "acc052cc",
   "metadata": {},
   "outputs": [
    {
     "name": "stdout",
     "output_type": "stream",
     "text": [
      "1->2->5->7->11->"
     ]
    }
   ],
   "source": [
    "head.print_ll()"
   ]
  },
  {
   "cell_type": "code",
   "execution_count": null,
   "id": "08ebf7b9",
   "metadata": {},
   "outputs": [],
   "source": []
  },
  {
   "cell_type": "code",
   "execution_count": 381,
   "id": "0e68c55a",
   "metadata": {},
   "outputs": [],
   "source": [
    "class Node(object):\n",
    "    def __init__(self, data, Next = None):\n",
    "        self.data = data\n",
    "        self.next = Next\n",
    "\n",
    "    def getData(self):\n",
    "        return self.data\n",
    "\n",
    "    def setData(self, data):\n",
    "        self.data = data\n",
    "\n",
    "    def getNext(self):\n",
    "        return self.next\n",
    "\n",
    "    def setNext(self, newNext):\n",
    "        self.next = newNext\n",
    "\n",
    "class LinkedList(object):\n",
    "    def __init__(self):\n",
    "        self.head = None\n",
    "\n",
    "    def isEmpty(self):\n",
    "        return self.head == None\n",
    "\n",
    "    def add(self, element):\n",
    "        temp = Node(element)\n",
    "        temp.setNext(self.head)\n",
    "        self.head = temp\n",
    "\n",
    "    def size(self):\n",
    "        current = self.head\n",
    "        count = 0\n",
    "        while current != None:\n",
    "            count = count + 1\n",
    "            current = current.getNext()\n",
    "\n",
    "        return count\n",
    "\n",
    "    def search(self,item):\n",
    "        current = self.head\n",
    "        found = False\n",
    "        while current != None and not found:\n",
    "            if current.getData() == item:\n",
    "                found = True\n",
    "            else:\n",
    "                current = current.getNext()\n",
    "\n",
    "        return found\n",
    "\n",
    "    def remove(self,item):\n",
    "        current = self.head\n",
    "        previous = None\n",
    "        found = False\n",
    "        while not found:\n",
    "            if current.getData() == item:\n",
    "                found = True\n",
    "            else:\n",
    "                previous = current\n",
    "                current = current.getNext()\n",
    "\n",
    "        if previous == None:\n",
    "            self.head = current.getNext()\n",
    "        else:\n",
    "            previous.setNext(current.getNext())\n",
    "\n",
    "    def getAllData(self):\n",
    "        current = self.head\n",
    "        elements = []\n",
    "        while current:\n",
    "            elements.append(current.getData())\n",
    "            current = current.getNext()\n",
    "\n",
    "        return elements\n",
    "\n",
    "    def insert(self,index,data):\n",
    "        if index>=self.length() or index<0:\n",
    "            return self.append(data)\n",
    "        cur_node=self.head\n",
    "        prior_node=self.head\n",
    "        cur_idx=0\n",
    "        while True:\n",
    "            cur_node=cur_node.next\n",
    "            if cur_idx==index:\n",
    "                new_node=node(data)\n",
    "                prior_node.next=new_node\n",
    "                new_node.next=cur_node\n",
    "                return\n",
    "            prior_node=cur_node\n",
    "            cur_idx+=1\n",
    "\n",
    "    def getItem(self, index):\n",
    "        ##return an item given an index\n",
    "        current = self.head\n",
    "        for i in range(index):\n",
    "            current = current.getNext()\n",
    "        if current != None:\n",
    "            return current.getData()\n",
    "        else:\n",
    "            raise(\"index out of range\")\n",
    "\n",
    "\n",
    "    def pop(self, index):\n",
    "        self.remove(self.getItem(index))"
   ]
  },
  {
   "cell_type": "code",
   "execution_count": 385,
   "id": "36eb2658",
   "metadata": {},
   "outputs": [],
   "source": [
    "ll = LinkedList()"
   ]
  },
  {
   "cell_type": "code",
   "execution_count": 386,
   "id": "9530a527",
   "metadata": {},
   "outputs": [],
   "source": [
    "ll.add(5)\n",
    "ll.add(3)\n",
    "ll.add(9)\n",
    "ll.add(0)"
   ]
  },
  {
   "cell_type": "code",
   "execution_count": 387,
   "id": "850dea8e",
   "metadata": {},
   "outputs": [
    {
     "data": {
      "text/plain": [
       "[0, 9, 3, 5]"
      ]
     },
     "execution_count": 387,
     "metadata": {},
     "output_type": "execute_result"
    }
   ],
   "source": [
    "ll.getAllData()"
   ]
  },
  {
   "cell_type": "code",
   "execution_count": null,
   "id": "5db1a9bf",
   "metadata": {},
   "outputs": [],
   "source": []
  }
 ],
 "metadata": {
  "kernelspec": {
   "display_name": "Python 3 (ipykernel)",
   "language": "python",
   "name": "python3"
  },
  "language_info": {
   "codemirror_mode": {
    "name": "ipython",
    "version": 3
   },
   "file_extension": ".py",
   "mimetype": "text/x-python",
   "name": "python",
   "nbconvert_exporter": "python",
   "pygments_lexer": "ipython3",
   "version": "3.9.13"
  }
 },
 "nbformat": 4,
 "nbformat_minor": 5
}
