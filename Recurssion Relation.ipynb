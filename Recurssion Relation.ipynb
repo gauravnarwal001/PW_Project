{
 "cells": [
  {
   "cell_type": "markdown",
   "id": "a5ce18cb",
   "metadata": {},
   "source": [
    "# Find the value of T(2) for the recurrence relation T(n) = 3T(n-1) + 12n, given that T(0)=5."
   ]
  },
  {
   "cell_type": "code",
   "execution_count": 1,
   "id": "39f43fe3",
   "metadata": {},
   "outputs": [
    {
     "name": "stdout",
     "output_type": "stream",
     "text": [
      "105\n"
     ]
    }
   ],
   "source": [
    "def T(n):\n",
    "    if n == 0:\n",
    "        return 5\n",
    "    else:\n",
    "        return 3 * T(n - 1) + 12 * n\n",
    "\n",
    "# Calculate T(2)\n",
    "result = T(2)\n",
    "print(result)\n"
   ]
  },
  {
   "cell_type": "code",
   "execution_count": null,
   "id": "b17e91ff",
   "metadata": {},
   "outputs": [],
   "source": []
  },
  {
   "cell_type": "markdown",
   "id": "cf722943",
   "metadata": {},
   "source": [
    "# Given a recurrence relation, solve it using the substitution method:"
   ]
  },
  {
   "cell_type": "code",
   "execution_count": 2,
   "id": "5c5aa8da",
   "metadata": {},
   "outputs": [
    {
     "name": "stdout",
     "output_type": "stream",
     "text": [
      "25\n"
     ]
    }
   ],
   "source": [
    "# a. T(n) = T(n-1) + c\n",
    "\n",
    "def T_a(n, c, T0):\n",
    "    return T0 + n * c\n",
    "\n",
    "n = 10\n",
    "c = 2\n",
    "T0 = 5\n",
    "print(T_a(n, c, T0))  # Output: 25\n"
   ]
  },
  {
   "cell_type": "code",
   "execution_count": 4,
   "id": "80c3598f",
   "metadata": {},
   "outputs": [
    {
     "name": "stdout",
     "output_type": "stream",
     "text": [
      "80\n"
     ]
    }
   ],
   "source": [
    "# b. T(n) = 2T(n/2) + n\n",
    "\n",
    "import math\n",
    "\n",
    "def T_b(n):\n",
    "    if n == 1:\n",
    "        return 1  # Base case, assuming T(1) = 1\n",
    "    return 2 * T_b(n // 2) + n\n",
    "\n",
    "n = 16\n",
    "print(T_b(n))  # Output: 136\n"
   ]
  },
  {
   "cell_type": "code",
   "execution_count": 5,
   "id": "da74f733",
   "metadata": {},
   "outputs": [
    {
     "name": "stdout",
     "output_type": "stream",
     "text": [
      "93\n"
     ]
    }
   ],
   "source": [
    "# c. T(n) = 2T(n/2) + c\n",
    "\n",
    "import math\n",
    "\n",
    "def T_c(n, c):\n",
    "    if n == 1:\n",
    "        return c  # Base case, assuming T(1) = c\n",
    "    return 2 * T_c(n // 2, c) + c\n",
    "\n",
    "n = 16\n",
    "c = 3\n",
    "print(T_c(n, c))  # Output: 45\n"
   ]
  },
  {
   "cell_type": "code",
   "execution_count": 7,
   "id": "b94a4fa3",
   "metadata": {},
   "outputs": [
    {
     "name": "stdout",
     "output_type": "stream",
     "text": [
      "15\n"
     ]
    }
   ],
   "source": [
    "# d. T(n) = T(n/2) + c\n",
    "\n",
    "import math\n",
    "\n",
    "def T_d(n, c):\n",
    "    if n == 1:\n",
    "        return c  # Base case, assuming T(1) = c\n",
    "    return T_d(n // 2, c) + c\n",
    "\n",
    "n = 16\n",
    "c = 3\n",
    "print(T_d(n, c))  # Output: 12\n"
   ]
  },
  {
   "cell_type": "code",
   "execution_count": null,
   "id": "2fde0e6d",
   "metadata": {},
   "outputs": [],
   "source": []
  },
  {
   "cell_type": "markdown",
   "id": "988a8c9d",
   "metadata": {},
   "source": [
    "# 3. Given a recurrence relation, solve it using the recursive tree approach:\n",
    "b. T(n) = 2T(n/2) + n"
   ]
  },
  {
   "cell_type": "code",
   "execution_count": 8,
   "id": "7cebdd62",
   "metadata": {},
   "outputs": [],
   "source": [
    "# a. T(n) = 2T(n-1) +1\n",
    "\n",
    "def T_a(n):\n",
    "    if n == 0:\n",
    "        return 1  # Base case\n",
    "    return 2 * T_a(n - 1) + 1\n",
    "\n",
    "n = 4\n",
    "print(T_a(n))  # Example output: 31\n"
   ]
  },
  {
   "cell_type": "code",
   "execution_count": null,
   "id": "914a96e1",
   "metadata": {},
   "outputs": [],
   "source": []
  }
 ],
 "metadata": {
  "kernelspec": {
   "display_name": "Python 3 (ipykernel)",
   "language": "python",
   "name": "python3"
  },
  "language_info": {
   "codemirror_mode": {
    "name": "ipython",
    "version": 3
   },
   "file_extension": ".py",
   "mimetype": "text/x-python",
   "name": "python",
   "nbconvert_exporter": "python",
   "pygments_lexer": "ipython3",
   "version": "3.9.13"
  }
 },
 "nbformat": 4,
 "nbformat_minor": 5
}
