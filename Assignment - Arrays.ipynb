{
 "cells": [
  {
   "cell_type": "markdown",
   "id": "ede9197a",
   "metadata": {},
   "source": [
    "######  1. Given an array, check if it contains any duplicates or not. \n",
    "arr = [1, 2, 4, 2, 5, 9]\n",
    "Output = True"
   ]
  },
  {
   "cell_type": "code",
   "execution_count": 3,
   "id": "01f70679",
   "metadata": {},
   "outputs": [
    {
     "name": "stdout",
     "output_type": "stream",
     "text": [
      "This contains a duplicates value\n"
     ]
    }
   ],
   "source": [
    "# time complexity = O(n)\n",
    "# space complexity = O(n)\n",
    "def check_duplicates(arr):\n",
    "    arr1 = []\n",
    "    for i in arr:\n",
    "        if i not in arr1:\n",
    "            arr1.append(i)            \n",
    "        else:\n",
    "            print('This contains a duplicates value')\n",
    "            \n",
    "arr = [1, 2, 4, 2, 5, 9]\n",
    "check_duplicates(arr)"
   ]
  },
  {
   "cell_type": "markdown",
   "id": "5db6615d",
   "metadata": {},
   "source": [
    "###### 2. Given an array and an integer k, rotate the array to the right by k steps.\n",
    "arr = [1, 2, 3, 4, 5, 6, 7] \n",
    "k = 3\n",
    "Output = [5, 6, 7, 1, 2, 3, 4]"
   ]
  },
  {
   "cell_type": "code",
   "execution_count": 4,
   "id": "32d0d3ae",
   "metadata": {},
   "outputs": [
    {
     "name": "stdout",
     "output_type": "stream",
     "text": [
      "[5, 6, 7, 1, 2, 3, 4]\n"
     ]
    }
   ],
   "source": [
    "def array_rotate(arr,k):\n",
    "    rotated_array = arr[k+1:] + arr[:k+1]\n",
    "    print(rotated_array)\n",
    "    \n",
    "arr = [1, 2, 3, 4, 5, 6, 7] \n",
    "k = 3\n",
    "array_rotate(arr,k)"
   ]
  },
  {
   "cell_type": "markdown",
   "id": "e8af0398",
   "metadata": {},
   "source": [
    "###### 3. Reverse the given array in-place, means without using any extra data structure.\n",
    "arr = [2, 4, 5, 7, 9, 12]\n",
    "Output = [12, 9, 7, 5, 4, 2]"
   ]
  },
  {
   "cell_type": "code",
   "execution_count": 5,
   "id": "b3e4469f",
   "metadata": {},
   "outputs": [
    {
     "name": "stdout",
     "output_type": "stream",
     "text": [
      "[12, 9, 7, 5, 4, 2]\n"
     ]
    }
   ],
   "source": [
    "# time complexity = n(1)\n",
    "# space complexity = n(1)\n",
    "def reverse_array(arr):\n",
    "    print(arr[::-1])\n",
    "    \n",
    "arr = [2, 4, 5, 7, 9, 12] \n",
    "reverse_array(arr)"
   ]
  },
  {
   "cell_type": "markdown",
   "id": "6bee7b0b",
   "metadata": {},
   "source": [
    "###### 4. Given an array of integers, find the maximum element in an array\n",
    "arr = [10, 5, 20, 8, 15]\n",
    "Output = 20"
   ]
  },
  {
   "cell_type": "code",
   "execution_count": 6,
   "id": "ba85b188",
   "metadata": {},
   "outputs": [
    {
     "name": "stdout",
     "output_type": "stream",
     "text": [
      "20\n"
     ]
    }
   ],
   "source": [
    "def max_array(arr):\n",
    "    max = 0\n",
    "    for i in arr:\n",
    "        if max < i:\n",
    "            max = i\n",
    "    print(max)\n",
    "\n",
    "arr = [10, 5, 20, 8, 15]\n",
    "max_array(arr)"
   ]
  },
  {
   "cell_type": "markdown",
   "id": "b4feaf2a",
   "metadata": {},
   "source": [
    "###### 5. Given a sorted array, remove the duplicate element without using any extra data structure.\n",
    "arr = [1, 1, 2, 2, 2, 3, 3, 4, 4, 4, 5, 5]\n",
    "Output = [1, 2, 3, 4, 5]"
   ]
  },
  {
   "cell_type": "code",
   "execution_count": 25,
   "id": "1f8b99d8",
   "metadata": {},
   "outputs": [
    {
     "name": "stdout",
     "output_type": "stream",
     "text": [
      "[1, 2, 3, 4, 5, 8, 10, 11, 20, 1]\n"
     ]
    }
   ],
   "source": [
    "def remove_duplicates(arr):\n",
    "    if not arr:\n",
    "        return 0  # Empty array\n",
    "\n",
    "    unique_index = 0\n",
    "\n",
    "    for i in range(1, len(arr)):\n",
    "        if arr[i] != arr[unique_index]:\n",
    "            unique_index += 1\n",
    "            arr[unique_index] = arr[i]\n",
    "           \n",
    "    return unique_index + 1\n",
    "\n",
    "# Example usage:\n",
    "arr = [1, 1, 2, 2, 2, 3, 3, 4, 4, 4, 5, 5,8,8,8,10,11,20,1]\n",
    "new_length = remove_duplicates(arr)\n",
    "result = arr[:new_length]\n",
    "print(result)\n"
   ]
  },
  {
   "cell_type": "code",
   "execution_count": null,
   "id": "407f68bc",
   "metadata": {},
   "outputs": [],
   "source": []
  },
  {
   "cell_type": "code",
   "execution_count": null,
   "id": "3c8807c9",
   "metadata": {},
   "outputs": [],
   "source": []
  }
 ],
 "metadata": {
  "kernelspec": {
   "display_name": "Python 3 (ipykernel)",
   "language": "python",
   "name": "python3"
  },
  "language_info": {
   "codemirror_mode": {
    "name": "ipython",
    "version": 3
   },
   "file_extension": ".py",
   "mimetype": "text/x-python",
   "name": "python",
   "nbconvert_exporter": "python",
   "pygments_lexer": "ipython3",
   "version": "3.9.13"
  }
 },
 "nbformat": 4,
 "nbformat_minor": 5
}
