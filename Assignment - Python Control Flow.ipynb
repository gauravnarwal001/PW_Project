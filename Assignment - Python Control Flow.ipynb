{
 "cells": [
  {
   "cell_type": "markdown",
   "id": "0297d914",
   "metadata": {},
   "source": [
    "###### 1. Write a Python program to check if a given number is positive or negative."
   ]
  },
  {
   "cell_type": "code",
   "execution_count": 6,
   "id": "1c37c42b",
   "metadata": {},
   "outputs": [
    {
     "name": "stdout",
     "output_type": "stream",
     "text": [
      "Enter any number-4\n",
      "This -4 number is negative\n"
     ]
    }
   ],
   "source": [
    "number = int(input(\"Enter any number\"))\n",
    "if number > 0:\n",
    "    print(f'This {number} number is positive')\n",
    "elif number < 0:\n",
    "    print(f'This {number} number is negative')\n",
    "else:\n",
    "    print(f'This {number} number is Zero')\n"
   ]
  },
  {
   "cell_type": "markdown",
   "id": "285a1332",
   "metadata": {},
   "source": [
    "###### 2. Create a program that determines if a person is eligible to vote based on their age."
   ]
  },
  {
   "cell_type": "code",
   "execution_count": 7,
   "id": "b9a289c1",
   "metadata": {},
   "outputs": [
    {
     "name": "stdout",
     "output_type": "stream",
     "text": [
      "Enter your age13\n",
      "No You are not eligible\n"
     ]
    }
   ],
   "source": [
    "age = int(input('Enter your age'))\n",
    "if age >= 18:\n",
    "    print('Yes you are eligible')\n",
    "else:\n",
    "    print(\"No You are not eligible\")"
   ]
  },
  {
   "cell_type": "markdown",
   "id": "6fd8d2b0",
   "metadata": {},
   "source": [
    "###### 3. Develop a program to find the maximum of two numbers using if-else statements."
   ]
  },
  {
   "cell_type": "code",
   "execution_count": 8,
   "id": "b8f18d43",
   "metadata": {},
   "outputs": [
    {
     "name": "stdout",
     "output_type": "stream",
     "text": [
      "10 is greater\n"
     ]
    }
   ],
   "source": [
    "num1 = 5\n",
    "num2 = 10\n",
    "if num1 > num2:\n",
    "    print(f'{num1} is greater')\n",
    "elif num1 < num2:\n",
    "    print(f'{num2} is greater')\n",
    "else:\n",
    "    print(\"Both number are equal\")"
   ]
  },
  {
   "cell_type": "markdown",
   "id": "b5f28d07",
   "metadata": {},
   "source": [
    "###### 4. Write a Python script to classify a given year as a leap year or not."
   ]
  },
  {
   "cell_type": "code",
   "execution_count": 10,
   "id": "299a9505",
   "metadata": {},
   "outputs": [
    {
     "name": "stdout",
     "output_type": "stream",
     "text": [
      "Enter the year2020\n",
      "This is leap year\n"
     ]
    }
   ],
   "source": [
    "year = int(input('Enter the year'))\n",
    "if year%4 == 0:\n",
    "    print(\"This is leap year\")\n",
    "else:\n",
    "    print('No leap year')"
   ]
  },
  {
   "cell_type": "markdown",
   "id": "3199c2eb",
   "metadata": {},
   "source": [
    "###### 5. Create a program that checks whether a character is a vowel or a consonant."
   ]
  },
  {
   "cell_type": "code",
   "execution_count": 13,
   "id": "ba86969b",
   "metadata": {},
   "outputs": [
    {
     "name": "stdout",
     "output_type": "stream",
     "text": [
      "Enter any characterz\n",
      "This is consonant\n"
     ]
    }
   ],
   "source": [
    "char = input(\"Enter any character\")\n",
    "if char in 'AEIOUaieou':\n",
    "    print('This is vowel')\n",
    "else:\n",
    "    print(\"This is consonant\")"
   ]
  },
  {
   "cell_type": "markdown",
   "id": "daa3d1f8",
   "metadata": {},
   "source": [
    "###### 6. Implement a program to determine whether a given number is even or odd."
   ]
  },
  {
   "cell_type": "code",
   "execution_count": 15,
   "id": "f17948a2",
   "metadata": {},
   "outputs": [
    {
     "name": "stdout",
     "output_type": "stream",
     "text": [
      "Enter your number5\n",
      "This is odd number\n"
     ]
    }
   ],
   "source": [
    "number = int(input(\"Enter your number\"))\n",
    "if number % 2 == 0:\n",
    "    print(\"This is even number\")\n",
    "else:\n",
    "    print(\"This is odd number\")"
   ]
  },
  {
   "cell_type": "markdown",
   "id": "9d57ced3",
   "metadata": {},
   "source": [
    "###### 7. Write a Python function to calculate the absolute value of a number without using the `abs()` function."
   ]
  },
  {
   "cell_type": "code",
   "execution_count": 16,
   "id": "d01ad24f",
   "metadata": {},
   "outputs": [
    {
     "name": "stdout",
     "output_type": "stream",
     "text": [
      "The absolute value of -5 is 5\n"
     ]
    }
   ],
   "source": [
    "def absolute_value(number):\n",
    "    if number < 0:\n",
    "        return -number\n",
    "    else:\n",
    "        return number\n",
    "\n",
    "# Test the function\n",
    "num = -5\n",
    "result = absolute_value(num)\n",
    "print(f\"The absolute value of {num} is {result}\")"
   ]
  },
  {
   "cell_type": "markdown",
   "id": "86f12459",
   "metadata": {},
   "source": [
    "###### 8. Develop a program that determines the largest of three given numbers using if-else statements."
   ]
  },
  {
   "cell_type": "code",
   "execution_count": 21,
   "id": "4aab54fd",
   "metadata": {},
   "outputs": [
    {
     "name": "stdout",
     "output_type": "stream",
     "text": [
      "Num3 is largest number 10\n"
     ]
    }
   ],
   "source": [
    "num1 = 2\n",
    "num2 = 8\n",
    "num3 = 10\n",
    "\n",
    "if num1 > num2 and num1 > num3:\n",
    "    print(f'Num1 is largest number {num1}')\n",
    "elif num2 > num1  and num2 > num3:\n",
    "    print(f'Num2 is largest number {num2}')\n",
    "else:\n",
    "    print(f'Num3 is largest number {num3}')"
   ]
  },
  {
   "cell_type": "markdown",
   "id": "df5963dc",
   "metadata": {},
   "source": [
    "###### 9. Create a program that checks if a given string is a palindrome."
   ]
  },
  {
   "cell_type": "code",
   "execution_count": 24,
   "id": "416108c5",
   "metadata": {},
   "outputs": [
    {
     "name": "stdout",
     "output_type": "stream",
     "text": [
      "Enter your string hannah\n",
      "Yes this string is palindrome\n"
     ]
    }
   ],
   "source": [
    "def palindrome_str(string):\n",
    "    if string == string[::-1]:\n",
    "        print(\"Yes this string is palindrome\")\n",
    "    else:\n",
    "        print(\"No this string is not palindrome\")\n",
    "        \n",
    "string = input(\"Enter your string \")\n",
    "palindrome_str(string)"
   ]
  },
  {
   "cell_type": "markdown",
   "id": "e93fd8ff",
   "metadata": {},
   "source": [
    "###### 10. Write a Python program to calculate the grade based on a student's score."
   ]
  },
  {
   "cell_type": "code",
   "execution_count": 25,
   "id": "0a4d2fca",
   "metadata": {},
   "outputs": [
    {
     "name": "stdout",
     "output_type": "stream",
     "text": [
      "Enter the student's score: 50\n",
      "The student's grade is F\n"
     ]
    }
   ],
   "source": [
    "def calculate_grade(score):\n",
    "    if score >= 90:\n",
    "        return 'A'\n",
    "    elif score >= 80:\n",
    "        return 'B'\n",
    "    elif score >= 70:\n",
    "        return 'C'\n",
    "    elif score >= 60:\n",
    "        return 'D'\n",
    "    else:\n",
    "        return 'F'\n",
    "\n",
    "try:\n",
    "    score = float(input(\"Enter the student's score: \"))\n",
    "\n",
    "    if 0 <= score <= 100:\n",
    "        grade = calculate_grade(score)\n",
    "        print(f\"The student's grade is {grade}\")\n",
    "    else:\n",
    "        print(\"Invalid score. Please enter a score between 0 and 100.\")\n",
    "except ValueError:\n",
    "    print(\"Invalid input. Please enter a numeric score.\")\n"
   ]
  },
  {
   "cell_type": "markdown",
   "id": "afc4bbaa",
   "metadata": {},
   "source": [
    "## Nested If-Else Statements:"
   ]
  },
  {
   "cell_type": "markdown",
   "id": "c28dbb9c",
   "metadata": {},
   "source": [
    "###### 11. Write a program to find the largest among three numbers using nested if-else statements."
   ]
  },
  {
   "cell_type": "code",
   "execution_count": 4,
   "id": "7a29d58c",
   "metadata": {},
   "outputs": [
    {
     "name": "stdout",
     "output_type": "stream",
     "text": [
      "Enter the first number: -2.05\n",
      "Enter the second number: -2.53\n",
      "Enter the third number: -3\n",
      "The largest number among -2.05, -2.53, and -3.0 is -2.05\n"
     ]
    }
   ],
   "source": [
    "num1 = float(input(\"Enter the first number: \"))\n",
    "num2 = float(input(\"Enter the second number: \"))\n",
    "num3 = float(input(\"Enter the third number: \"))\n",
    "# Compare the numbers to find the largest\n",
    "\n",
    "if num1 >= num2:\n",
    "\n",
    "    if num1 >= num3:\n",
    "        largest = num1\n",
    "    else:\n",
    "        largest = num3\n",
    "else:\n",
    "    if num2 >= num3:\n",
    "        largest = num2\n",
    "    else:\n",
    "        largest = num3\n",
    "\n",
    "print(f\"The largest number among {num1}, {num2}, and {num3} is {largest}\")\n",
    "\n"
   ]
  },
  {
   "cell_type": "markdown",
   "id": "c4980134",
   "metadata": {},
   "source": [
    "###### 12. Implement a program to determine if a triangle is equilateral, isosceles, or scalene."
   ]
  },
  {
   "cell_type": "code",
   "execution_count": 1,
   "id": "742ce1e3",
   "metadata": {},
   "outputs": [
    {
     "name": "stdout",
     "output_type": "stream",
     "text": [
      "Enter the first side: 4\n",
      "Enter the second side: 5\n",
      "Enter the third side: 4\n",
      "Isosceles\n"
     ]
    }
   ],
   "source": [
    "side1 = float(input(\"Enter the first side: \"))\n",
    "side2 = float(input(\"Enter the second side: \"))\n",
    "side3 = float(input(\"Enter the third side: \"))\n",
    "\n",
    "if side1 + side2 > side3 and side1 + side3 > side2 and side2 + side3 > side1:\n",
    "\n",
    "    if side1 == side2 == side3:\n",
    "        print('Equilateral')\n",
    "    elif side1 == side2 or side2 == side3 or side1 == side3:\n",
    "        print(\"Isosceles\")\n",
    "    else:\n",
    "        print('scalene')"
   ]
  },
  {
   "cell_type": "markdown",
   "id": "5f47d23f",
   "metadata": {},
   "source": [
    "###### 13. Develop a program that checks if a year is a leap year and also if it is a century year."
   ]
  },
  {
   "cell_type": "code",
   "execution_count": 4,
   "id": "42863b42",
   "metadata": {},
   "outputs": [
    {
     "name": "stdout",
     "output_type": "stream",
     "text": [
      "Yes this is the leap year\n"
     ]
    }
   ],
   "source": [
    "def check_leap_year(year):\n",
    "    if (year%4 == 0 and year%100 != 0) or (year%400 == 0):\n",
    "        print(\"Yes this is the leap year\")\n",
    "    else:\n",
    "        print(\"No! This is not leap year\")\n",
    "        \n",
    "check_leap_year(2020)"
   ]
  },
  {
   "cell_type": "markdown",
   "id": "0d68492e",
   "metadata": {},
   "source": [
    "###### 14. Write a Python script to determine if a number is positive, negative, or zero."
   ]
  },
  {
   "cell_type": "code",
   "execution_count": 6,
   "id": "3695176d",
   "metadata": {},
   "outputs": [
    {
     "name": "stdout",
     "output_type": "stream",
     "text": [
      "Negative\n"
     ]
    }
   ],
   "source": [
    "def check_number(number):\n",
    "    if number < 0:\n",
    "        print(\"Negative\")\n",
    "    elif number > 0 :\n",
    "        print(\"Positive\")\n",
    "    else:\n",
    "        print(\"Zero\")\n",
    "        \n",
    "check_number(-12)"
   ]
  },
  {
   "cell_type": "markdown",
   "id": "5b35bce4",
   "metadata": {},
   "source": [
    "###### 15. Create a program to check if a person is a teenager (between 13 and 19 years old)."
   ]
  },
  {
   "cell_type": "code",
   "execution_count": 16,
   "id": "58cb4eb5",
   "metadata": {},
   "outputs": [
    {
     "name": "stdout",
     "output_type": "stream",
     "text": [
      "No You are not teenager\n",
      "Yes, You are teenager\n"
     ]
    }
   ],
   "source": [
    "def check_teenager(age):\n",
    "    if age in range(13,20):\n",
    "        return \"Yes, You are teenager\"\n",
    "    else:\n",
    "        return \"No You are not teenager\"\n",
    "    \n",
    "print(check_teenager(20))\n",
    "print(check_teenager(15))"
   ]
  },
  {
   "cell_type": "markdown",
   "id": "d8bd0548",
   "metadata": {},
   "source": [
    "###### 16. Develop a program that determines the type of angle based on its measure (acute, obtuse, or right)."
   ]
  },
  {
   "cell_type": "code",
   "execution_count": 20,
   "id": "955916ba",
   "metadata": {},
   "outputs": [
    {
     "name": "stdout",
     "output_type": "stream",
     "text": [
      "Acute Angle\n",
      "Right Angle\n",
      "Obtuse Angle\n"
     ]
    }
   ],
   "source": [
    "def angle_type(angle):\n",
    "    if angle < 90:\n",
    "        return \"Acute Angle\"\n",
    "    elif angle == 90:\n",
    "        return \"Right Angle\"\n",
    "    else:\n",
    "        return \"Obtuse Angle\"\n",
    "    \n",
    "    \n",
    "print(angle_type(40))\n",
    "print(angle_type(90))\n",
    "print(angle_type(150))"
   ]
  },
  {
   "cell_type": "markdown",
   "id": "a33e8331",
   "metadata": {},
   "source": [
    "###### 18. Implement a program to determine the day of the week based on a user-provided number (1 for Monday, 2 for Tuesday, etc.)."
   ]
  },
  {
   "cell_type": "code",
   "execution_count": 4,
   "id": "10af5d48",
   "metadata": {},
   "outputs": [
    {
     "name": "stdout",
     "output_type": "stream",
     "text": [
      "Enter a number (1 for Monday, 2 for Tuesday, etc.): 5\n",
      "The day corresponding to 5 is Friday.\n"
     ]
    }
   ],
   "source": [
    "day_number = int(input(\"Enter a number (1 for Monday, 2 for Tuesday, etc.): \"))\n",
    "\n",
    "days_of_week = [\"Monday\", \"Tuesday\", \"Wednesday\", \"Thursday\", \"Friday\", \"Saturday\", \"Sunday\"]\n",
    "\n",
    "if 1 <= day_number <= 7:\n",
    "    day_name = days_of_week[day_number - 1]\n",
    "    print(f\"The day corresponding to {day_number} is {day_name}.\")\n",
    "else:\n",
    "    print(\"Invalid input. Please enter a number between 1 and 7.\")\n"
   ]
  },
  {
   "cell_type": "markdown",
   "id": "5b57c659",
   "metadata": {},
   "source": [
    "###### 19. Create a program that determines if a year is a leap year and also if it is evenly divisible by 400."
   ]
  },
  {
   "cell_type": "code",
   "execution_count": 5,
   "id": "0a765e30",
   "metadata": {},
   "outputs": [
    {
     "name": "stdout",
     "output_type": "stream",
     "text": [
      "Enter a year: 2020\n",
      "2020 is a leap year.\n"
     ]
    }
   ],
   "source": [
    "year = int(input(\"Enter a year: \"))\n",
    "\n",
    "if (year % 4 == 0 and year % 100 != 0) or (year % 400 == 0):\n",
    "    print(f\"{year} is a leap year.\")\n",
    "else:\n",
    "    print(f\"{year} is not a leap year.\")\n"
   ]
  },
  {
   "cell_type": "markdown",
   "id": "302c61e6",
   "metadata": {},
   "source": [
    "###### 20. Develop a program that checks if a given number is prime or not using nested if-else statements."
   ]
  },
  {
   "cell_type": "code",
   "execution_count": 12,
   "id": "688297a9",
   "metadata": {},
   "outputs": [
    {
     "name": "stdout",
     "output_type": "stream",
     "text": [
      "5 is a prime number.\n"
     ]
    }
   ],
   "source": [
    "def is_prime(number):\n",
    "    if number <= 1:\n",
    "        return False  # Numbers less than or equal to 1 are not prime\n",
    "\n",
    "    # Check for factors from 2 to the square root of the number\n",
    "    for i in range(2, int(number**0.5) + 1):\n",
    "        if number % i == 0:\n",
    "            return False  # Found a factor, so it's not prime\n",
    "\n",
    "    return True  # If no factors were found, it's prime\n",
    "\n",
    "# Test the function\n",
    "num = 5\n",
    "if is_prime(num):\n",
    "    print(f\"{num} is a prime number.\")\n",
    "else:\n",
    "    print(f\"{num} is not a prime number.\")\n"
   ]
  }
 ],
 "metadata": {
  "kernelspec": {
   "display_name": "Python 3 (ipykernel)",
   "language": "python",
   "name": "python3"
  },
  "language_info": {
   "codemirror_mode": {
    "name": "ipython",
    "version": 3
   },
   "file_extension": ".py",
   "mimetype": "text/x-python",
   "name": "python",
   "nbconvert_exporter": "python",
   "pygments_lexer": "ipython3",
   "version": "3.9.13"
  }
 },
 "nbformat": 4,
 "nbformat_minor": 5
}
