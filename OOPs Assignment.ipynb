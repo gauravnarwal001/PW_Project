{
 "cells": [
  {
   "cell_type": "markdown",
   "id": "733eea56",
   "metadata": {},
   "source": [
    "###### Problem 1: Bank Account Create a class representing a bank account with attributes like account number, account holder name, and balance. Implement methods to deposit and withdraw money from the account.\n"
   ]
  },
  {
   "cell_type": "code",
   "execution_count": 26,
   "id": "990286ab",
   "metadata": {},
   "outputs": [],
   "source": [
    "class bank_account:\n",
    "    \n",
    "    def __init__(self, account_number, account_holder_name, balance):\n",
    "        self.account_number = account_number\n",
    "        self.account_holder_name = account_holder_name\n",
    "        self.balance = balance\n",
    "        print('Your account created successfull')\n",
    "        \n",
    "    def deposit(self, deposit_amount):\n",
    "        self.deposit_amount = deposit_amount\n",
    "        self.balance = self.balance + deposit_amount\n",
    "        print(self.deposit_amount)\n",
    "        \n",
    "    def amount_withdraw(self, withdraw_amount):\n",
    "        self.withdraw_amount = withdraw_amount\n",
    "        self.balance = self.balance - withdraw_amount\n",
    "        print('Withdraw Amount = ',self.withdraw_amount)\n",
    "        print('Now Balance = ',self.balance)"
   ]
  },
  {
   "cell_type": "code",
   "execution_count": 27,
   "id": "10e671d1",
   "metadata": {},
   "outputs": [
    {
     "name": "stdout",
     "output_type": "stream",
     "text": [
      "Your account created successfull\n"
     ]
    }
   ],
   "source": [
    "gaurav_account = bank_account(123456, 'Gaurav', 1000)"
   ]
  },
  {
   "cell_type": "code",
   "execution_count": 28,
   "id": "89c5a36c",
   "metadata": {},
   "outputs": [
    {
     "name": "stdout",
     "output_type": "stream",
     "text": [
      "1000\n"
     ]
    }
   ],
   "source": [
    "gaurav_account.deposit(1000)"
   ]
  },
  {
   "cell_type": "code",
   "execution_count": 29,
   "id": "bfbccfc8",
   "metadata": {},
   "outputs": [
    {
     "data": {
      "text/plain": [
       "2000"
      ]
     },
     "execution_count": 29,
     "metadata": {},
     "output_type": "execute_result"
    }
   ],
   "source": [
    "gaurav_account.balance"
   ]
  },
  {
   "cell_type": "code",
   "execution_count": 30,
   "id": "46da9880",
   "metadata": {},
   "outputs": [
    {
     "name": "stdout",
     "output_type": "stream",
     "text": [
      "Withdraw Amount =  500\n",
      "Now Balance =  1500\n"
     ]
    }
   ],
   "source": [
    "gaurav_account.amount_withdraw(500)"
   ]
  },
  {
   "cell_type": "markdown",
   "id": "3f0a0816",
   "metadata": {},
   "source": [
    "###### Problem 2: Employee Management Create a class representing an employee with attributes like employee ID, name, and salary. Implement methods to calculate the yearly bonus and display employee details.\n"
   ]
  },
  {
   "cell_type": "code",
   "execution_count": 41,
   "id": "13095652",
   "metadata": {},
   "outputs": [],
   "source": [
    "class employee:\n",
    "    def __init__(self, emp_id, name, salary):\n",
    "        self.emp_id = emp_id\n",
    "        self.name = name \n",
    "        self.salary = salary\n",
    "    \n",
    "    def emp_bonus(self, bonus):\n",
    "        self.bonus = bonus\n",
    "        print('Your Yearly bonus = ',self.bonus)\n",
    "    \n",
    "    def employee_detail(self):\n",
    "        print(f'emp_id = {self.emp_id}')\n",
    "        print(f'name = {self.name}')\n",
    "        print(f'salary = {self.salary}')"
   ]
  },
  {
   "cell_type": "code",
   "execution_count": 43,
   "id": "a15fda46",
   "metadata": {},
   "outputs": [
    {
     "name": "stdout",
     "output_type": "stream",
     "text": [
      "Your Yearly bonus =  10000\n"
     ]
    }
   ],
   "source": [
    "emp1 = employee(123 , 'emp1', 100000)\n",
    "emp1.emp_bonus(10000)"
   ]
  },
  {
   "cell_type": "code",
   "execution_count": 45,
   "id": "49219b91",
   "metadata": {},
   "outputs": [
    {
     "name": "stdout",
     "output_type": "stream",
     "text": [
      "emp_id = 123\n",
      "name = emp1\n",
      "salary = 100000\n"
     ]
    }
   ],
   "source": [
    "emp1.employee_detail()"
   ]
  },
  {
   "cell_type": "code",
   "execution_count": null,
   "id": "146e54c7",
   "metadata": {},
   "outputs": [],
   "source": []
  }
 ],
 "metadata": {
  "kernelspec": {
   "display_name": "Python 3 (ipykernel)",
   "language": "python",
   "name": "python3"
  },
  "language_info": {
   "codemirror_mode": {
    "name": "ipython",
    "version": 3
   },
   "file_extension": ".py",
   "mimetype": "text/x-python",
   "name": "python",
   "nbconvert_exporter": "python",
   "pygments_lexer": "ipython3",
   "version": "3.9.13"
  }
 },
 "nbformat": 4,
 "nbformat_minor": 5
}
