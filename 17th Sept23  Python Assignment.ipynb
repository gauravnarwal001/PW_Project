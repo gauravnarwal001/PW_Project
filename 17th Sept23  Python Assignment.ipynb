{
 "cells": [
  {
   "cell_type": "markdown",
   "id": "83c6fc09",
   "metadata": {},
   "source": [
    "###### 1. Write a Python program to print numbers from 1 to 10 using a for loop."
   ]
  },
  {
   "cell_type": "code",
   "execution_count": 3,
   "id": "680e3b24",
   "metadata": {},
   "outputs": [
    {
     "name": "stdout",
     "output_type": "stream",
     "text": [
      "1\n",
      "2\n",
      "3\n",
      "4\n",
      "5\n",
      "6\n",
      "7\n",
      "8\n",
      "9\n",
      "10\n"
     ]
    }
   ],
   "source": [
    "for i in range(10):\n",
    "    print(i+1)"
   ]
  },
  {
   "cell_type": "markdown",
   "id": "d92c6f3f",
   "metadata": {},
   "source": [
    "###### 2. Explain the difference between a for loop and a while loop in Python."
   ]
  },
  {
   "cell_type": "markdown",
   "id": "3c39b678",
   "metadata": {},
   "source": [
    "In the for 'For' loop we are generally use for list and range of some numbers. On another hand while loop is using for condition statements.\n"
   ]
  },
  {
   "cell_type": "markdown",
   "id": "6715e46b",
   "metadata": {},
   "source": [
    "###### 3. Write a Python program to calculate the sum of all numbers from 1 to 100 using a for loop.\n"
   ]
  },
  {
   "cell_type": "code",
   "execution_count": 10,
   "id": "fea39696",
   "metadata": {},
   "outputs": [
    {
     "name": "stdout",
     "output_type": "stream",
     "text": [
      "5050\n"
     ]
    }
   ],
   "source": [
    "s = 0\n",
    "for i in range(101):\n",
    "    s = s + i\n",
    "print(s)"
   ]
  },
  {
   "cell_type": "markdown",
   "id": "0b1e9805",
   "metadata": {},
   "source": [
    "###### 4. How do you iterate through a list using a for loop in Python?\n"
   ]
  },
  {
   "cell_type": "code",
   "execution_count": 11,
   "id": "4c570495",
   "metadata": {},
   "outputs": [
    {
     "name": "stdout",
     "output_type": "stream",
     "text": [
      "1\n",
      "2\n",
      "3\n",
      "4\n",
      "5\n",
      "6\n"
     ]
    }
   ],
   "source": [
    "number = [1,2,3,4,5,6]\n",
    "for i in number:\n",
    "    print(i)"
   ]
  },
  {
   "cell_type": "markdown",
   "id": "e25c1796",
   "metadata": {},
   "source": [
    "###### 5. Write a Python program to find the product of all elements in a list using a for loop."
   ]
  },
  {
   "cell_type": "code",
   "execution_count": 12,
   "id": "751b51cf",
   "metadata": {},
   "outputs": [
    {
     "data": {
      "text/plain": [
       "720"
      ]
     },
     "execution_count": 12,
     "metadata": {},
     "output_type": "execute_result"
    }
   ],
   "source": [
    "a = 1\n",
    "number = [1,2,3,4,5,6]\n",
    "for i in number:\n",
    "    a = a * i\n",
    "a"
   ]
  },
  {
   "cell_type": "markdown",
   "id": "e39ae6fb",
   "metadata": {},
   "source": [
    "###### 6. Create a Python program that prints all even numbers from 1 to 20 using a for loop."
   ]
  },
  {
   "cell_type": "code",
   "execution_count": 19,
   "id": "a9bdb6d5",
   "metadata": {},
   "outputs": [
    {
     "name": "stdout",
     "output_type": "stream",
     "text": [
      "2\n",
      "4\n",
      "6\n",
      "8\n",
      "10\n",
      "12\n",
      "14\n",
      "16\n",
      "18\n",
      "20\n"
     ]
    }
   ],
   "source": [
    "for i in range(20):\n",
    "    i=i+1\n",
    "    if i%2 == 0:\n",
    "        print(i)"
   ]
  },
  {
   "cell_type": "markdown",
   "id": "eae5f78a",
   "metadata": {},
   "source": [
    "###### 7. Write a Python program that calculates the factorial of a number using a for loop."
   ]
  },
  {
   "cell_type": "code",
   "execution_count": 25,
   "id": "e34f3dd3",
   "metadata": {},
   "outputs": [],
   "source": [
    "def find_factorial(number):\n",
    "    a = 1\n",
    "    for i in range(number):\n",
    "        i = i+1\n",
    "        a = i * a\n",
    "    return a"
   ]
  },
  {
   "cell_type": "code",
   "execution_count": 29,
   "id": "b82b4fc6",
   "metadata": {},
   "outputs": [
    {
     "name": "stdout",
     "output_type": "stream",
     "text": [
      "6\n",
      "3628800\n"
     ]
    }
   ],
   "source": [
    "print(find_factorial(3))\n",
    "print(find_factorial(10))\n"
   ]
  },
  {
   "cell_type": "markdown",
   "id": "9850fc99",
   "metadata": {},
   "source": [
    "###### 8. How can you iterate through the characters of a string using a for loop in Python?"
   ]
  },
  {
   "cell_type": "code",
   "execution_count": 30,
   "id": "203206fb",
   "metadata": {},
   "outputs": [
    {
     "name": "stdout",
     "output_type": "stream",
     "text": [
      "G\n",
      "a\n",
      "u\n",
      "r\n",
      "a\n",
      "v\n",
      " \n",
      "N\n",
      "a\n",
      "r\n",
      "w\n",
      "a\n",
      "l\n"
     ]
    }
   ],
   "source": [
    "string = 'Gaurav Narwal'\n",
    "for i in string:\n",
    "    print(i)"
   ]
  },
  {
   "cell_type": "code",
   "execution_count": 31,
   "id": "1119dce5",
   "metadata": {},
   "outputs": [
    {
     "data": {
      "text/plain": [
       "[6, 5, 4, 3, 2, 1]"
      ]
     },
     "execution_count": 31,
     "metadata": {},
     "output_type": "execute_result"
    }
   ],
   "source": [
    "number = [1,2,3,4,5,6]\n",
    "number[::-1]"
   ]
  },
  {
   "cell_type": "code",
   "execution_count": 47,
   "id": "9a9b32f3",
   "metadata": {},
   "outputs": [
    {
     "name": "stdout",
     "output_type": "stream",
     "text": [
      "6\n",
      "5\n",
      "4\n",
      "3\n",
      "2\n",
      "1\n"
     ]
    },
    {
     "data": {
      "text/plain": [
       "[6, 5, 4, 3, 2, 1]"
      ]
     },
     "execution_count": 47,
     "metadata": {},
     "output_type": "execute_result"
    }
   ],
   "source": [
    "reversed_list = [] \n",
    "number = [1,2,3,4,5,6]\n",
    "\n",
    "for i in reversed(number):\n",
    "    print(i)\n",
    "    reversed_list.append(i)\n",
    "reversed_list"
   ]
  },
  {
   "cell_type": "markdown",
   "id": "09eb182e",
   "metadata": {},
   "source": [
    "###### Create a Python program that checks if a string is a palindrome using a for loop.\n"
   ]
  },
  {
   "cell_type": "code",
   "execution_count": 1,
   "id": "9643a531",
   "metadata": {},
   "outputs": [],
   "source": [
    "def check_palindrome(word):\n",
    "    if word == word[::-1]:\n",
    "        print('Yes This string palindrome')\n",
    "    else:\n",
    "        print('No! This is not palindrome')"
   ]
  },
  {
   "cell_type": "code",
   "execution_count": 2,
   "id": "45cbc7dc",
   "metadata": {},
   "outputs": [
    {
     "name": "stdout",
     "output_type": "stream",
     "text": [
      "Yes This string palindrome\n"
     ]
    }
   ],
   "source": [
    "check_palindrome('hanah')"
   ]
  },
  {
   "cell_type": "code",
   "execution_count": 3,
   "id": "11cc5fc6",
   "metadata": {},
   "outputs": [
    {
     "name": "stdout",
     "output_type": "stream",
     "text": [
      "No! This is not palindrome\n"
     ]
    }
   ],
   "source": [
    "check_palindrome('Gaurav')"
   ]
  },
  {
   "cell_type": "markdown",
   "id": "a56d6411",
   "metadata": {},
   "source": [
    "###### Write a Python program to remove duplicates from a list using a for loop.\n"
   ]
  },
  {
   "cell_type": "code",
   "execution_count": 8,
   "id": "675d1c35",
   "metadata": {},
   "outputs": [],
   "source": [
    "def remove_list_duplicates(list):\n",
    "    remove_duplicates = []\n",
    "    for i in list:\n",
    "        if i not in remove_duplicates:\n",
    "            remove_duplicates.append(i)\n",
    "    return remove_duplicates"
   ]
  },
  {
   "cell_type": "code",
   "execution_count": 9,
   "id": "10bfbe85",
   "metadata": {},
   "outputs": [
    {
     "data": {
      "text/plain": [
       "[1, 2, 3, 4, 5, 6]"
      ]
     },
     "execution_count": 9,
     "metadata": {},
     "output_type": "execute_result"
    }
   ],
   "source": [
    "remove_list_duplicates([1,2,3,4,5,6,4,5,6,1,2,4])"
   ]
  },
  {
   "cell_type": "markdown",
   "id": "13642c61",
   "metadata": {},
   "source": [
    "###### Write a Python program to find the sum of all odd numbers from 1 to 50 using a for loop."
   ]
  },
  {
   "cell_type": "code",
   "execution_count": 10,
   "id": "c9a21eea",
   "metadata": {},
   "outputs": [
    {
     "name": "stdout",
     "output_type": "stream",
     "text": [
      "1\n",
      "3\n",
      "5\n",
      "7\n",
      "9\n",
      "11\n",
      "13\n",
      "15\n",
      "17\n",
      "19\n",
      "21\n",
      "23\n",
      "25\n",
      "27\n",
      "29\n",
      "31\n",
      "33\n",
      "35\n",
      "37\n",
      "39\n",
      "41\n",
      "43\n",
      "45\n",
      "47\n",
      "49\n"
     ]
    }
   ],
   "source": [
    "for i in range(50):\n",
    "    i = i + 1 \n",
    "    if i%2 != 0:\n",
    "        print(i)\n",
    "    "
   ]
  },
  {
   "cell_type": "markdown",
   "id": "3ec3be23",
   "metadata": {},
   "source": [
    "###### Write a Python program that uses the `map()` function to square each element of a list of numbers.\n"
   ]
  },
  {
   "cell_type": "code",
   "execution_count": 3,
   "id": "3080d177",
   "metadata": {},
   "outputs": [
    {
     "name": "stdout",
     "output_type": "stream",
     "text": [
      "1\n",
      "4\n",
      "9\n",
      "16\n",
      "25\n"
     ]
    }
   ],
   "source": [
    "def square_root(number):\n",
    "    return number * number\n",
    "number_list = [1,2,3,4,5]\n",
    "a = map(square_root,number_list)\n",
    "for i in a:\n",
    "    print(i)"
   ]
  },
  {
   "cell_type": "markdown",
   "id": "797198de",
   "metadata": {},
   "source": [
    "###### Create a Python program that uses the `map()` function to convert a list of names to uppercase."
   ]
  },
  {
   "cell_type": "code",
   "execution_count": 30,
   "id": "81c69289",
   "metadata": {},
   "outputs": [
    {
     "name": "stdout",
     "output_type": "stream",
     "text": [
      "GAURAV\n",
      "ANKIT\n",
      "RAHUL\n",
      "SUMIT\n"
     ]
    }
   ],
   "source": [
    "def name_uppercase(n):\n",
    "    return n.upper()\n",
    "name = ['gaurav','ankit','rahul','sumit']\n",
    "names = map(name_uppercase,name)\n",
    "for i in names:\n",
    "    print(i)"
   ]
  },
  {
   "cell_type": "markdown",
   "id": "4066adfc",
   "metadata": {},
   "source": [
    "###### Write a Python program that uses the `map()` function to calculate the length of each word in a list of strings.\n"
   ]
  },
  {
   "cell_type": "code",
   "execution_count": 34,
   "id": "c18874e5",
   "metadata": {},
   "outputs": [
    {
     "name": "stdout",
     "output_type": "stream",
     "text": [
      "[6, 11, 11, 5]\n"
     ]
    }
   ],
   "source": [
    "def cal_length(strings):\n",
    "    return len(strings)\n",
    "\n",
    "name = ['gaurav','ankit singh','rahul kumar','sumit']\n",
    "a = map(cal_length,name)\n",
    "print(list(a))"
   ]
  },
  {
   "cell_type": "markdown",
   "id": "d825d695",
   "metadata": {},
   "source": [
    "###### How can you use the `map()` function to apply a custom function to elements of multiple lists simultaneously in Python?\n"
   ]
  },
  {
   "cell_type": "code",
   "execution_count": 48,
   "id": "6587cc73",
   "metadata": {
    "scrolled": true
   },
   "outputs": [
    {
     "name": "stdout",
     "output_type": "stream",
     "text": [
      "[6, 14, 24, 36, 50]\n"
     ]
    }
   ],
   "source": [
    "def product(num1,num2):\n",
    "    return num1 * num2\n",
    "\n",
    "a = [1,2,3,4,5]\n",
    "b = [6,7,8,9,10]\n",
    "products = map(product,a,b)\n",
    "print(list(products))"
   ]
  },
  {
   "cell_type": "code",
   "execution_count": 52,
   "id": "7f3bbd60",
   "metadata": {},
   "outputs": [
    {
     "name": "stdout",
     "output_type": "stream",
     "text": [
      "[]\n"
     ]
    }
   ],
   "source": [
    "print(list(products))"
   ]
  },
  {
   "cell_type": "markdown",
   "id": "caa0d7ee",
   "metadata": {},
   "source": [
    "###### Write a Python program that uses the `map()` function to round each element of a list of floating-point numbers to the nearest integer.\n"
   ]
  },
  {
   "cell_type": "code",
   "execution_count": 38,
   "id": "e2576df9",
   "metadata": {},
   "outputs": [
    {
     "name": "stdout",
     "output_type": "stream",
     "text": [
      "[2, 5, 4]\n"
     ]
    }
   ],
   "source": [
    "def round_number(num):\n",
    "    return round(num)\n",
    "lst = [1.6,5.46,3.9]\n",
    "a = map(round_number,lst)\n",
    "print(list(a))"
   ]
  },
  {
   "cell_type": "markdown",
   "id": "838be8e3",
   "metadata": {},
   "source": [
    "###### What is the `reduce()` function in Python, and what module should you import to use it? Provide an example of its basic usage.\n"
   ]
  },
  {
   "cell_type": "code",
   "execution_count": 57,
   "id": "56d762bb",
   "metadata": {},
   "outputs": [
    {
     "name": "stdout",
     "output_type": "stream",
     "text": [
      "120\n"
     ]
    }
   ],
   "source": [
    "from functools import reduce\n",
    "\n",
    "def product(x, y):\n",
    "    return x * y\n",
    "\n",
    "numbers = [1, 2, 3, 4, 5]\n",
    "\n",
    "result = reduce(product, numbers)\n",
    "\n",
    "print(result)\n"
   ]
  },
  {
   "cell_type": "markdown",
   "id": "d11926db",
   "metadata": {},
   "source": [
    "###### Create a Python program that uses `reduce()` to find the maximum element in a list of numbers."
   ]
  },
  {
   "cell_type": "code",
   "execution_count": 66,
   "id": "4e9df811",
   "metadata": {},
   "outputs": [
    {
     "data": {
      "text/plain": [
       "65"
      ]
     },
     "execution_count": 66,
     "metadata": {},
     "output_type": "execute_result"
    }
   ],
   "source": [
    "def max_element(a, b):\n",
    "    if a > b:\n",
    "        return a\n",
    "    else:\n",
    "        return b\n",
    "numbers = [5,7,65,4,8,64]\n",
    "a = reduce(max_element,numbers)\n",
    "a"
   ]
  },
  {
   "cell_type": "markdown",
   "id": "82d17fbb",
   "metadata": {},
   "source": [
    "###### How can you use the `reduce()` function to concatenate a list of strings into a single string?\n"
   ]
  },
  {
   "cell_type": "code",
   "execution_count": 71,
   "id": "443605b0",
   "metadata": {},
   "outputs": [
    {
     "data": {
      "text/plain": [
       "'Gaurav Narwal Rahul Ankit'"
      ]
     },
     "execution_count": 71,
     "metadata": {},
     "output_type": "execute_result"
    }
   ],
   "source": [
    "def convert_single_string(a,b):\n",
    "    return a + \" \"+ b\n",
    "string = ['Gaurav','Narwal','Rahul','Ankit']\n",
    "a = reduce(convert_single_string,string)\n",
    "a"
   ]
  },
  {
   "cell_type": "markdown",
   "id": "1c386771",
   "metadata": {},
   "source": [
    "###### Write a Python program that calculates the factorial of a number using the `reduce()` function."
   ]
  },
  {
   "cell_type": "code",
   "execution_count": 94,
   "id": "e8ac26ca",
   "metadata": {},
   "outputs": [
    {
     "name": "stdout",
     "output_type": "stream",
     "text": [
      "[2, 6, 24, 120]\n"
     ]
    }
   ],
   "source": [
    "def factorial(a,b):\n",
    "    return a * b\n",
    "\n",
    "def final(lst):\n",
    "    result = []\n",
    "    for i in lst:\n",
    "        l = list(range(1,i+1))\n",
    "        a = reduce(factorial,l)\n",
    "        result.append(a)\n",
    "    return result\n",
    "lst = [2,3,4,5]\n",
    "\n",
    "print(final(lst))\n"
   ]
  },
  {
   "cell_type": "code",
   "execution_count": null,
   "id": "9183952b",
   "metadata": {},
   "outputs": [],
   "source": []
  }
 ],
 "metadata": {
  "kernelspec": {
   "display_name": "Python 3 (ipykernel)",
   "language": "python",
   "name": "python3"
  },
  "language_info": {
   "codemirror_mode": {
    "name": "ipython",
    "version": 3
   },
   "file_extension": ".py",
   "mimetype": "text/x-python",
   "name": "python",
   "nbconvert_exporter": "python",
   "pygments_lexer": "ipython3",
   "version": "3.9.13"
  }
 },
 "nbformat": 4,
 "nbformat_minor": 5
}
