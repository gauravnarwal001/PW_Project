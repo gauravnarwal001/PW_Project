{
 "cells": [
  {
   "cell_type": "markdown",
   "id": "ea6613b8",
   "metadata": {},
   "source": [
    "###### What is a constructor in Python? Explain its purpose and usage."
   ]
  },
  {
   "cell_type": "markdown",
   "id": "977533cc",
   "metadata": {},
   "source": [
    "Constructor is a special method which is use for create and initialize an object of a class. It is also take an input"
   ]
  },
  {
   "cell_type": "markdown",
   "id": "9a438ddc",
   "metadata": {},
   "source": [
    "###### Differentiate between a parameterless constructor and a parameterized constructor in Python."
   ]
  },
  {
   "cell_type": "markdown",
   "id": "28a6e5db",
   "metadata": {},
   "source": [
    "Parameterless constructor are those constructors which is not taking any type of parameter and value is fixed. It is also known as default constructor.\n",
    "Parameterized constructor are those constructors which is taking parameter during object creation."
   ]
  },
  {
   "cell_type": "markdown",
   "id": "6e7103f6",
   "metadata": {},
   "source": [
    "###### How do you define a constructor in a Python class? Provide an example."
   ]
  },
  {
   "cell_type": "markdown",
   "id": "908ce6a9",
   "metadata": {},
   "source": [
    "We define a constructor in a python class with the use of __init__(). \n",
    "\n",
    "def __init__(self,name,age):\n",
    "    self.name = name\n",
    "    self.age = age"
   ]
  },
  {
   "cell_type": "markdown",
   "id": "a294c77a",
   "metadata": {},
   "source": [
    "###### In a class named `Person`, create a constructor that initializes the `name` and `age` attributes. Provide an example of creating an object of this class."
   ]
  },
  {
   "cell_type": "code",
   "execution_count": 14,
   "id": "8001bd00",
   "metadata": {},
   "outputs": [],
   "source": [
    "class Person:\n",
    "    def __init__(self,name,age):\n",
    "        self.name = name\n",
    "        self.age = age"
   ]
  },
  {
   "cell_type": "markdown",
   "id": "0f4c6c2f",
   "metadata": {},
   "source": [
    "###### How can you call a constructor explicitly in Python? Give an example."
   ]
  },
  {
   "cell_type": "markdown",
   "id": "daa65cc5",
   "metadata": {},
   "source": [
    "We cannot call constructor explicitly seperately. Constructor are automatically called when we create an object of a class."
   ]
  },
  {
   "cell_type": "code",
   "execution_count": 20,
   "id": "3dcd201e",
   "metadata": {},
   "outputs": [
    {
     "name": "stdout",
     "output_type": "stream",
     "text": [
      "Name :- gaurav. Age :- 21\n"
     ]
    }
   ],
   "source": [
    "a = Person('gaurav',21)\n",
    "print(f'Name :- {a.name}. Age :- {a.age}')"
   ]
  },
  {
   "cell_type": "markdown",
   "id": "967b65d9",
   "metadata": {},
   "source": [
    "###### What is the significance of the `self` parameter in Python constructors? Explain with an example."
   ]
  },
  {
   "cell_type": "markdown",
   "id": "8cdfc5df",
   "metadata": {},
   "source": [
    "`self` parameter is use for access variables and methods within a class. The self parameter allows you to differentiate between instance variables and local variables within methods, and it ensures that the correct instance is being operated on when calling methods or accessing attributes."
   ]
  },
  {
   "cell_type": "markdown",
   "id": "a2c78797",
   "metadata": {},
   "source": [
    "###### What is inheritance in Python? Explain its significance in object-oriented programming."
   ]
  },
  {
   "cell_type": "markdown",
   "id": "2411e218",
   "metadata": {},
   "source": [
    "Inheritance means that some features or functions inherit from there parent class. It means child class have same function like there parent class because child class inherit features from the parent class"
   ]
  },
  {
   "cell_type": "markdown",
   "id": "3d40f350",
   "metadata": {},
   "source": [
    "###### Explain the concept of method overriding in inheritance. Provide a practical example."
   ]
  },
  {
   "cell_type": "markdown",
   "id": "5a88931a",
   "metadata": {},
   "source": [
    "Method overriding is a concept which is allow a subclass to provide a specific implementation to a method which is already define on a superclass"
   ]
  },
  {
   "cell_type": "markdown",
   "id": "d958b8ce",
   "metadata": {},
   "source": [
    "###### Differentiate between single inheritance and multiple inheritance in Python. Provide examples for each."
   ]
  },
  {
   "cell_type": "markdown",
   "id": "68e134a6",
   "metadata": {},
   "source": [
    "Single Inheritance - In this inheritance child class inherit there functions from only one superclass.\n",
    "Multiple Inheritance - In the multiple inheritance child class inherit there functions from more than one superclasses."
   ]
  },
  {
   "cell_type": "markdown",
   "id": "c99ecb22",
   "metadata": {},
   "source": [
    "###### Explain the concept of encapsulation in Python. What is its role in object-oriented programming?"
   ]
  },
  {
   "cell_type": "markdown",
   "id": "718c2738",
   "metadata": {},
   "source": [
    "Encapsulation means that binding the code and data together. Wrapping data into a single unit."
   ]
  },
  {
   "cell_type": "markdown",
   "id": "168a3952",
   "metadata": {},
   "source": [
    "###### What is polymorphism in Python? Explain how it is related to object-oriented programming."
   ]
  },
  {
   "cell_type": "markdown",
   "id": "250e5179",
   "metadata": {},
   "source": [
    "Polymorphism mean many forms. In the polymorphism classes method are same but its behaves different for different objects.\n",
    "It is related to oops because it is a reusable and flexible in program desiging."
   ]
  }
 ],
 "metadata": {
  "kernelspec": {
   "display_name": "Python 3 (ipykernel)",
   "language": "python",
   "name": "python3"
  },
  "language_info": {
   "codemirror_mode": {
    "name": "ipython",
    "version": 3
   },
   "file_extension": ".py",
   "mimetype": "text/x-python",
   "name": "python",
   "nbconvert_exporter": "python",
   "pygments_lexer": "ipython3",
   "version": "3.9.13"
  }
 },
 "nbformat": 4,
 "nbformat_minor": 5
}
