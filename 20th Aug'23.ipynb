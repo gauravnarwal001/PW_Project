{
 "cells": [
  {
   "cell_type": "markdown",
   "id": "a864e481",
   "metadata": {},
   "source": [
    "## TOPIC: String Based Assignment Problem"
   ]
  },
  {
   "cell_type": "markdown",
   "id": "b4dc5782",
   "metadata": {},
   "source": [
    "###### 1. Write a program to reverse a string."
   ]
  },
  {
   "cell_type": "code",
   "execution_count": 1,
   "id": "7b473f4c",
   "metadata": {},
   "outputs": [
    {
     "data": {
      "text/plain": [
       "'varuaG'"
      ]
     },
     "execution_count": 1,
     "metadata": {},
     "output_type": "execute_result"
    }
   ],
   "source": [
    "a = 'Gaurav'\n",
    "reverse = a[::-1]\n",
    "reverse"
   ]
  },
  {
   "cell_type": "markdown",
   "id": "750d056b",
   "metadata": {},
   "source": [
    "###### 2. Check if a string is a palindrome."
   ]
  },
  {
   "cell_type": "code",
   "execution_count": 2,
   "id": "b0c8fd82",
   "metadata": {},
   "outputs": [
    {
     "name": "stdout",
     "output_type": "stream",
     "text": [
      "Enter your palindrome Hanah\n",
      "Your string is a palindrome\n"
     ]
    }
   ],
   "source": [
    "str1 = input('Enter your palindrome ').upper()\n",
    "reverse_str = str1[::-1].upper()\n",
    "if str1 == reverse_str:\n",
    "    print('Your string is a palindrome')\n",
    "else:\n",
    "    print('Your string is not a palindrome')"
   ]
  },
  {
   "cell_type": "markdown",
   "id": "cc3e4d01",
   "metadata": {},
   "source": [
    "###### 3. Convert a string to uppercase."
   ]
  },
  {
   "cell_type": "code",
   "execution_count": 4,
   "id": "e3d4debc",
   "metadata": {},
   "outputs": [
    {
     "data": {
      "text/plain": [
       "'GAURAV'"
      ]
     },
     "execution_count": 4,
     "metadata": {},
     "output_type": "execute_result"
    }
   ],
   "source": [
    "s = 'Gaurav'\n",
    "s.upper()"
   ]
  },
  {
   "cell_type": "markdown",
   "id": "bc8cea4b",
   "metadata": {},
   "source": [
    "###### 4. Convert a string to lowercase."
   ]
  },
  {
   "cell_type": "code",
   "execution_count": 5,
   "id": "5dc83ae2",
   "metadata": {},
   "outputs": [
    {
     "data": {
      "text/plain": [
       "'gaurav'"
      ]
     },
     "execution_count": 5,
     "metadata": {},
     "output_type": "execute_result"
    }
   ],
   "source": [
    "name = 'Gaurav'\n",
    "name.lower()"
   ]
  },
  {
   "cell_type": "markdown",
   "id": "45294815",
   "metadata": {},
   "source": [
    "###### 5. Count the number of vowels in a string."
   ]
  },
  {
   "cell_type": "code",
   "execution_count": 9,
   "id": "53c4f4f0",
   "metadata": {},
   "outputs": [
    {
     "name": "stdout",
     "output_type": "stream",
     "text": [
      "Enter your string my name is gaurav\n"
     ]
    },
    {
     "data": {
      "text/plain": [
       "6"
      ]
     },
     "execution_count": 9,
     "metadata": {},
     "output_type": "execute_result"
    }
   ],
   "source": [
    "a = input(\"Enter your string \")\n",
    "count = 0\n",
    "for i in a:\n",
    "    if i in ('a','e','i','o','u','A','E','I','O','U'):\n",
    "        count = count + 1\n",
    "count"
   ]
  },
  {
   "cell_type": "markdown",
   "id": "41ecec43",
   "metadata": {},
   "source": [
    "###### 6. Count the number of consonants in a string."
   ]
  },
  {
   "cell_type": "code",
   "execution_count": 10,
   "id": "98cdae5b",
   "metadata": {},
   "outputs": [
    {
     "name": "stdout",
     "output_type": "stream",
     "text": [
      "Enter your string my name is gaurav\n"
     ]
    },
    {
     "data": {
      "text/plain": [
       "8"
      ]
     },
     "execution_count": 10,
     "metadata": {},
     "output_type": "execute_result"
    }
   ],
   "source": [
    "s = input(\"Enter your string \")\n",
    "consonants = \"bcdfghjklmnpqrstvwxyzBCDFGHJKLMNPQRSTVWXYZ\"\n",
    "count = 0\n",
    "for i in s:\n",
    "    if i in consonants:\n",
    "        count = count + 1\n",
    "count"
   ]
  },
  {
   "cell_type": "markdown",
   "id": "8326fdc2",
   "metadata": {},
   "source": [
    "###### 7. Remove all whitespaces from a string."
   ]
  },
  {
   "cell_type": "code",
   "execution_count": 11,
   "id": "01004b3f",
   "metadata": {},
   "outputs": [
    {
     "name": "stdout",
     "output_type": "stream",
     "text": [
      "Enter stringmy name is gaurav \n"
     ]
    },
    {
     "data": {
      "text/plain": [
       "'mynameisgaurav'"
      ]
     },
     "execution_count": 11,
     "metadata": {},
     "output_type": "execute_result"
    }
   ],
   "source": [
    "s = input(\"Enter string\")\n",
    "s.replace(\" \",'')"
   ]
  },
  {
   "cell_type": "markdown",
   "id": "905faf89",
   "metadata": {},
   "source": [
    "###### 8. Find the length of a string without using the `len()` function."
   ]
  },
  {
   "cell_type": "code",
   "execution_count": 13,
   "id": "19022e27",
   "metadata": {},
   "outputs": [
    {
     "name": "stdout",
     "output_type": "stream",
     "text": [
      "Enter string gaurav\n",
      "Your string length  6\n"
     ]
    }
   ],
   "source": [
    "s = input('Enter string ')\n",
    "len = 0\n",
    "for i in s:\n",
    "    len += 1\n",
    "print('Your string length',len)"
   ]
  },
  {
   "cell_type": "markdown",
   "id": "302c6b39",
   "metadata": {},
   "source": [
    "###### 9. Check if a string contains a specific word."
   ]
  },
  {
   "cell_type": "code",
   "execution_count": 19,
   "id": "bab7271a",
   "metadata": {},
   "outputs": [
    {
     "name": "stdout",
     "output_type": "stream",
     "text": [
      "Enter your string GAurav\n",
      "Your string contains 'a' 2 times\n"
     ]
    }
   ],
   "source": [
    "s = input('Enter your string ')\n",
    "count = 0\n",
    "for i in s:\n",
    "    if i in 'aA':\n",
    "        count += 1\n",
    "print(f\"Your string contains 'a' {count} times\")"
   ]
  },
  {
   "cell_type": "markdown",
   "id": "502c09d4",
   "metadata": {},
   "source": [
    "###### 10. Replace a word in a string with another word."
   ]
  },
  {
   "cell_type": "code",
   "execution_count": 20,
   "id": "249eaa20",
   "metadata": {},
   "outputs": [
    {
     "data": {
      "text/plain": [
       "'Gaurav'"
      ]
     },
     "execution_count": 20,
     "metadata": {},
     "output_type": "execute_result"
    }
   ],
   "source": [
    "name = 'gaurav'\n",
    "r = name.replace('g','G')\n",
    "r"
   ]
  },
  {
   "cell_type": "markdown",
   "id": "c792a613",
   "metadata": {},
   "source": [
    "###### 11. Count the occurrences of a word in a string."
   ]
  },
  {
   "cell_type": "code",
   "execution_count": 48,
   "id": "ac3ee56e",
   "metadata": {},
   "outputs": [
    {
     "name": "stdout",
     "output_type": "stream",
     "text": [
      "The word 'are' appera 2 times\n"
     ]
    }
   ],
   "source": [
    "sentence = 'Hello Gaurav how are you? Are you fine'\n",
    "target_word = 'are'\n",
    "count = 0\n",
    "for i in sent.split():\n",
    "    if i.lower() == target_word:\n",
    "        count = count + 1\n",
    "print(f\"The word '{target_word}' appera {count} times\")"
   ]
  },
  {
   "cell_type": "markdown",
   "id": "dcb642b8",
   "metadata": {},
   "source": [
    "###### 12. Find the first occurrence of a word in a string."
   ]
  },
  {
   "cell_type": "code",
   "execution_count": 46,
   "id": "c49c1403",
   "metadata": {},
   "outputs": [
    {
     "name": "stdout",
     "output_type": "stream",
     "text": [
      "The target word 'are' starts from 17 index\n"
     ]
    }
   ],
   "source": [
    "sentence = 'Hello Gaurav how are you? Are you fine'\n",
    "target_word = 'are'\n",
    "count = 0\n",
    "index = sent.lower().find(target_word)\n",
    "print(f\"The target word '{target_word}' starts from {index} index\")"
   ]
  },
  {
   "cell_type": "markdown",
   "id": "3a3f5843",
   "metadata": {},
   "source": [
    "###### 13. Find the last occurrence of a word in a string."
   ]
  },
  {
   "cell_type": "code",
   "execution_count": 47,
   "id": "cf0d00dc",
   "metadata": {},
   "outputs": [
    {
     "name": "stdout",
     "output_type": "stream",
     "text": [
      "The target word 'are' starts from 26 index\n"
     ]
    }
   ],
   "source": [
    "sentence = 'Hello Gaurav how are you? Are you fine'\n",
    "target_word = 'are'\n",
    "count = 0\n",
    "index = sent.lower().rfind(target_word)\n",
    "print(f\"The target word '{target_word}' starts from {index} index\")"
   ]
  },
  {
   "cell_type": "markdown",
   "id": "8b61f79e",
   "metadata": {},
   "source": [
    "###### 14. Split a string into a list of words."
   ]
  },
  {
   "cell_type": "code",
   "execution_count": 49,
   "id": "5a1778b2",
   "metadata": {},
   "outputs": [
    {
     "data": {
      "text/plain": [
       "['Hello', 'Gaurav', 'how', 'are', 'you?', 'Are', 'you', 'fine']"
      ]
     },
     "execution_count": 49,
     "metadata": {},
     "output_type": "execute_result"
    }
   ],
   "source": [
    "sentence = 'Hello Gaurav how are you? Are you fine'\n",
    "sentence.split()"
   ]
  },
  {
   "cell_type": "markdown",
   "id": "f47ae579",
   "metadata": {},
   "source": [
    "###### 15. Join a list of words into a string."
   ]
  },
  {
   "cell_type": "code",
   "execution_count": 57,
   "id": "0f156a6f",
   "metadata": {},
   "outputs": [
    {
     "data": {
      "text/plain": [
       "'Hello Gaurav how are you? Are you fine'"
      ]
     },
     "execution_count": 57,
     "metadata": {},
     "output_type": "execute_result"
    }
   ],
   "source": [
    "lst = ['Hello', 'Gaurav', 'how', 'are', 'you?', 'Are', 'you', 'fine']\n",
    "seperator = ' '\n",
    "string = seperator.join(lst)\n",
    "string"
   ]
  },
  {
   "cell_type": "markdown",
   "id": "deab90ad",
   "metadata": {},
   "source": [
    "###### 16. Convert a string where words are separated by spaces to one where words are separated by underscores."
   ]
  },
  {
   "cell_type": "code",
   "execution_count": 59,
   "id": "dac9b406",
   "metadata": {},
   "outputs": [
    {
     "data": {
      "text/plain": [
       "'Hello_Gaurav!_How_are_you'"
      ]
     },
     "execution_count": 59,
     "metadata": {},
     "output_type": "execute_result"
    }
   ],
   "source": [
    "lst = \"Hello Gaurav! How are you\"\n",
    "string = lst.replace(\" \",\"_\")\n",
    "string"
   ]
  },
  {
   "cell_type": "markdown",
   "id": "6085c875",
   "metadata": {},
   "source": [
    "###### 17. Check if a string starts with a specific word or phrase."
   ]
  },
  {
   "cell_type": "code",
   "execution_count": 60,
   "id": "824ca989",
   "metadata": {},
   "outputs": [
    {
     "name": "stdout",
     "output_type": "stream",
     "text": [
      "The string starts with 'Hello'.\n"
     ]
    }
   ],
   "source": [
    "input_string = \"Hello, how are you today?\"\n",
    "specific_word = \"Hello\"\n",
    "\n",
    "# Check if the string starts with the specific word\n",
    "if input_string.startswith(specific_word):\n",
    "    print(f\"The string starts with '{specific_word}'.\")\n",
    "else:\n",
    "    print(f\"The string does not start with '{specific_word}'.\")"
   ]
  },
  {
   "cell_type": "markdown",
   "id": "b2087894",
   "metadata": {},
   "source": [
    "###### 18. Check if a string ends with a specific word or phrase."
   ]
  },
  {
   "cell_type": "code",
   "execution_count": 65,
   "id": "ad0735bd",
   "metadata": {},
   "outputs": [
    {
     "name": "stdout",
     "output_type": "stream",
     "text": [
      "The string ends with 'today'.\n"
     ]
    }
   ],
   "source": [
    "input_string = \"Hello, how are you today\"\n",
    "specific_word = \"today\"\n",
    "\n",
    "# Check if the string starts with the specific word\n",
    "if input_string.endswith(specific_word):\n",
    "    print(f\"The string ends with '{specific_word}'.\")\n",
    "else:\n",
    "    print(f\"The string does not end with '{specific_word}'.\")"
   ]
  },
  {
   "cell_type": "markdown",
   "id": "f62920b0",
   "metadata": {},
   "source": [
    "###### 19. Convert a string to title case (e.g., \"hello world\" to \"Hello World\")."
   ]
  },
  {
   "cell_type": "code",
   "execution_count": 67,
   "id": "aa39ae37",
   "metadata": {},
   "outputs": [
    {
     "data": {
      "text/plain": [
       "'Hello World'"
      ]
     },
     "execution_count": 67,
     "metadata": {},
     "output_type": "execute_result"
    }
   ],
   "source": [
    "a = 'hello world'\n",
    "a.title()"
   ]
  },
  {
   "cell_type": "markdown",
   "id": "64b40af0",
   "metadata": {},
   "source": [
    "###### 20. Find the longest word in a string."
   ]
  },
  {
   "cell_type": "code",
   "execution_count": 91,
   "id": "ce023f4d",
   "metadata": {},
   "outputs": [
    {
     "name": "stdout",
     "output_type": "stream",
     "text": [
      "This is the longest word in a string - friends\n"
     ]
    }
   ],
   "source": [
    "input_string = \"Hello friends how are you today\"\n",
    "lst = input_string.split()\n",
    "lst2 = []\n",
    "for i in lst:\n",
    "    count = 0\n",
    "    for j in i:\n",
    "        count = count + 1 \n",
    "        \n",
    "    lst2.append(count)\n",
    "\n",
    "i = lst2.index(max(lst2))\n",
    "print('This is the longest word in a string -',lst[i])"
   ]
  },
  {
   "cell_type": "markdown",
   "id": "a24e1699",
   "metadata": {},
   "source": [
    "###### Another Method"
   ]
  },
  {
   "cell_type": "code",
   "execution_count": 7,
   "id": "8968fa78",
   "metadata": {},
   "outputs": [
    {
     "name": "stdout",
     "output_type": "stream",
     "text": [
      "This is the longest word in a string - friends\n"
     ]
    }
   ],
   "source": [
    "input_string = \"Hello friends how are you today\"\n",
    "lst = input_string.split()\n",
    "long = 0\n",
    "for i in lst:\n",
    "    if len(i) > long:\n",
    "        long = len(i)\n",
    "        long_word = i\n",
    "\n",
    "print('This is the longest word in a string -',long_word)"
   ]
  },
  {
   "cell_type": "markdown",
   "id": "8c969408",
   "metadata": {},
   "source": [
    "###### 21. Find the shortest word in a string."
   ]
  },
  {
   "cell_type": "code",
   "execution_count": 9,
   "id": "39cf2fab",
   "metadata": {},
   "outputs": [
    {
     "name": "stdout",
     "output_type": "stream",
     "text": [
      "Shortest words: ['is']\n"
     ]
    }
   ],
   "source": [
    "def find_shortest_words(input_string):\n",
    "    # Split the input string into words\n",
    "    words = input_string.split()\n",
    "\n",
    "    # Initialize a list to store the shortest words\n",
    "    shortest_words = []\n",
    "\n",
    "    # Initialize a variable to store the length of the shortest word\n",
    "    shortest_length = float('inf')\n",
    "\n",
    "    # Iterate through the words to find the shortest ones\n",
    "    for word in words:\n",
    "        word_length = len(word)\n",
    "        if word_length < shortest_length:\n",
    "            short_words = word\n",
    "            shortest_length = word_length\n",
    "        elif word_length == shortest_length:\n",
    "            shortest_words.append(short_word)\n",
    "\n",
    "    return shortest_words\n",
    "\n",
    "# Example usage:\n",
    "input_string = 'Hey this is my string'\n",
    "shortest = find_shortest_words(input_string)\n",
    "print(\"Shortest words:\", shortest)\n"
   ]
  },
  {
   "cell_type": "markdown",
   "id": "589efcd2",
   "metadata": {},
   "source": [
    "###### 22. Reverse the order of words in a string."
   ]
  },
  {
   "cell_type": "code",
   "execution_count": 10,
   "id": "e111d7e6",
   "metadata": {},
   "outputs": [
    {
     "data": {
      "text/plain": [
       "'varuaG olleH'"
      ]
     },
     "execution_count": 10,
     "metadata": {},
     "output_type": "execute_result"
    }
   ],
   "source": [
    "string = 'Hello Gaurav'\n",
    "string[::-1]"
   ]
  },
  {
   "cell_type": "markdown",
   "id": "b2c3fda2",
   "metadata": {},
   "source": [
    "###### 23. Check if a string is alphanumeric."
   ]
  },
  {
   "cell_type": "code",
   "execution_count": 102,
   "id": "56c01a7a",
   "metadata": {},
   "outputs": [
    {
     "name": "stdout",
     "output_type": "stream",
     "text": [
      "Enter Your Stringhello gaurav\n",
      "This is Alphanumeric\n"
     ]
    }
   ],
   "source": [
    "string = input(\"Enter Your String\")\n",
    "alpha = True\n",
    "for i in string.split():\n",
    "    if i.isalnum() == False:\n",
    "        alpha = False\n",
    "        break\n",
    "if alpha:\n",
    "    print(\"This is Alphanumeric\")\n",
    "else:\n",
    "    print(\"This not is Alphanumeric\")\n",
    "        "
   ]
  },
  {
   "cell_type": "markdown",
   "id": "e26f8fa6",
   "metadata": {},
   "source": [
    "###### 24. Extract all digits from a string."
   ]
  },
  {
   "cell_type": "code",
   "execution_count": 123,
   "id": "b3375879",
   "metadata": {},
   "outputs": [
    {
     "name": "stdout",
     "output_type": "stream",
     "text": [
      "1\n",
      "2\n",
      "3\n",
      "4\n",
      "5\n",
      "6\n"
     ]
    }
   ],
   "source": [
    "string = 'Admission number is 123456'\n",
    "\n",
    "for i in string:\n",
    "    if i.isnumeric():\n",
    "        print(i)\n"
   ]
  },
  {
   "cell_type": "markdown",
   "id": "1e9164cc",
   "metadata": {},
   "source": [
    "###### 25. Extract all alphabets from a string."
   ]
  },
  {
   "cell_type": "code",
   "execution_count": 130,
   "id": "d67a53a5",
   "metadata": {},
   "outputs": [
    {
     "data": {
      "text/plain": [
       "'Admissionnumberis'"
      ]
     },
     "execution_count": 130,
     "metadata": {},
     "output_type": "execute_result"
    }
   ],
   "source": [
    "string = 'Admission number is 123456'\n",
    "lst = []\n",
    "for i in string:\n",
    "    if i.isalpha():\n",
    "        lst.append(i)\n",
    "''.join(lst)"
   ]
  },
  {
   "cell_type": "markdown",
   "id": "652bf5be",
   "metadata": {},
   "source": [
    "###### 26. Count the number of uppercase letters in a string."
   ]
  },
  {
   "cell_type": "code",
   "execution_count": 133,
   "id": "c0543801",
   "metadata": {},
   "outputs": [
    {
     "data": {
      "text/plain": [
       "8"
      ]
     },
     "execution_count": 133,
     "metadata": {},
     "output_type": "execute_result"
    }
   ],
   "source": [
    "string = 'Hello Gaurav How ARe YOU'\n",
    "count = 0\n",
    "for i in string:\n",
    "    if i.isupper():\n",
    "        count = count + 1\n",
    "        \n",
    "count"
   ]
  },
  {
   "cell_type": "markdown",
   "id": "6b5ab59a",
   "metadata": {},
   "source": [
    "###### 27. Count the number of lowercase letters in a string."
   ]
  },
  {
   "cell_type": "code",
   "execution_count": 134,
   "id": "5d5b4721",
   "metadata": {},
   "outputs": [
    {
     "data": {
      "text/plain": [
       "16"
      ]
     },
     "execution_count": 134,
     "metadata": {},
     "output_type": "execute_result"
    }
   ],
   "source": [
    "string = 'Admission number is 123456'\n",
    "count = 0\n",
    "for i in string:\n",
    "    if i.islower():\n",
    "        count += 1\n",
    "count"
   ]
  },
  {
   "cell_type": "markdown",
   "id": "b6d53ef5",
   "metadata": {},
   "source": [
    "###### 28. Swap the case of each character in a string."
   ]
  },
  {
   "cell_type": "code",
   "execution_count": 136,
   "id": "77ce52e8",
   "metadata": {},
   "outputs": [
    {
     "data": {
      "text/plain": [
       "'aDMISSION NUMBER IS 123456'"
      ]
     },
     "execution_count": 136,
     "metadata": {},
     "output_type": "execute_result"
    }
   ],
   "source": [
    "string = 'Admission number is 123456'\n",
    "string.swapcase()"
   ]
  },
  {
   "cell_type": "markdown",
   "id": "ce369756",
   "metadata": {},
   "source": [
    "###### 29. Remove a specific word from a string."
   ]
  },
  {
   "cell_type": "code",
   "execution_count": 140,
   "id": "85e95997",
   "metadata": {},
   "outputs": [
    {
     "data": {
      "text/plain": [
       "'Admission is 123456'"
      ]
     },
     "execution_count": 140,
     "metadata": {},
     "output_type": "execute_result"
    }
   ],
   "source": [
    "string = 'Admission number is 123456'\n",
    "string.replace(' number','')"
   ]
  },
  {
   "cell_type": "markdown",
   "id": "86aa14db",
   "metadata": {},
   "source": [
    "###### 31. Extract the username from an email address string."
   ]
  },
  {
   "cell_type": "code",
   "execution_count": 148,
   "id": "f77aa1cb",
   "metadata": {},
   "outputs": [
    {
     "data": {
      "text/plain": [
       "'gauravnarwal'"
      ]
     },
     "execution_count": 148,
     "metadata": {},
     "output_type": "execute_result"
    }
   ],
   "source": [
    "mail = 'gauravnarwal@gmail.com'\n",
    "i = mail.find('@')\n",
    "mail[:i]"
   ]
  },
  {
   "cell_type": "markdown",
   "id": "1a77766e",
   "metadata": {},
   "source": [
    "###### 32. Extract the domain name from an email address string."
   ]
  },
  {
   "cell_type": "code",
   "execution_count": 157,
   "id": "6542ea12",
   "metadata": {},
   "outputs": [
    {
     "data": {
      "text/plain": [
       "'gmail.com'"
      ]
     },
     "execution_count": 157,
     "metadata": {},
     "output_type": "execute_result"
    }
   ],
   "source": [
    "mail = 'gauravnarwal@gmail.com'\n",
    "start = mail.find('@')\n",
    "mail[start+1:]"
   ]
  },
  {
   "cell_type": "markdown",
   "id": "53463a91",
   "metadata": {},
   "source": [
    "###### 33. Replace multiple spaces in a string with a single space."
   ]
  },
  {
   "cell_type": "code",
   "execution_count": 156,
   "id": "dee2363b",
   "metadata": {},
   "outputs": [
    {
     "data": {
      "text/plain": [
       "'Hello Gaurav'"
      ]
     },
     "execution_count": 156,
     "metadata": {},
     "output_type": "execute_result"
    }
   ],
   "source": [
    "string = 'Hello     Gaurav    '\n",
    "lst_string = string.split()\n",
    "' '.join(lst_string)"
   ]
  },
  {
   "cell_type": "markdown",
   "id": "41f2dc18",
   "metadata": {},
   "source": [
    "###### 35. Extract the protocol (http or https) from a URL string."
   ]
  },
  {
   "cell_type": "code",
   "execution_count": 158,
   "id": "92689561",
   "metadata": {},
   "outputs": [
    {
     "name": "stdout",
     "output_type": "stream",
     "text": [
      "Protocol 1: https\n",
      "Protocol 2: http\n",
      "Protocol 3: ftp\n"
     ]
    }
   ],
   "source": [
    "def extract_protocol(url):\n",
    "    # Find the index of the first occurrence of \"://\"\n",
    "    protocol_end = url.find(\"://\")\n",
    "\n",
    "    if protocol_end != -1:\n",
    "        # Extract the protocol from the URL\n",
    "        protocol = url[:protocol_end]\n",
    "        return protocol\n",
    "    else:\n",
    "        return None\n",
    "\n",
    "# Example URL strings\n",
    "url1 = \"https://www.example.com\"\n",
    "url2 = \"http://google.com\"\n",
    "url3 = \"ftp://ftp.example.com\"\n",
    "\n",
    "# Extract protocols\n",
    "protocol1 = extract_protocol(url1)\n",
    "protocol2 = extract_protocol(url2)\n",
    "protocol3 = extract_protocol(url3)\n",
    "\n",
    "# Print extracted protocols\n",
    "print(\"Protocol 1:\", protocol1)\n",
    "print(\"Protocol 2:\", protocol2)\n",
    "print(\"Protocol 3:\", protocol3)"
   ]
  },
  {
   "cell_type": "markdown",
   "id": "a52d07c6",
   "metadata": {},
   "source": [
    "###### 36. Find the frequency of each character in a string."
   ]
  },
  {
   "cell_type": "code",
   "execution_count": 186,
   "id": "3e7a6b38",
   "metadata": {},
   "outputs": [
    {
     "name": "stdout",
     "output_type": "stream",
     "text": [
      "Character : 'h' , Frequency : '1'\n",
      "Character : 'e' , Frequency : '1'\n",
      "Character : 'l' , Frequency : '3'\n",
      "Character : 'o' , Frequency : '2'\n",
      "Character : ' ' , Frequency : '1'\n",
      "Character : 'w' , Frequency : '1'\n",
      "Character : 'r' , Frequency : '1'\n",
      "Character : 'd' , Frequency : '1'\n"
     ]
    }
   ],
   "source": [
    "string = 'hello world'\n",
    "dic = {}\n",
    "for i in string:\n",
    "\n",
    "    if i not in dic:\n",
    "        dic[i] = 1\n",
    "    elif i in dic:\n",
    "        dic[i] += 1\n",
    "for i,j in dic.items():\n",
    "    print(f\"Character : '{i}' , Frequency : '{j}'\")"
   ]
  },
  {
   "cell_type": "markdown",
   "id": "85fb6125",
   "metadata": {},
   "source": [
    "###### 37. Remove all punctuation from a string."
   ]
  },
  {
   "cell_type": "code",
   "execution_count": 191,
   "id": "f45ad25d",
   "metadata": {},
   "outputs": [
    {
     "data": {
      "text/plain": [
       "'HelloWorld'"
      ]
     },
     "execution_count": 191,
     "metadata": {},
     "output_type": "execute_result"
    }
   ],
   "source": [
    "string = 'Hello! World'\n",
    "lst = []\n",
    "for i in string:\n",
    "    if i.isalpha():\n",
    "        lst.append(i)\n",
    "''.join(lst)"
   ]
  },
  {
   "cell_type": "markdown",
   "id": "05e2d17e",
   "metadata": {},
   "source": [
    "###### 38. Check if a string contains only digits."
   ]
  },
  {
   "cell_type": "code",
   "execution_count": 210,
   "id": "72641148",
   "metadata": {},
   "outputs": [
    {
     "name": "stdout",
     "output_type": "stream",
     "text": [
      "This string is not contain only digits\n",
      "This string is contain only digits\n"
     ]
    }
   ],
   "source": [
    "def digit_check(string):\n",
    "    if string.isnumeric():\n",
    "        print(\"This string is contain only digits\")\n",
    "    else:\n",
    "        print(\"This string is not contain only digits\")\n",
    "      \n",
    "\n",
    "string = 'Hello World 1 2'\n",
    "string2 = '123456'\n",
    "digit_check(string)\n",
    "digit_check(string2)"
   ]
  },
  {
   "cell_type": "markdown",
   "id": "a1584ab9",
   "metadata": {},
   "source": [
    "###### 39. Check if a string contains only alphabets."
   ]
  },
  {
   "cell_type": "code",
   "execution_count": 204,
   "id": "ed828b0c",
   "metadata": {},
   "outputs": [
    {
     "name": "stdout",
     "output_type": "stream",
     "text": [
      "This string is contain only alphabets\n",
      "This string is not contain only alphabets\n"
     ]
    }
   ],
   "source": [
    "def alpha_check(string):\n",
    "    if string.isalpha():\n",
    "        print(\"This string is contain only alphabets\")\n",
    "    else:\n",
    "        print(\"This string is not contain only alphabets\")\n",
    "    \n",
    "    \n",
    "str1 = 'HelloWorld'\n",
    "str2 = 'hello123'\n",
    "alpha_check(str1)\n",
    "alpha_check(str2)"
   ]
  },
  {
   "cell_type": "markdown",
   "id": "8e8994e1",
   "metadata": {},
   "source": [
    "###### 40. Convert a string to a list of characters."
   ]
  },
  {
   "cell_type": "code",
   "execution_count": 219,
   "id": "27ba3b6b",
   "metadata": {},
   "outputs": [
    {
     "name": "stdout",
     "output_type": "stream",
     "text": [
      "['M', 'y', ' ', 'n', 'a', 'm', 'e', ' ', 'i', 's', ' ', 'G', 'a', 'u', 'r', 'a', 'v', ' ', 'N', 'a', 'r', 'w', 'a', 'l']\n"
     ]
    }
   ],
   "source": [
    "def list_convert(string):\n",
    "    return list(string)\n",
    "\n",
    "\n",
    "intro = 'My name is Gaurav Narwal'\n",
    "print(list_convert(intro))"
   ]
  },
  {
   "cell_type": "markdown",
   "id": "28c3baca",
   "metadata": {},
   "source": [
    "###### 41. Check if two strings are anagrams."
   ]
  },
  {
   "cell_type": "code",
   "execution_count": 225,
   "id": "dfb17851",
   "metadata": {},
   "outputs": [
    {
     "name": "stdout",
     "output_type": "stream",
     "text": [
      "Listen and Silent are anagrams :-  True\n",
      "Gaurav and Narwal are anagrams :-  False\n"
     ]
    }
   ],
   "source": [
    "def anagrams(str1,str2):\n",
    "    str1 = str1.replace(\" \",\"\").lower()\n",
    "    str2 = str2.replace(\" \",\"\").lower()\n",
    "    return sorted(str1) == sorted(str2)\n",
    "\n",
    "str1 = 'Listen'\n",
    "str2 = 'Silent'\n",
    "str3 = \"Gaurav\"\n",
    "str4 = 'Narwal'\n",
    "\n",
    "print(f'{str1} and {str2} are anagrams :- ',anagrams(str1,str2))\n",
    "print(f'{str3} and {str4} are anagrams :- ',anagrams(str3,str4))"
   ]
  },
  {
   "cell_type": "markdown",
   "id": "f94ff4e6",
   "metadata": {},
   "source": [
    "###### 45. Find all unique words in a string."
   ]
  },
  {
   "cell_type": "code",
   "execution_count": 230,
   "id": "44804606",
   "metadata": {},
   "outputs": [
    {
     "data": {
      "text/plain": [
       "['hello', 'world,', 'there!', \"how's\", 'the', 'world?']"
      ]
     },
     "execution_count": 230,
     "metadata": {},
     "output_type": "execute_result"
    }
   ],
   "source": [
    "def unique_word(str):\n",
    "    lst = []\n",
    "    for i in str.lower().split():\n",
    "        if i not in lst:\n",
    "            lst.append(i)\n",
    "            \n",
    "    return lst\n",
    "\n",
    "\n",
    "\n",
    "string = \"Hello world, hello there! How's the world?\"\n",
    "unique_word(string)"
   ]
  },
  {
   "cell_type": "markdown",
   "id": "6d5fada1",
   "metadata": {},
   "source": [
    "###### 46. Count the number of syllables in a string."
   ]
  },
  {
   "cell_type": "code",
   "execution_count": 22,
   "id": "7a0e0733",
   "metadata": {},
   "outputs": [
    {
     "name": "stdout",
     "output_type": "stream",
     "text": [
      "The number of syllables in 'example' is: 2\n"
     ]
    }
   ],
   "source": [
    "def count_syllables(word):\n",
    "    vowels = \"aeiouy\"\n",
    "    word = word.lower()\n",
    "    count = 0\n",
    "    prev_char = None\n",
    "\n",
    "    for char in word:\n",
    "        if char in vowels and (prev_char is None or prev_char not in vowels):\n",
    "            count += 1\n",
    "        prev_char = char\n",
    "\n",
    "    if word.endswith(\"e\"):\n",
    "        count -= 1  # Remove one for silent 'e' at the end\n",
    "\n",
    "    if count == 0:\n",
    "        count = 1  # At least one syllable in any word\n",
    "\n",
    "    return count\n",
    "\n",
    "# Example usage:\n",
    "string = \"example\"\n",
    "syllable_count = count_syllables(string)\n",
    "print(f\"The number of syllables in '{string}' is: {syllable_count}\")\n"
   ]
  },
  {
   "cell_type": "markdown",
   "id": "ccff96bb",
   "metadata": {},
   "source": [
    "###### 48. Remove the nth word from a string."
   ]
  },
  {
   "cell_type": "code",
   "execution_count": 25,
   "id": "d87d3a78",
   "metadata": {},
   "outputs": [
    {
     "data": {
      "text/plain": [
       "'This is a sentence to demonstrate removing words.'"
      ]
     },
     "execution_count": 25,
     "metadata": {},
     "output_type": "execute_result"
    }
   ],
   "source": [
    "def remove_word(input_string,place):\n",
    "    lst = input_string.split()\n",
    "    del lst[place]\n",
    "    lst = ' '.join(lst)\n",
    "    return lst\n",
    "\n",
    "\n",
    "\n",
    "input_string = \"This is a sample sentence to demonstrate removing words.\"\n",
    "remove_word(input_string,3)"
   ]
  },
  {
   "cell_type": "markdown",
   "id": "c5071cdb",
   "metadata": {},
   "source": [
    "###### 49. Insert a word at the nth position in a string."
   ]
  },
  {
   "cell_type": "code",
   "execution_count": 45,
   "id": "b19c7939",
   "metadata": {},
   "outputs": [
    {
     "data": {
      "text/plain": [
       "'This is a sample sentence to demonstrate removing words.'"
      ]
     },
     "execution_count": 45,
     "metadata": {},
     "output_type": "execute_result"
    }
   ],
   "source": [
    "def insert_word(string,word,n):\n",
    "    lst = string.split()\n",
    "    lst.insert(n,word)\n",
    "    return ' '.join(lst)\n",
    "\n",
    "input_string = \"This is a sentence to demonstrate removing words.\"\n",
    "insert_word(input_string,'sample',3)"
   ]
  },
  {
   "cell_type": "markdown",
   "id": "769a3edc",
   "metadata": {},
   "source": [
    "###### 50. Convert a CSV string to a list of lists."
   ]
  },
  {
   "cell_type": "code",
   "execution_count": 55,
   "id": "28b4cd8c",
   "metadata": {},
   "outputs": [
    {
     "name": "stdout",
     "output_type": "stream",
     "text": [
      "['Name', 'Age', 'Location']\n",
      "['Alice', '25', 'New York']\n",
      "['Bob', '30', 'Los Angeles']\n",
      "['Charlie', '22', 'Chicago']\n"
     ]
    }
   ],
   "source": [
    "import csv\n",
    "from io import StringIO\n",
    "\n",
    "# Sample CSV string\n",
    "csv_string = \"\"\"Name,Age,Location\n",
    "Alice,25,New York\n",
    "Bob,30,Los Angeles\n",
    "Charlie,22,Chicago\"\"\"\n",
    "\n",
    "# Initialize a list to store the CSV data as lists\n",
    "csv_list = []\n",
    "\n",
    "# Create a StringIO object to simulate a file-like object from the CSV string\n",
    "csv_file = StringIO(csv_string)\n",
    "\n",
    "# Use the csv.reader to read the CSV data and append each row to the list\n",
    "csv_reader = csv.reader(csv_file)\n",
    "for row in csv_reader:\n",
    "    csv_list.append(row)\n",
    "\n",
    "# Close the StringIO object\n",
    "csv_file.close()\n",
    "\n",
    "# Print the resulting list of lists\n",
    "for row in csv_list:\n",
    "    print(row)\n"
   ]
  },
  {
   "cell_type": "markdown",
   "id": "7bf972ae",
   "metadata": {},
   "source": [
    "## List Based Practice Problem :"
   ]
  },
  {
   "cell_type": "markdown",
   "id": "4df3e735",
   "metadata": {},
   "source": [
    "###### 1. Create a list with integers from 1 to 10."
   ]
  },
  {
   "cell_type": "code",
   "execution_count": 7,
   "id": "caeeba7d",
   "metadata": {},
   "outputs": [
    {
     "data": {
      "text/plain": [
       "[1, 2, 3, 4, 5, 6, 7, 8, 9, 10]"
      ]
     },
     "execution_count": 7,
     "metadata": {},
     "output_type": "execute_result"
    }
   ],
   "source": [
    "l = []\n",
    "for i in range(1,11):\n",
    "    l.append(i)\n",
    "l"
   ]
  },
  {
   "cell_type": "markdown",
   "id": "94d774c0",
   "metadata": {},
   "source": [
    "###### 2. Find the length of a list without using the `len()` function."
   ]
  },
  {
   "cell_type": "code",
   "execution_count": 8,
   "id": "2085c6bb",
   "metadata": {},
   "outputs": [
    {
     "data": {
      "text/plain": [
       "10"
      ]
     },
     "execution_count": 8,
     "metadata": {},
     "output_type": "execute_result"
    }
   ],
   "source": [
    "lst = [1, 2, 3, 4, 5, 6, 7, 8, 9, 10]\n",
    "count = 0\n",
    "for i in lst:\n",
    "    count += 1\n",
    "count"
   ]
  },
  {
   "cell_type": "markdown",
   "id": "c3036244",
   "metadata": {},
   "source": [
    "###### 3. Append an element to the end of a list."
   ]
  },
  {
   "cell_type": "code",
   "execution_count": 13,
   "id": "1e686555",
   "metadata": {},
   "outputs": [
    {
     "data": {
      "text/plain": [
       "[1, 2, 3, 4, 5, 6, 7, 8, 9, 10, 11]"
      ]
     },
     "execution_count": 13,
     "metadata": {},
     "output_type": "execute_result"
    }
   ],
   "source": [
    "lst = [1, 2, 3, 4, 5, 6, 7, 8, 9, 10]\n",
    "lst.append(11)\n",
    "lst"
   ]
  },
  {
   "cell_type": "markdown",
   "id": "0695f075",
   "metadata": {},
   "source": [
    "###### 4. Insert an element at a specific index in a list."
   ]
  },
  {
   "cell_type": "code",
   "execution_count": 18,
   "id": "91eb7114",
   "metadata": {},
   "outputs": [
    {
     "data": {
      "text/plain": [
       "[1, 2, 20, 3, 4, 5, 6, 7, 8, 9, 10]"
      ]
     },
     "execution_count": 18,
     "metadata": {},
     "output_type": "execute_result"
    }
   ],
   "source": [
    "lst = [1, 2, 3, 4, 5, 6, 7, 8, 9, 10]\n",
    "lst.insert(2,20)\n",
    "lst"
   ]
  },
  {
   "cell_type": "markdown",
   "id": "b71f6cc9",
   "metadata": {},
   "source": [
    "###### 5. Remove an element from a list by its value."
   ]
  },
  {
   "cell_type": "code",
   "execution_count": 20,
   "id": "c3eaa69b",
   "metadata": {},
   "outputs": [
    {
     "data": {
      "text/plain": [
       "[1, 3, 4, 5, 6, 7, 8, 9, 10]"
      ]
     },
     "execution_count": 20,
     "metadata": {},
     "output_type": "execute_result"
    }
   ],
   "source": [
    "lst = [1, 2, 3, 4, 5, 6, 7, 8, 9, 10]\n",
    "lst.remove(2)\n",
    "lst"
   ]
  },
  {
   "cell_type": "markdown",
   "id": "ba272cea",
   "metadata": {},
   "source": [
    "###### 6. Remove an element from a list by its index."
   ]
  },
  {
   "cell_type": "code",
   "execution_count": 22,
   "id": "1a1c4ab3",
   "metadata": {},
   "outputs": [
    {
     "data": {
      "text/plain": [
       "[1, 2, 3, 4, 6, 7, 8, 9, 10]"
      ]
     },
     "execution_count": 22,
     "metadata": {},
     "output_type": "execute_result"
    }
   ],
   "source": [
    "lst = [1, 2, 3, 4, 5, 6, 7, 8, 9, 10]\n",
    "lst.pop(4)\n",
    "lst"
   ]
  },
  {
   "cell_type": "markdown",
   "id": "da66d708",
   "metadata": {},
   "source": [
    "###### 7. Check if an element exists in a list."
   ]
  },
  {
   "cell_type": "code",
   "execution_count": 24,
   "id": "21af3e4b",
   "metadata": {},
   "outputs": [
    {
     "name": "stdout",
     "output_type": "stream",
     "text": [
      "Yes element exists\n"
     ]
    }
   ],
   "source": [
    "lst = [1, 2, 3, 4, 5, 6, 7, 8, 9, 10]\n",
    "check = 2\n",
    "if check in lst:\n",
    "    print('Yes element exists')\n",
    "else:\n",
    "    print('No Exists')"
   ]
  },
  {
   "cell_type": "markdown",
   "id": "798a6c29",
   "metadata": {},
   "source": [
    "###### 8. Find the index of the first occurrence of an element in a list."
   ]
  },
  {
   "cell_type": "code",
   "execution_count": 25,
   "id": "047c4383",
   "metadata": {},
   "outputs": [
    {
     "data": {
      "text/plain": [
       "3"
      ]
     },
     "execution_count": 25,
     "metadata": {},
     "output_type": "execute_result"
    }
   ],
   "source": [
    "lst = [1, 2, 3, 4, 5, 6, 7, 8, 9, 10]\n",
    "lst.index(4)"
   ]
  },
  {
   "cell_type": "markdown",
   "id": "c611fdb0",
   "metadata": {},
   "source": [
    "###### 9. Count the occurrences of an element in a list."
   ]
  },
  {
   "cell_type": "code",
   "execution_count": 26,
   "id": "d98fcc9a",
   "metadata": {},
   "outputs": [
    {
     "data": {
      "text/plain": [
       "4"
      ]
     },
     "execution_count": 26,
     "metadata": {},
     "output_type": "execute_result"
    }
   ],
   "source": [
    "lst = [1, 2, 3,1, 4, 5, 6, 7,1,2,4,9,1, 8, 9, 10]\n",
    "lst.count(1)"
   ]
  },
  {
   "cell_type": "markdown",
   "id": "2db49dfd",
   "metadata": {},
   "source": [
    "###### 10. Reverse the order of elements in a list."
   ]
  },
  {
   "cell_type": "code",
   "execution_count": 28,
   "id": "709edba7",
   "metadata": {},
   "outputs": [
    {
     "data": {
      "text/plain": [
       "[10, 9, 8, 7, 6, 5, 4, 3, 2, 1]"
      ]
     },
     "execution_count": 28,
     "metadata": {},
     "output_type": "execute_result"
    }
   ],
   "source": [
    "lst = [1, 2, 3, 4, 5, 6, 7, 8, 9, 10]\n",
    "lst.reverse()\n",
    "lst"
   ]
  },
  {
   "cell_type": "markdown",
   "id": "dc0c6c18",
   "metadata": {},
   "source": [
    "###### 11. Sort a list in ascending order."
   ]
  },
  {
   "cell_type": "code",
   "execution_count": 30,
   "id": "3f45d4ee",
   "metadata": {},
   "outputs": [
    {
     "data": {
      "text/plain": [
       "[1, 2, 4, 4, 6, 7, 8, 9]"
      ]
     },
     "execution_count": 30,
     "metadata": {},
     "output_type": "execute_result"
    }
   ],
   "source": [
    "lst = [1,8,4,6,9,2,4,7]\n",
    "lst.sort()\n",
    "lst"
   ]
  },
  {
   "cell_type": "markdown",
   "id": "7f2bc66f",
   "metadata": {},
   "source": [
    "###### 12. Sort a list in descending order."
   ]
  },
  {
   "cell_type": "code",
   "execution_count": 33,
   "id": "0ebc056e",
   "metadata": {},
   "outputs": [
    {
     "data": {
      "text/plain": [
       "[10, 9, 8, 7, 6, 5, 4, 3, 2, 1]"
      ]
     },
     "execution_count": 33,
     "metadata": {},
     "output_type": "execute_result"
    }
   ],
   "source": [
    "lst = [1, 2, 3, 4, 5, 6, 7, 8, 9, 10]\n",
    "lst.sort(reverse = True)\n",
    "lst"
   ]
  },
  {
   "cell_type": "markdown",
   "id": "e9096adb",
   "metadata": {},
   "source": [
    "###### 13. Create a list of even numbers from 1 to 20."
   ]
  },
  {
   "cell_type": "code",
   "execution_count": 34,
   "id": "4539b1c3",
   "metadata": {},
   "outputs": [
    {
     "data": {
      "text/plain": [
       "[2, 4, 6, 8, 10, 12, 14, 16, 18, 20]"
      ]
     },
     "execution_count": 34,
     "metadata": {},
     "output_type": "execute_result"
    }
   ],
   "source": [
    "lst = []\n",
    "for i in range(1,21):\n",
    "    if i%2 == 0:\n",
    "        lst.append(i)\n",
    "lst"
   ]
  },
  {
   "cell_type": "markdown",
   "id": "cd1f30d9",
   "metadata": {},
   "source": [
    "###### 14. Create a list of odd numbers from 1 to 20."
   ]
  },
  {
   "cell_type": "code",
   "execution_count": 35,
   "id": "9a79166a",
   "metadata": {},
   "outputs": [
    {
     "data": {
      "text/plain": [
       "[1, 3, 5, 7, 9, 11, 13, 15, 17, 19]"
      ]
     },
     "execution_count": 35,
     "metadata": {},
     "output_type": "execute_result"
    }
   ],
   "source": [
    "lst = []\n",
    "for i in range(1,21):\n",
    "    if i%2 != 0:\n",
    "        lst.append(i)\n",
    "lst"
   ]
  },
  {
   "cell_type": "markdown",
   "id": "508a4aea",
   "metadata": {},
   "source": [
    "###### 15. Find the sum of all elements in a list."
   ]
  },
  {
   "cell_type": "code",
   "execution_count": 36,
   "id": "91cc8123",
   "metadata": {},
   "outputs": [
    {
     "data": {
      "text/plain": [
       "55"
      ]
     },
     "execution_count": 36,
     "metadata": {},
     "output_type": "execute_result"
    }
   ],
   "source": [
    "lst = [1, 2, 3, 4, 5, 6, 7, 8, 9, 10]\n",
    "sum = 0\n",
    "for i in lst:\n",
    "    sum += i\n",
    "sum"
   ]
  },
  {
   "cell_type": "markdown",
   "id": "e2179cb8",
   "metadata": {},
   "source": [
    "###### 16. Find the maximum value in a list."
   ]
  },
  {
   "cell_type": "code",
   "execution_count": 40,
   "id": "3e0fa680",
   "metadata": {},
   "outputs": [
    {
     "data": {
      "text/plain": [
       "10"
      ]
     },
     "execution_count": 40,
     "metadata": {},
     "output_type": "execute_result"
    }
   ],
   "source": [
    "lst = [1, 2, 3, 4, 5, 6, 7, 8, 9, 10]\n",
    "max = 0\n",
    "for i in lst:\n",
    "    if i > max:\n",
    "        max = i\n",
    "max"
   ]
  },
  {
   "cell_type": "markdown",
   "id": "a6cd8f8c",
   "metadata": {},
   "source": [
    "###### 17. Find the minimum value in a list."
   ]
  },
  {
   "cell_type": "code",
   "execution_count": 45,
   "id": "a6292412",
   "metadata": {},
   "outputs": [
    {
     "data": {
      "text/plain": [
       "0"
      ]
     },
     "execution_count": 45,
     "metadata": {},
     "output_type": "execute_result"
    }
   ],
   "source": [
    "lst = [1, 2, 3, 4, 5, 0, 6, 7, 8, 9, 10]\n",
    "min = lst[0]\n",
    "for i in lst:\n",
    "    if i < min:\n",
    "        min = i\n",
    "min"
   ]
  },
  {
   "cell_type": "markdown",
   "id": "eb01412e",
   "metadata": {},
   "source": [
    "###### 18. Create a list of squares of numbers from 1 to 10."
   ]
  },
  {
   "cell_type": "code",
   "execution_count": 48,
   "id": "71ef59e8",
   "metadata": {},
   "outputs": [
    {
     "data": {
      "text/plain": [
       "[1, 4, 9, 16, 25, 0, 36, 49, 64, 81, 100]"
      ]
     },
     "execution_count": 48,
     "metadata": {},
     "output_type": "execute_result"
    }
   ],
   "source": [
    "lst = [1, 2, 3, 4, 5, 0, 6, 7, 8, 9, 10]\n",
    "sqt_lst = []\n",
    "for i in lst:\n",
    "    sqt = i * i\n",
    "    sqt_lst.append(sqt)\n",
    "sqt_lst"
   ]
  },
  {
   "cell_type": "markdown",
   "id": "5c4f8b30",
   "metadata": {},
   "source": [
    "###### 19. Create a list of random numbers."
   ]
  },
  {
   "cell_type": "code",
   "execution_count": 60,
   "id": "e92f0c32",
   "metadata": {},
   "outputs": [
    {
     "data": {
      "text/plain": [
       "[0.645061723064278,\n",
       " 0.20576143829769322,\n",
       " 0.4341524377267335,\n",
       " 0.21378608553995493,\n",
       " 0.4646589019568771,\n",
       " 0.5785336237126524,\n",
       " 0.697762678708263,\n",
       " 0.012843224266131492,\n",
       " 0.921691423144785,\n",
       " 0.9750600142700488]"
      ]
     },
     "execution_count": 60,
     "metadata": {},
     "output_type": "execute_result"
    }
   ],
   "source": [
    "import numpy as np\n",
    "lst = list(np.random.rand(10))\n",
    "lst"
   ]
  },
  {
   "cell_type": "markdown",
   "id": "9f21a07e",
   "metadata": {},
   "source": [
    "###### 20. Remove duplicates from a list."
   ]
  },
  {
   "cell_type": "code",
   "execution_count": 64,
   "id": "22bac5ca",
   "metadata": {},
   "outputs": [
    {
     "data": {
      "text/plain": [
       "[1, 2, 3, 4, 5, 6, 7, 8, 9]"
      ]
     },
     "execution_count": 64,
     "metadata": {},
     "output_type": "execute_result"
    }
   ],
   "source": [
    "lst = [1,5,6,7,2,3,4,2,1,6,4,2,4,8,9]\n",
    "remove_dup = []\n",
    "for i in lst:\n",
    "    if i not in remove_dup:\n",
    "        remove_dup.append(i)\n",
    "remove_dup.sort()\n",
    "remove_dup"
   ]
  },
  {
   "cell_type": "markdown",
   "id": "7dfb65d4",
   "metadata": {},
   "source": [
    "###### 21. Find the common elements between two lists."
   ]
  },
  {
   "cell_type": "code",
   "execution_count": 68,
   "id": "6e0dcb78",
   "metadata": {},
   "outputs": [
    {
     "data": {
      "text/plain": [
       "[1, 2, 3]"
      ]
     },
     "execution_count": 68,
     "metadata": {},
     "output_type": "execute_result"
    }
   ],
   "source": [
    "lst = [1,8,6,5,2,7,5,9,3]\n",
    "lst1 = [1,2,3,45,50]\n",
    "common_lst = []\n",
    "for i in lst1:\n",
    "    if i in lst:\n",
    "        common_lst.append(i)\n",
    "common_lst"
   ]
  },
  {
   "cell_type": "markdown",
   "id": "bf5fcf67",
   "metadata": {},
   "source": [
    "###### 22. Find the difference between two lists."
   ]
  },
  {
   "cell_type": "code",
   "execution_count": 76,
   "id": "1b3556f4",
   "metadata": {},
   "outputs": [
    {
     "name": "stdout",
     "output_type": "stream",
     "text": [
      "[1, 2]\n"
     ]
    }
   ],
   "source": [
    "list1 = [1, 2, 3, 4, 5]\n",
    "list2 = [3, 4, 5, 6, 7]\n",
    "\n",
    "difference = list(set(list1) - set(list2))\n",
    "\n",
    "print(difference)"
   ]
  },
  {
   "cell_type": "markdown",
   "id": "1aa99ed2",
   "metadata": {},
   "source": [
    "###### 23. Merge two lists."
   ]
  },
  {
   "cell_type": "code",
   "execution_count": 82,
   "id": "605a5af7",
   "metadata": {},
   "outputs": [
    {
     "data": {
      "text/plain": [
       "[1, 2, 3, 4, 5, 3, 4, 5, 6, 7]"
      ]
     },
     "execution_count": 82,
     "metadata": {},
     "output_type": "execute_result"
    }
   ],
   "source": [
    "list1 = [1, 2, 3, 4, 5]\n",
    "list2 = [3, 4, 5, 6, 7]\n",
    "list1.extend(list2)\n",
    "list1"
   ]
  },
  {
   "cell_type": "markdown",
   "id": "be1d4748",
   "metadata": {},
   "source": [
    "###### 24. Multiply all elements in a list by 2."
   ]
  },
  {
   "cell_type": "code",
   "execution_count": 1,
   "id": "9bf79c0f",
   "metadata": {},
   "outputs": [
    {
     "data": {
      "text/plain": [
       "[2, 4, 6, 8, 10]"
      ]
     },
     "execution_count": 1,
     "metadata": {},
     "output_type": "execute_result"
    }
   ],
   "source": [
    "list1 = [1, 2, 3, 4, 5]\n",
    "lst = []\n",
    "for i in list1:\n",
    "    a = i*2\n",
    "    lst.append(a)\n",
    "lst"
   ]
  },
  {
   "cell_type": "markdown",
   "id": "fc886596",
   "metadata": {},
   "source": [
    "###### 25. Filter out all even numbers from a list."
   ]
  },
  {
   "cell_type": "code",
   "execution_count": 86,
   "id": "1c58213c",
   "metadata": {},
   "outputs": [
    {
     "data": {
      "text/plain": [
       "[8, 6, 2]"
      ]
     },
     "execution_count": 86,
     "metadata": {},
     "output_type": "execute_result"
    }
   ],
   "source": [
    "lst = [1,8,6,5,2,7,5,9,3]\n",
    "even_lst = []\n",
    "for i in lst:\n",
    "    if i%2 == 0:\n",
    "        even_lst.append(i)\n",
    "even_lst"
   ]
  },
  {
   "cell_type": "markdown",
   "id": "10083629",
   "metadata": {},
   "source": [
    "###### 26. Convert a list of strings to a list of integers."
   ]
  },
  {
   "cell_type": "code",
   "execution_count": 3,
   "id": "9fef4632",
   "metadata": {},
   "outputs": [
    {
     "data": {
      "text/plain": [
       "[1, 2, 5, 6, 4]"
      ]
     },
     "execution_count": 3,
     "metadata": {},
     "output_type": "execute_result"
    }
   ],
   "source": [
    "string_list = ['1','2','5','6','4']\n",
    "int_lst = []\n",
    "for i in string_list:\n",
    "    a = int(i)\n",
    "    int_lst.append(a)\n",
    "int_lst"
   ]
  },
  {
   "cell_type": "markdown",
   "id": "c6d25e2b",
   "metadata": {},
   "source": [
    "###### 27. Convert a list of integers to a list of strings."
   ]
  },
  {
   "cell_type": "code",
   "execution_count": 4,
   "id": "53e65872",
   "metadata": {},
   "outputs": [
    {
     "data": {
      "text/plain": [
       "['1', '2', '5', '6', '4']"
      ]
     },
     "execution_count": 4,
     "metadata": {},
     "output_type": "execute_result"
    }
   ],
   "source": [
    "int_lst = [1, 2, 5, 6, 4]\n",
    "str_lst = []\n",
    "for i in int_lst:\n",
    "    a = str(i)\n",
    "    str_lst.append(a)\n",
    "str_lst"
   ]
  },
  {
   "cell_type": "markdown",
   "id": "3505dad9",
   "metadata": {},
   "source": [
    "###### 29. Create a list of the first 10 Fibonacci numbers."
   ]
  },
  {
   "cell_type": "code",
   "execution_count": 16,
   "id": "2dd14a8e",
   "metadata": {},
   "outputs": [
    {
     "name": "stdout",
     "output_type": "stream",
     "text": [
      "0\n",
      "1\n",
      "1\n",
      "2\n",
      "3\n",
      "5\n",
      "8\n",
      "13\n",
      "21\n",
      "34\n"
     ]
    }
   ],
   "source": [
    "num = 10\n",
    "a,b = 0,1\n",
    "for i in range(num):\n",
    "    print(a)\n",
    "    a ,b = b , b+a\n"
   ]
  },
  {
   "cell_type": "markdown",
   "id": "fabce766",
   "metadata": {},
   "source": [
    "###### 30. Check if a list is sorted."
   ]
  },
  {
   "cell_type": "code",
   "execution_count": 30,
   "id": "0e8b314d",
   "metadata": {},
   "outputs": [
    {
     "name": "stdout",
     "output_type": "stream",
     "text": [
      "This is not sorted list\n",
      "This is sorted list\n",
      "This is not sorted list\n"
     ]
    }
   ],
   "source": [
    "def list_check(lst):\n",
    "    for i in range(len(lst) - 1):\n",
    "        if lst[i] > lst[i + 1]:\n",
    "            return 'This is not sorted list'\n",
    "\n",
    "    return 'This is sorted list'\n",
    "\n",
    "lst = [1,8,6,5,2,7,5,9,3]\n",
    "lst1 = [1,2,3,4,5,6]\n",
    "print(list_check(lst))\n",
    "print(list_check(lst1))\n",
    "print(list_check(lst2))"
   ]
  },
  {
   "cell_type": "markdown",
   "id": "bf5fe8ec",
   "metadata": {},
   "source": [
    "###### 31. Rotate a list to the left by `n` positions."
   ]
  },
  {
   "cell_type": "code",
   "execution_count": null,
   "id": "cd95fcbc",
   "metadata": {},
   "outputs": [],
   "source": []
  }
 ],
 "metadata": {
  "kernelspec": {
   "display_name": "Python 3 (ipykernel)",
   "language": "python",
   "name": "python3"
  },
  "language_info": {
   "codemirror_mode": {
    "name": "ipython",
    "version": 3
   },
   "file_extension": ".py",
   "mimetype": "text/x-python",
   "name": "python",
   "nbconvert_exporter": "python",
   "pygments_lexer": "ipython3",
   "version": "3.9.13"
  }
 },
 "nbformat": 4,
 "nbformat_minor": 5
}
