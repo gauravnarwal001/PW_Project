{
 "cells": [
  {
   "cell_type": "markdown",
   "id": "3a856563",
   "metadata": {},
   "source": [
    "## Basic Level:"
   ]
  },
  {
   "cell_type": "markdown",
   "id": "0ac7cd60",
   "metadata": {},
   "source": [
    "###### 1. Write a Python program to print the numbers from 1 to 10 using a `for` loop."
   ]
  },
  {
   "cell_type": "code",
   "execution_count": 1,
   "id": "ed22e01a",
   "metadata": {},
   "outputs": [
    {
     "name": "stdout",
     "output_type": "stream",
     "text": [
      "1\n",
      "2\n",
      "3\n",
      "4\n",
      "5\n",
      "6\n",
      "7\n",
      "8\n",
      "9\n",
      "10\n"
     ]
    }
   ],
   "source": [
    "num = 1\n",
    "for i in range(10):\n",
    "    print(num)\n",
    "    num += 1"
   ]
  },
  {
   "cell_type": "markdown",
   "id": "dba2d57a",
   "metadata": {},
   "source": [
    "###### 2. Create a program that calculates the sum of all numbers in a list using a `for` loop."
   ]
  },
  {
   "cell_type": "code",
   "execution_count": 2,
   "id": "b55ba698",
   "metadata": {},
   "outputs": [
    {
     "data": {
      "text/plain": [
       "46"
      ]
     },
     "execution_count": 2,
     "metadata": {},
     "output_type": "execute_result"
    }
   ],
   "source": [
    "lst = [1,8,6,5,2,7,5,9,3]\n",
    "add = 0\n",
    "for i in lst:\n",
    "    add += i\n",
    "add"
   ]
  },
  {
   "cell_type": "markdown",
   "id": "4201a425",
   "metadata": {},
   "source": [
    "###### 3. Write a program to print the characters of a string in reverse order using a `for` loop."
   ]
  },
  {
   "cell_type": "code",
   "execution_count": 3,
   "id": "f58a6e01",
   "metadata": {},
   "outputs": [
    {
     "data": {
      "text/plain": [
       "'varuaG'"
      ]
     },
     "execution_count": 3,
     "metadata": {},
     "output_type": "execute_result"
    }
   ],
   "source": [
    "def reverse_string(string):\n",
    "    return string[::-1]\n",
    "\n",
    "string = 'Gaurav'\n",
    "reverse_string(string)"
   ]
  },
  {
   "cell_type": "markdown",
   "id": "4f71acbc",
   "metadata": {},
   "source": [
    "###### 4. Develop a program that finds the factorial of a given number using a `for` loop."
   ]
  },
  {
   "cell_type": "code",
   "execution_count": 6,
   "id": "099009a8",
   "metadata": {},
   "outputs": [
    {
     "data": {
      "text/plain": [
       "24"
      ]
     },
     "execution_count": 6,
     "metadata": {},
     "output_type": "execute_result"
    }
   ],
   "source": [
    "def factorial_number(num):\n",
    "    product = 1\n",
    "    for i in range(1,num+1):\n",
    "        product = product * i\n",
    "    return product\n",
    "\n",
    "factorial_number(4)"
   ]
  },
  {
   "cell_type": "markdown",
   "id": "63e095d3",
   "metadata": {},
   "source": [
    "###### 5. Create a program to print the multiplication table of a given number using a `for` loop."
   ]
  },
  {
   "cell_type": "code",
   "execution_count": 7,
   "id": "3f9f9aa5",
   "metadata": {},
   "outputs": [
    {
     "name": "stdout",
     "output_type": "stream",
     "text": [
      "4\n",
      "8\n",
      "12\n",
      "16\n",
      "20\n",
      "24\n",
      "28\n",
      "32\n",
      "36\n",
      "40\n"
     ]
    }
   ],
   "source": [
    "def multiplication_table(num):\n",
    "    for i in range(1,11):\n",
    "        m = num * i\n",
    "        print(m)\n",
    "multiplication_table(4)"
   ]
  },
  {
   "cell_type": "markdown",
   "id": "92aea31b",
   "metadata": {},
   "source": [
    "###### 6. Write a program that counts the number of even and odd numbers in a list using a `for` loop."
   ]
  },
  {
   "cell_type": "code",
   "execution_count": 10,
   "id": "c2e67997",
   "metadata": {},
   "outputs": [
    {
     "name": "stdout",
     "output_type": "stream",
     "text": [
      "Even  9\n",
      "Odd  6\n"
     ]
    }
   ],
   "source": [
    "def check_list(lst):\n",
    "    even = 0\n",
    "    odd = 0\n",
    "    for i in lst:\n",
    "        if i%2 == 0:\n",
    "            even += 1\n",
    "        else:\n",
    "            odd += 1\n",
    "    print('Even ',even)\n",
    "    print('Odd ',odd)\n",
    "\n",
    "check_list([5,4,3,6,2,8,4,9,3,2,4,6,8,5,3])"
   ]
  },
  {
   "cell_type": "markdown",
   "id": "c422389e",
   "metadata": {},
   "source": [
    "###### 7. Develop a program that prints the squares of numbers from 1 to 5 using a `for` loop."
   ]
  },
  {
   "cell_type": "code",
   "execution_count": 12,
   "id": "1ae0d166",
   "metadata": {},
   "outputs": [
    {
     "name": "stdout",
     "output_type": "stream",
     "text": [
      "Square of 1 is 1\n",
      "Square of 2 is 4\n",
      "Square of 3 is 9\n",
      "Square of 4 is 16\n",
      "Square of 5 is 25\n"
     ]
    }
   ],
   "source": [
    "for i in range(1,6):\n",
    "    a = i * i\n",
    "    print(f'Square of {i} is {a}')"
   ]
  },
  {
   "cell_type": "markdown",
   "id": "908a0c06",
   "metadata": {},
   "source": [
    "###### 8. Create a program to find the length of a string without using the `len()` function."
   ]
  },
  {
   "cell_type": "code",
   "execution_count": 13,
   "id": "28a27b55",
   "metadata": {},
   "outputs": [
    {
     "data": {
      "text/plain": [
       "13"
      ]
     },
     "execution_count": 13,
     "metadata": {},
     "output_type": "execute_result"
    }
   ],
   "source": [
    "def find_length(string):\n",
    "    count = 0\n",
    "    for i in string:\n",
    "        count += 1\n",
    "    return count\n",
    "find_length(\"Gaurav Narwal\")"
   ]
  },
  {
   "cell_type": "markdown",
   "id": "5df84eb9",
   "metadata": {},
   "source": [
    "###### 9. Write a program that calculates the average of a list of numbers using a `for` loop.\n"
   ]
  },
  {
   "cell_type": "code",
   "execution_count": 14,
   "id": "b0f28f54",
   "metadata": {},
   "outputs": [
    {
     "data": {
      "text/plain": [
       "5.111111111111111"
      ]
     },
     "execution_count": 14,
     "metadata": {},
     "output_type": "execute_result"
    }
   ],
   "source": [
    "def count_average(lst):\n",
    "    s = 0\n",
    "    count = 0\n",
    "    for i in lst:\n",
    "        s += i\n",
    "        count += 1\n",
    "    return s/count \n",
    "\n",
    "\n",
    "count_average([1,8,6,5,2,7,5,9,3])"
   ]
  },
  {
   "cell_type": "markdown",
   "id": "9ec2f435",
   "metadata": {},
   "source": [
    "###### 10. Develop a program that prints the first `n` Fibonacci numbers using a `for` loop."
   ]
  },
  {
   "cell_type": "code",
   "execution_count": 17,
   "id": "765c42ae",
   "metadata": {},
   "outputs": [
    {
     "name": "stdout",
     "output_type": "stream",
     "text": [
      "0\n",
      "1\n",
      "1\n",
      "2\n",
      "3\n",
      "5\n",
      "8\n",
      "13\n",
      "21\n",
      "34\n",
      "55\n",
      "89\n"
     ]
    }
   ],
   "source": [
    "def fib_numbers(num):\n",
    "    a ,b = 0 , 1\n",
    "    for i in range(num):\n",
    "        print(a)\n",
    "        a ,b = b, a+b\n",
    "        \n",
    "fib_numbers(12)"
   ]
  },
  {
   "cell_type": "markdown",
   "id": "485053a9",
   "metadata": {},
   "source": [
    "## Intermediate Level:"
   ]
  },
  {
   "cell_type": "markdown",
   "id": "22d52cd1",
   "metadata": {},
   "source": [
    "###### 11. Write a program to check if a given list contains any duplicates using a `for` loop."
   ]
  },
  {
   "cell_type": "code",
   "execution_count": 26,
   "id": "9b773388",
   "metadata": {},
   "outputs": [
    {
     "name": "stdout",
     "output_type": "stream",
     "text": [
      "This list contains 3 duplicates value\n",
      "This list contains 0 duplicates value\n"
     ]
    }
   ],
   "source": [
    "def check_duplicates(lst):\n",
    "    new_lst = []\n",
    "    duplicate_count = 0\n",
    "    for i in lst:\n",
    "        if i not in new_lst:\n",
    "            new_lst.append(i)\n",
    "        elif i in new_lst:\n",
    "            duplicate_count += 1\n",
    "    print(f\"This list contains {duplicate_count} duplicates value\")\n",
    "            \n",
    "check_duplicates([1,2,5,4,6,2,1,4])\n",
    "check_duplicates([1,2,5,4,6])"
   ]
  },
  {
   "cell_type": "markdown",
   "id": "720516f2",
   "metadata": {},
   "source": [
    "###### 12. Create a program that prints the prime numbers in a given range using a `for` loop."
   ]
  },
  {
   "cell_type": "code",
   "execution_count": 81,
   "id": "0c627471",
   "metadata": {},
   "outputs": [
    {
     "name": "stdout",
     "output_type": "stream",
     "text": [
      "[2, 3, 5]\n",
      "[]\n",
      "[2]\n",
      "[2, 3]\n",
      "[2, 3, 5, 7]\n"
     ]
    }
   ],
   "source": [
    "def prime_number(num):\n",
    "    if num == 2:\n",
    "        return [2]\n",
    "    elif num == 3:\n",
    "        return [2,3]\n",
    "    elif num <= 1:\n",
    "        return []\n",
    "    else:\n",
    "        prime_number = [2,3]\n",
    "        for i in range(1,num+1):\n",
    "            a = (6*i) - 1\n",
    "            b = (6*i) + 1\n",
    "            if num >= a:\n",
    "                prime_number.append(a)\n",
    "            if num >= b:\n",
    "                prime_number.append(b)\n",
    "        return prime_number\n",
    "    \n",
    "print(prime_number(5))\n",
    "print(prime_number(1))\n",
    "print(prime_number(2))\n",
    "print(prime_number(3))\n",
    "print(prime_number(10))"
   ]
  },
  {
   "cell_type": "markdown",
   "id": "3da3b755",
   "metadata": {},
   "source": [
    "###### 13. Develop a program that counts the number of vowels in a string using a `for` loop."
   ]
  },
  {
   "cell_type": "code",
   "execution_count": 86,
   "id": "d40b92bb",
   "metadata": {},
   "outputs": [
    {
     "data": {
      "text/plain": [
       "'Total vowels in your string 5'"
      ]
     },
     "execution_count": 86,
     "metadata": {},
     "output_type": "execute_result"
    }
   ],
   "source": [
    "def count_vowels(string):\n",
    "    count = 0\n",
    "    for i in string:\n",
    "        if i in 'AEIOUaeiou':\n",
    "            count += 1\n",
    "    return 'Total vowels in your string {}'.format(count)\n",
    "\n",
    "count_vowels('Gaurav narwal')"
   ]
  },
  {
   "cell_type": "markdown",
   "id": "96b5e0b3",
   "metadata": {},
   "source": [
    "###### 14. Write a program to find the maximum element in a 2D list using a nested `for` loop.\""
   ]
  },
  {
   "cell_type": "code",
   "execution_count": 100,
   "id": "62d0fe92",
   "metadata": {},
   "outputs": [
    {
     "data": {
      "text/plain": [
       "12"
      ]
     },
     "execution_count": 100,
     "metadata": {},
     "output_type": "execute_result"
    }
   ],
   "source": [
    "def max_element(lst):\n",
    "    max_length = lst[0][0]\n",
    "    for i in lst:\n",
    "        if type(i) == list:\n",
    "            for j in i:\n",
    "                if j > max_length:\n",
    "                    max_length = j\n",
    "        elif i > max_length:\n",
    "            max_length = i\n",
    "    return max_length\n",
    "\n",
    "matrix = [\n",
    "    [3, 6, 1],\n",
    "    [8, 12, 9],\n",
    "    [4, 7, 5]\n",
    "]\n",
    "max_element(matrix)"
   ]
  },
  {
   "cell_type": "markdown",
   "id": "88ff4400",
   "metadata": {},
   "source": [
    "###### 15. Create a program that removes all occurrences of a specific element from a list using a `for` loop."
   ]
  },
  {
   "cell_type": "code",
   "execution_count": 101,
   "id": "aac3baad",
   "metadata": {},
   "outputs": [
    {
     "data": {
      "text/plain": [
       "[1, 2, 3, 4, 47, 3, 1]"
      ]
     },
     "execution_count": 101,
     "metadata": {},
     "output_type": "execute_result"
    }
   ],
   "source": [
    "def remove_element(lst,element):\n",
    "    new_list = []\n",
    "    for i in lst:\n",
    "        if i != element:\n",
    "            new_list.append(i)\n",
    "    return new_list\n",
    "\n",
    "remove_element([1,2,3,4,5,47,5,3,1,5],5)"
   ]
  },
  {
   "cell_type": "markdown",
   "id": "05087f9e",
   "metadata": {},
   "source": [
    "###### 16. Develop a program that generates a multiplication table for numbers from 1 to 5 using a nested `for` loop."
   ]
  },
  {
   "cell_type": "code",
   "execution_count": 114,
   "id": "df68632b",
   "metadata": {},
   "outputs": [
    {
     "name": "stdout",
     "output_type": "stream",
     "text": [
      "Multiplication Table of  1\n",
      "1\n",
      "2\n",
      "3\n",
      "4\n",
      "5\n",
      "6\n",
      "7\n",
      "8\n",
      "9\n",
      "10\n",
      "\n",
      "Multiplication Table of  2\n",
      "2\n",
      "4\n",
      "6\n",
      "8\n",
      "10\n",
      "12\n",
      "14\n",
      "16\n",
      "18\n",
      "20\n",
      "\n",
      "Multiplication Table of  3\n",
      "3\n",
      "6\n",
      "9\n",
      "12\n",
      "15\n",
      "18\n",
      "21\n",
      "24\n",
      "27\n",
      "30\n",
      "\n",
      "Multiplication Table of  4\n",
      "4\n",
      "8\n",
      "12\n",
      "16\n",
      "20\n",
      "24\n",
      "28\n",
      "32\n",
      "36\n",
      "40\n",
      "\n",
      "Multiplication Table of  5\n",
      "5\n",
      "10\n",
      "15\n",
      "20\n",
      "25\n",
      "30\n",
      "35\n",
      "40\n",
      "45\n",
      "50\n",
      "\n"
     ]
    }
   ],
   "source": [
    "def multiple_table(start,end):\n",
    "    for i in range(start,end+1):\n",
    "        print('Multiplication Table of ',i)\n",
    "        for j in range(1,11):\n",
    "            table = i * j\n",
    "            print(table)\n",
    "        print()\n",
    "multiple_table(1,5)"
   ]
  },
  {
   "cell_type": "markdown",
   "id": "39479aa5",
   "metadata": {},
   "source": [
    "###### 17. Write a program that converts a list of Fahrenheit temperatures to Celsius using a `for` loop."
   ]
  },
  {
   "cell_type": "code",
   "execution_count": 3,
   "id": "f060a439",
   "metadata": {},
   "outputs": [
    {
     "data": {
      "text/plain": [
       "[-12.222222222222221,\n",
       " 10.0,\n",
       " 4.444444444444445,\n",
       " 37.77777777777778,\n",
       " 51.111111111111114]"
      ]
     },
     "execution_count": 3,
     "metadata": {},
     "output_type": "execute_result"
    }
   ],
   "source": [
    "def celsius_convert(temp_list):\n",
    "    celsius_list = []\n",
    "    for i in temp_list:\n",
    "        celsius = (i - 32) * 5/9\n",
    "        celsius_list.append(celsius)\n",
    "    return celsius_list\n",
    "\n",
    "fah = [10,50,40,100,124]\n",
    "celsius_convert(fah)"
   ]
  },
  {
   "cell_type": "markdown",
   "id": "08291f30",
   "metadata": {},
   "source": [
    "###### 18. Create a program to print the common elements from two lists using a `for` loop."
   ]
  },
  {
   "cell_type": "code",
   "execution_count": 7,
   "id": "e6dd6936",
   "metadata": {},
   "outputs": [
    {
     "data": {
      "text/plain": [
       "[1, 6, 5, 2, 5, 3]"
      ]
     },
     "execution_count": 7,
     "metadata": {},
     "output_type": "execute_result"
    }
   ],
   "source": [
    "def common_elements(lst1,lst2):\n",
    "    common_lst = []\n",
    "    for i in lst1:\n",
    "        if i in lst2:\n",
    "            common_lst.append(i)\n",
    "    return common_lst\n",
    "\n",
    "lst1 = [1,8,6,5,2,7,5,9,3]\n",
    "lst2 = [1,2,5,4,3,5,6]\n",
    "common_elements(lst1,lst2)"
   ]
  },
  {
   "cell_type": "markdown",
   "id": "d453819b",
   "metadata": {},
   "source": [
    "###### 19. Develop a program that prints the pattern of right-angled triangles using a `for` loop. Use ‘*’ to draw the pattern"
   ]
  },
  {
   "cell_type": "code",
   "execution_count": 11,
   "id": "052e6938",
   "metadata": {},
   "outputs": [
    {
     "name": "stdout",
     "output_type": "stream",
     "text": [
      "*\n",
      "**\n",
      "***\n",
      "****\n",
      "*****\n"
     ]
    }
   ],
   "source": [
    "def right_triangle_pattern(num):\n",
    "    star = '*'\n",
    "    for i in range(num):\n",
    "        print(star)\n",
    "        star += '*'\n",
    "        \n",
    "right_triangle_pattern(5)"
   ]
  },
  {
   "cell_type": "markdown",
   "id": "00014352",
   "metadata": {},
   "source": [
    "###### 20. Write a program to find the greatest common divisor (GCD) of two numbers using a `for` loop."
   ]
  },
  {
   "cell_type": "code",
   "execution_count": 41,
   "id": "24ce81ad",
   "metadata": {},
   "outputs": [
    {
     "data": {
      "text/plain": [
       "15"
      ]
     },
     "execution_count": 41,
     "metadata": {},
     "output_type": "execute_result"
    }
   ],
   "source": [
    "def gcd(num1,num2):\n",
    "    lst1 = []\n",
    "    lst2 = []\n",
    "    if num1 < num2:\n",
    "        for i in range(1,num1+1):\n",
    "            if num1%i == 0 and num2%i == 0:\n",
    "                lst1.append(i)\n",
    "        return lst1[-1]\n",
    "    elif num1 > num2:\n",
    "        for i in range(1,num2+1):\n",
    "            if num1%i == 0 and num2%i == 0:\n",
    "                lst2.append(i)\n",
    "        return lst2[-1]\n",
    "    \n",
    "\n",
    "gcd(30,45)"
   ]
  },
  {
   "cell_type": "markdown",
   "id": "0e4702fc",
   "metadata": {},
   "source": [
    "## Advanced Level:"
   ]
  },
  {
   "cell_type": "markdown",
   "id": "d8388489",
   "metadata": {},
   "source": [
    "###### 21. Create a program that calculates the sum of the digits of numbers in a list using a list comprehension."
   ]
  },
  {
   "cell_type": "markdown",
   "id": "af2dde4e",
   "metadata": {},
   "source": [
    "#### First Method"
   ]
  },
  {
   "cell_type": "code",
   "execution_count": 56,
   "id": "59f30def",
   "metadata": {},
   "outputs": [
    {
     "data": {
      "text/plain": [
       "[6, 9, 30, 15]"
      ]
     },
     "execution_count": 56,
     "metadata": {},
     "output_type": "execute_result"
    }
   ],
   "source": [
    "def digits_sum(list):\n",
    "    sum_list = []\n",
    "    for i in list:\n",
    "        a = sum(int(digit) for digit in str(i))\n",
    "        sum_list.append(a)\n",
    "    return sum_list\n",
    "    \n",
    "digits_sum([123, 45, 6789, 555])"
   ]
  },
  {
   "cell_type": "markdown",
   "id": "db87c113",
   "metadata": {},
   "source": [
    "#### Second Method"
   ]
  },
  {
   "cell_type": "code",
   "execution_count": 71,
   "id": "1ae47b50",
   "metadata": {},
   "outputs": [
    {
     "data": {
      "text/plain": [
       "[6, 9, 30, 15]"
      ]
     },
     "execution_count": 71,
     "metadata": {},
     "output_type": "execute_result"
    }
   ],
   "source": [
    "def dig_sum(lst):\n",
    "    lst1 = []\n",
    "    for i in lst:\n",
    "        a = 0\n",
    "        for j in str(i):\n",
    "            j = int(j)\n",
    "            a += j\n",
    "        lst1.append(a)\n",
    "    return lst1\n",
    "\n",
    "dig_sum([123, 45, 6789, 555])"
   ]
  },
  {
   "cell_type": "markdown",
   "id": "bfe981ba",
   "metadata": {},
   "source": [
    "###### 22. Write a program to find the prime factors of a given number using a `for` loop and list comprehension."
   ]
  },
  {
   "cell_type": "code",
   "execution_count": 12,
   "id": "371384fc",
   "metadata": {},
   "outputs": [
    {
     "data": {
      "text/plain": [
       "[2, 17]"
      ]
     },
     "execution_count": 12,
     "metadata": {},
     "output_type": "execute_result"
    }
   ],
   "source": [
    "def is_prime(number):\n",
    "    if number <= 1:\n",
    "        return False\n",
    "    for i in range(2, int(number**0.5) + 1):\n",
    "        if number % i == 0:\n",
    "            return False\n",
    "    return True\n",
    "\n",
    "def prime_factors(n):\n",
    "    factors = [x for x in range(2, n + 1) if n % x == 0 and is_prime(x)]\n",
    "    return factors\n",
    "\n",
    "prime_factors(34)"
   ]
  },
  {
   "cell_type": "markdown",
   "id": "b1dec903",
   "metadata": {},
   "source": [
    "###### 23. Develop a program that extracts unique elements from a list and stores them in a new list using a list comprehension."
   ]
  },
  {
   "cell_type": "code",
   "execution_count": 14,
   "id": "e81050bd",
   "metadata": {},
   "outputs": [
    {
     "data": {
      "text/plain": [
       "[1, 2, 4, 3, 5, 6, 7]"
      ]
     },
     "execution_count": 14,
     "metadata": {},
     "output_type": "execute_result"
    }
   ],
   "source": [
    "def unique_element(list):\n",
    "    new_list = []\n",
    "    for i in list:\n",
    "        if i not in new_list:\n",
    "            new_list.append(i)\n",
    "    return new_list\n",
    "\n",
    "unique_element([1,2,4,3,5,6,7,5,2,1,6])"
   ]
  },
  {
   "cell_type": "markdown",
   "id": "e120166e",
   "metadata": {},
   "source": [
    "###### 24. Create a program that generates a list of all palindromic numbers up to a specified limit using a list comprehension."
   ]
  },
  {
   "cell_type": "code",
   "execution_count": 24,
   "id": "3574f01c",
   "metadata": {},
   "outputs": [
    {
     "name": "stdout",
     "output_type": "stream",
     "text": [
      "Enter the specified limit50\n"
     ]
    },
    {
     "data": {
      "text/plain": [
       "[0, 1, 2, 3, 4, 5, 6, 7, 8, 9, 11, 22, 33, 44]"
      ]
     },
     "execution_count": 24,
     "metadata": {},
     "output_type": "execute_result"
    }
   ],
   "source": [
    "def palindromic_numbers(limit):\n",
    "    palindromic_list = []\n",
    "    for i in range(limit+1):\n",
    "        i = str(i)\n",
    "        if i == i[::-1]:\n",
    "            i = int(i)\n",
    "            palindromic_list.append(i)\n",
    "    return palindromic_list\n",
    "        \n",
    "a = int(input('Enter the specified limit'))\n",
    "palindromic_numbers(a)"
   ]
  },
  {
   "cell_type": "markdown",
   "id": "59c2fa0f",
   "metadata": {},
   "source": [
    "###### 25. Write a program to flatten a nested list using list comprehension."
   ]
  },
  {
   "cell_type": "code",
   "execution_count": 41,
   "id": "f31732b3",
   "metadata": {},
   "outputs": [
    {
     "data": {
      "text/plain": [
       "[1, 2, 3, 4, 5, 6, 7, 8, 9, 10, 11, 12, 13, 14, 15]"
      ]
     },
     "execution_count": 41,
     "metadata": {},
     "output_type": "execute_result"
    }
   ],
   "source": [
    "def flatten_list(lst):\n",
    "    new_list = []\n",
    "    for i in lst:\n",
    "        if type(i) == list:\n",
    "            for j in i:\n",
    "                new_list.append(j)\n",
    "        else:\n",
    "            new_list.append(i)\n",
    "    return new_list\n",
    "\n",
    "flatten_list([[1,2,3],[4,5,6],[7,8,9],10,11,12,13,14,15])"
   ]
  },
  {
   "cell_type": "markdown",
   "id": "4e7e2e10",
   "metadata": {},
   "source": [
    "###### 26. Develop a program that computes the sum of even and odd numbers in a list separately using list comprehension."
   ]
  },
  {
   "cell_type": "code",
   "execution_count": 42,
   "id": "b0b679a4",
   "metadata": {},
   "outputs": [
    {
     "name": "stdout",
     "output_type": "stream",
     "text": [
      "Sum of Odd number is  8\n",
      "Sum of Even number is  16\n"
     ]
    }
   ],
   "source": [
    "def odd_even_sum(lst):\n",
    "    odd = 0\n",
    "    even = 0\n",
    "    for i in lst:\n",
    "        if i%2 == 0:\n",
    "            even += i\n",
    "        else:\n",
    "            odd += i\n",
    "    print('Sum of Odd number is ',odd)\n",
    "    print('Sum of Even number is ',even)\n",
    "    \n",
    "odd_even_sum([1,2,3,4,8,1,2,3])"
   ]
  },
  {
   "cell_type": "markdown",
   "id": "cd5ec365",
   "metadata": {},
   "source": [
    "###### 27. Create a program that generates a list of squares of odd numbers between 1 and 10 using list comprehension."
   ]
  },
  {
   "cell_type": "code",
   "execution_count": 47,
   "id": "8e02fc81",
   "metadata": {},
   "outputs": [
    {
     "data": {
      "text/plain": [
       "[1, 9, 25, 49, 81]"
      ]
     },
     "execution_count": 47,
     "metadata": {},
     "output_type": "execute_result"
    }
   ],
   "source": [
    "def odd_square(num):\n",
    "    new_lst = []\n",
    "    for i in range(num+1):\n",
    "        if i%2 != 0:\n",
    "            odd = i*i\n",
    "            new_lst.append(odd)\n",
    "    return new_lst\n",
    "\n",
    "odd_square(10)"
   ]
  },
  {
   "cell_type": "markdown",
   "id": "29c9ba36",
   "metadata": {},
   "source": [
    "###### 28. Write a program that combines two lists into a dictionary using list comprehension."
   ]
  },
  {
   "cell_type": "code",
   "execution_count": 53,
   "id": "8485e543",
   "metadata": {},
   "outputs": [
    {
     "data": {
      "text/plain": [
       "{'a': 1, 'b': 2, 'c': 3}"
      ]
     },
     "execution_count": 53,
     "metadata": {},
     "output_type": "execute_result"
    }
   ],
   "source": [
    "def combine_list_to_dict(key,value):\n",
    "    dic = {}\n",
    "    for i,j in zip(key,value):\n",
    "        dic[i] = j\n",
    "    return dic\n",
    "\n",
    "combine_list_to_dict(['a','b','c'],[1,2,3])"
   ]
  },
  {
   "cell_type": "markdown",
   "id": "ed1231d4",
   "metadata": {},
   "source": [
    "###### 29. Develop a program that extracts the vowels from a string and stores them in a list using list comprehension."
   ]
  },
  {
   "cell_type": "code",
   "execution_count": 19,
   "id": "db31ea27",
   "metadata": {},
   "outputs": [
    {
     "data": {
      "text/plain": [
       "['a', 'u', 'a', 'a', 'a']"
      ]
     },
     "execution_count": 19,
     "metadata": {},
     "output_type": "execute_result"
    }
   ],
   "source": [
    "def extract_vowels(string):\n",
    "    lst = []\n",
    "    for i in string:\n",
    "        if i in 'AEIOUaeiou':\n",
    "            lst.append(i)\n",
    "    return lst\n",
    "        \n",
    "extract_vowels('Gaurav Narwal')"
   ]
  },
  {
   "cell_type": "markdown",
   "id": "eecd230f",
   "metadata": {},
   "source": [
    "###### 30. Create a program that removes all non-numeric characters from a list of strings using list comprehension."
   ]
  },
  {
   "cell_type": "code",
   "execution_count": 30,
   "id": "61cf4802",
   "metadata": {},
   "outputs": [
    {
     "data": {
      "text/plain": [
       "['12', '23', '56']"
      ]
     },
     "execution_count": 30,
     "metadata": {},
     "output_type": "execute_result"
    }
   ],
   "source": [
    "def remove_non_numeric(lst):\n",
    "    new_lst = []\n",
    "    for i in lst:\n",
    "        a = ''\n",
    "        for j in i:\n",
    "            if j.isdigit():\n",
    "                a += j\n",
    "        new_lst.append(a)\n",
    "    return new_lst\n",
    "            \n",
    "remove_non_numeric(['12sds','23dsa','56dds'])"
   ]
  },
  {
   "cell_type": "markdown",
   "id": "abd94c6f",
   "metadata": {},
   "source": [
    "## Challenge Level:"
   ]
  },
  {
   "cell_type": "markdown",
   "id": "bfcdad16",
   "metadata": {},
   "source": [
    "###### 31. Write a program to generate a list of prime numbers using the Sieve of Eratosthenes algorithm and list comprehension."
   ]
  },
  {
   "cell_type": "code",
   "execution_count": 2,
   "id": "0ac15f7d",
   "metadata": {},
   "outputs": [
    {
     "name": "stdout",
     "output_type": "stream",
     "text": [
      "Enter a limit to find prime numbers up to: 20\n",
      "Prime numbers up to 20 are: [2, 3, 5, 7, 11, 13, 17, 19]\n"
     ]
    }
   ],
   "source": [
    "def sieve_of_eratosthenes(limit):\n",
    "    is_prime = [True] * (limit + 1)\n",
    "    is_prime[0] = is_prime[1] = False  \n",
    "\n",
    "    p = 2\n",
    "    while p**2 <= limit:\n",
    "        if is_prime[p]:\n",
    "            for i in range(p**2, limit + 1, p):\n",
    "                is_prime[i] = False\n",
    "        p += 1\n",
    "\n",
    "    primes = [i for i in range(2, limit + 1) if is_prime[i]]\n",
    "    return primes\n",
    "\n",
    "limit = int(input(\"Enter a limit to find prime numbers up to: \"))\n",
    "\n",
    "prime_numbers = sieve_of_eratosthenes(limit)\n",
    "print(\"Prime numbers up to\", limit, \"are:\", prime_numbers)\n"
   ]
  },
  {
   "cell_type": "markdown",
   "id": "59e30dfc",
   "metadata": {},
   "source": [
    "###### 32. Create a program that generates a list of all Pythagorean triplets up to a specified limit using list comprehension."
   ]
  },
  {
   "cell_type": "code",
   "execution_count": 15,
   "id": "32c641e0",
   "metadata": {},
   "outputs": [
    {
     "data": {
      "text/plain": [
       "[(3, 4, 5), (5, 12, 13), (6, 8, 10), (9, 12, 15)]"
      ]
     },
     "execution_count": 15,
     "metadata": {},
     "output_type": "execute_result"
    }
   ],
   "source": [
    "def pythagorean_triplets(number):\n",
    "    new_list = []\n",
    "    for i in range(1,number+1):\n",
    "        for j in range(i,number+1):\n",
    "            for k in range(j,number+1):\n",
    "                if (j**2) + (i**2) == k**2:\n",
    "                    new_list.append((i,j,k))\n",
    "    return new_list\n",
    "pythagorean_triplets(15)"
   ]
  },
  {
   "cell_type": "markdown",
   "id": "5e903b97",
   "metadata": {},
   "source": [
    "###### 33. Develop a program that generates a list of all possible combinations of two lists using list comprehension."
   ]
  },
  {
   "cell_type": "code",
   "execution_count": 21,
   "id": "f519d2f1",
   "metadata": {},
   "outputs": [
    {
     "data": {
      "text/plain": [
       "[[1, 'a'],\n",
       " [1, 'b'],\n",
       " [1, 'c'],\n",
       " [2, 'a'],\n",
       " [2, 'b'],\n",
       " [2, 'c'],\n",
       " [3, 'a'],\n",
       " [3, 'b'],\n",
       " [3, 'c']]"
      ]
     },
     "execution_count": 21,
     "metadata": {},
     "output_type": "execute_result"
    }
   ],
   "source": [
    "def list_combination(lst1,lst2):\n",
    "    new_list = []\n",
    "    for i in lst1:\n",
    "        for j in lst2:\n",
    "            new_list.append([i,j])\n",
    "    return new_list\n",
    "list_combination([1,2,3],['a','b','c'])"
   ]
  },
  {
   "cell_type": "markdown",
   "id": "5ca42520",
   "metadata": {},
   "source": [
    "###### 34. Write a program that calculates the mean, median, and mode of a list of numbers using list comprehension."
   ]
  },
  {
   "cell_type": "code",
   "execution_count": 6,
   "id": "4a313fc0",
   "metadata": {},
   "outputs": [
    {
     "name": "stdout",
     "output_type": "stream",
     "text": [
      "Mean of the list :- 4.0\n",
      "Median of the list :- 4\n",
      "Mode of the list :- [5]\n"
     ]
    }
   ],
   "source": [
    "def calculate(lst):\n",
    "    from collections import Counter\n",
    "\n",
    "    # Mean\n",
    "    print('Mean of the list :-',(sum(lst)) / len(lst))\n",
    "    \n",
    "    # Median\n",
    "    lst.sort()\n",
    "    l = len(lst)\n",
    "    \n",
    "    if l%2 == 0:\n",
    "        middle1 = lst[l//2]\n",
    "        middle2 = lst[(l//2) -1]\n",
    "        median = (middle1+middle2) / 2\n",
    "    else:\n",
    "        median = lst[l//2]\n",
    "    print('Median of the list :-',median)\n",
    "    \n",
    "    #Mode\n",
    "    count_dict = Counter(numbers)\n",
    "    mode = [key for key, value in count_dict.items() if value == max(count_dict.values())]\n",
    "    print('Mode of the list :-',mode)\n",
    "    \n",
    "    \n",
    "calculate([2,4,9,1,2,3,4,5,6])"
   ]
  },
  {
   "cell_type": "markdown",
   "id": "17ab2676",
   "metadata": {},
   "source": [
    "###### 37. Write a program that finds the longest word in a sentence using list comprehension."
   ]
  },
  {
   "cell_type": "code",
   "execution_count": 33,
   "id": "67076291",
   "metadata": {},
   "outputs": [
    {
     "data": {
      "text/plain": [
       "'quick'"
      ]
     },
     "execution_count": 33,
     "metadata": {},
     "output_type": "execute_result"
    }
   ],
   "source": [
    "def find_long_word(sentence):\n",
    "    lst = []\n",
    "    large = ''\n",
    "    for i in sentence.split():\n",
    "        lst.append(i)\n",
    "    \n",
    "    length = len(lst[0])\n",
    "    for j in lst:\n",
    "        if len(j) > length:\n",
    "            large = j\n",
    "            length = len(large)\n",
    "    return large\n",
    "        \n",
    "\n",
    "find_long_word(\"The quick brown fox jumps over the lazy dog\")"
   ]
  },
  {
   "cell_type": "markdown",
   "id": "09c3c8b3",
   "metadata": {},
   "source": [
    "###### 40. Develop a program that calculates the sum of the digits of numbers from 1 to 1000 using list comprehension."
   ]
  },
  {
   "cell_type": "code",
   "execution_count": null,
   "id": "eb032d35",
   "metadata": {},
   "outputs": [],
   "source": [
    "def total_sum():\n",
    "    for i in "
   ]
  }
 ],
 "metadata": {
  "kernelspec": {
   "display_name": "Python 3 (ipykernel)",
   "language": "python",
   "name": "python3"
  },
  "language_info": {
   "codemirror_mode": {
    "name": "ipython",
    "version": 3
   },
   "file_extension": ".py",
   "mimetype": "text/x-python",
   "name": "python",
   "nbconvert_exporter": "python",
   "pygments_lexer": "ipython3",
   "version": "3.9.13"
  }
 },
 "nbformat": 4,
 "nbformat_minor": 5
}
