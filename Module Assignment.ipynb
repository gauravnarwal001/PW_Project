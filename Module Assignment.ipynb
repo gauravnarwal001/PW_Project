{
 "cells": [
  {
   "cell_type": "markdown",
   "id": "898bc14b",
   "metadata": {},
   "source": [
    "# What is the difference between static and dynamic variables in Python?"
   ]
  },
  {
   "cell_type": "raw",
   "id": "8d23c2b2",
   "metadata": {},
   "source": [
    "Static Variables: Shared across all instances of a class, retaining the same value for all objects of that class.\n",
    "Dynamic Variables: Unique to each instance of a class, allowing each object to have its own distinct value."
   ]
  },
  {
   "cell_type": "markdown",
   "id": "5994600f",
   "metadata": {},
   "source": [
    "# Explain the purpose of \"pop\",\"popitem\",\"clear()\" in a dictionary with suitable examples."
   ]
  },
  {
   "cell_type": "raw",
   "id": "bcef7566",
   "metadata": {},
   "source": [
    "POP: Removes a specified key from the dictionary and returns the corresponding value.\n",
    "POP_ITEM: Removes and returns the last key-value pair inserted into the dictionary as a tuple.\n",
    "CLEAR: Removes all key-value pairs from the dictionary, effectively emptying it."
   ]
  },
  {
   "cell_type": "code",
   "execution_count": 11,
   "id": "80672e5a",
   "metadata": {},
   "outputs": [
    {
     "name": "stdout",
     "output_type": "stream",
     "text": [
      "3\n",
      "{'a': 1, 'b': 2}\n"
     ]
    }
   ],
   "source": [
    "#POP\n",
    "my_dict = {'a': 1, 'b': 2, 'c': 3}\n",
    "print(my_dict.pop(\"c\"))\n",
    "print(my_dict)"
   ]
  },
  {
   "cell_type": "code",
   "execution_count": 14,
   "id": "5c19a7bb",
   "metadata": {},
   "outputs": [
    {
     "name": "stdout",
     "output_type": "stream",
     "text": [
      "('c', 3)\n",
      "{'a': 1, 'b': 2}\n"
     ]
    }
   ],
   "source": [
    "# popitem\n",
    "my_dict = {'a': 1, 'b': 2, 'c': 3}\n",
    "print(my_dict.popitem())\n",
    "print(my_dict)"
   ]
  },
  {
   "cell_type": "code",
   "execution_count": 15,
   "id": "59c60f30",
   "metadata": {},
   "outputs": [
    {
     "name": "stdout",
     "output_type": "stream",
     "text": [
      "None\n",
      "{}\n"
     ]
    }
   ],
   "source": [
    "# clear\n",
    "my_dict = {'a': 1, 'b': 2, 'c': 3}\n",
    "print(my_dict.clear())\n",
    "print(my_dict)"
   ]
  },
  {
   "cell_type": "markdown",
   "id": "81f31eb8",
   "metadata": {},
   "source": [
    "# Differentiate between mutable and immutable data types in Python."
   ]
  },
  {
   "cell_type": "raw",
   "id": "72101f28",
   "metadata": {},
   "source": [
    "Mutable - Those data structure which are changeable.\n",
    "Immutable - Those data structure which are not changeable."
   ]
  },
  {
   "cell_type": "markdown",
   "id": "0eab30e9",
   "metadata": {},
   "source": [
    "# What is __init__?Explain with an example."
   ]
  },
  {
   "cell_type": "raw",
   "id": "713f4523",
   "metadata": {},
   "source": [
    "__init__ is a special method in python. It is automatically called when a new instance of a class is created."
   ]
  },
  {
   "cell_type": "code",
   "execution_count": 19,
   "id": "96e67f3f",
   "metadata": {},
   "outputs": [
    {
     "name": "stdout",
     "output_type": "stream",
     "text": [
      "Alice\n",
      "30\n"
     ]
    }
   ],
   "source": [
    "class Person:\n",
    "    def __init__(self, name, age):\n",
    "        # Initializing instance variables\n",
    "        self.name = name\n",
    "        self.age = age\n",
    "        \n",
    "person1 = Person(\"Alice\", 30)\n",
    "print(person1.name)\n",
    "print(person1.age)"
   ]
  },
  {
   "cell_type": "markdown",
   "id": "77d6dc85",
   "metadata": {},
   "source": [
    "# What is docstring in Python?"
   ]
  },
  {
   "cell_type": "raw",
   "id": "ca0b0839",
   "metadata": {},
   "source": [
    "A docstring in Python is a special type of comment used to document a module, class, method, or function."
   ]
  },
  {
   "cell_type": "markdown",
   "id": "26c1f047",
   "metadata": {},
   "source": [
    "# What is break, continue and pass in Python?"
   ]
  },
  {
   "cell_type": "raw",
   "id": "bc25fd46",
   "metadata": {},
   "source": [
    "break - Exits the loop immediately when a condition is met.\n",
    "continue - Skips the current iteration and moves to the next one.\n",
    "pass - Does nothing and is used as a placeholder."
   ]
  },
  {
   "cell_type": "markdown",
   "id": "d5637ba9",
   "metadata": {},
   "source": [
    "# What is the use of self in Python?"
   ]
  },
  {
   "cell_type": "raw",
   "id": "3e514a86",
   "metadata": {},
   "source": [
    "for connecting the all method with the class itself"
   ]
  },
  {
   "cell_type": "markdown",
   "id": "b16c4154",
   "metadata": {},
   "source": [
    "# What are global, protected and private attributes in Python?"
   ]
  },
  {
   "cell_type": "raw",
   "id": "b468580d",
   "metadata": {},
   "source": [
    "global, protected and private attributes is the concept of encapsulation these are usefull for how we present our data. \n",
    "\n",
    "global - Variables defined outside of any class or function.\n",
    "\n",
    "protected -  Attributes with a double underscore prefix '__'.\n",
    "\n",
    "private - Attributes with a single underscore prefix '_'."
   ]
  },
  {
   "cell_type": "markdown",
   "id": "37794304",
   "metadata": {},
   "source": [
    "# What are lists and tuples? What is the key difference between the two?"
   ]
  },
  {
   "cell_type": "raw",
   "id": "ac20bce5",
   "metadata": {},
   "source": [
    "list - Ordered, mutable collections of items. Lists can contain elements of different types and can be modified after creation.\n",
    "\n",
    "tuple - tuple also contain different data types of elements but we can't change our tuple.\n",
    "\n",
    "\n",
    "Key Difference:- \n",
    "\n",
    "Lists are mutable, meaning their contents can be changed.\n",
    "Tuples are immutable, meaning their contents cannot be modified after creation.\n"
   ]
  },
  {
   "cell_type": "markdown",
   "id": "18eb35fd",
   "metadata": {},
   "source": [
    "# What are Dict and List comprehensions?"
   ]
  },
  {
   "cell_type": "raw",
   "id": "d22bc218",
   "metadata": {},
   "source": [
    "dict and list comrehensions is the concept where we create our dict and list into a single line of code using loops."
   ]
  },
  {
   "cell_type": "markdown",
   "id": "1ea19c3b",
   "metadata": {},
   "source": [
    "# What is lambda in Python? Why is it used?"
   ]
  },
  {
   "cell_type": "raw",
   "id": "52911ff8",
   "metadata": {},
   "source": [
    "Lambda is very useful and popular in python. We use lambda function when we want a function into a single line. Generally, we use our lambda when we want simple or small function within a line."
   ]
  },
  {
   "cell_type": "markdown",
   "id": "cf6e5b1d",
   "metadata": {},
   "source": [
    "# Pillars of Oops"
   ]
  },
  {
   "cell_type": "raw",
   "id": "8e97f10e",
   "metadata": {},
   "source": [
    "Encapsulation: Bundles data and methods, hiding internal details.\n",
    "Abstraction: Hides complex implementation details, exposing only essential features.\n",
    "Inheritance: Allows one class to inherit attributes and methods from another.\n",
    "Polymorphism: Enables objects to be treated as instances of a common interface, allowing for flexible method usage."
   ]
  },
  {
   "cell_type": "markdown",
   "id": "31107ba0",
   "metadata": {},
   "source": [
    "# How does inheritance work in python? Explain all types of inheritance with an example."
   ]
  },
  {
   "cell_type": "raw",
   "id": "96b6a9c9",
   "metadata": {},
   "source": [
    "Inheritance is reduce code duplicacy. If we want to use same method or same attribute within a different class then we are using inheritance for inherit those features from our parent class.\n",
    "\n",
    "Types of Inheritance:-\n",
    "Single Inheritance\n",
    "Multiple Inheritance\n",
    "Multi-Level Inheritance"
   ]
  },
  {
   "cell_type": "markdown",
   "id": "25d565d8",
   "metadata": {},
   "source": [
    "# What is encapsulation?"
   ]
  },
  {
   "cell_type": "raw",
   "id": "0cc6e834",
   "metadata": {},
   "source": [
    "Encapsulation: Bundles data and methods, hiding internal details."
   ]
  },
  {
   "cell_type": "markdown",
   "id": "40a9f030",
   "metadata": {},
   "source": [
    "# What is polymorphism?"
   ]
  },
  {
   "cell_type": "raw",
   "id": "98b5606d",
   "metadata": {},
   "source": [
    "Polymorphism: Enables objects to be treated as instances of a common interface, allowing for flexible method usage."
   ]
  },
  {
   "cell_type": "markdown",
   "id": "1006af03",
   "metadata": {},
   "source": [
    "# Que 1.1"
   ]
  },
  {
   "cell_type": "raw",
   "id": "3f795075",
   "metadata": {},
   "source": [
    "Invalid Identifiers\n",
    "\n",
    "Serial_no.\n",
    "b) 1st_Room  - Can't start with number\n",
    "c) Hundred$  - can't use any symbols($)\n",
    "e) total-Marks - can't use any symbols(-)\n",
    "g) True - can't use any Bool Value(True)"
   ]
  },
  {
   "cell_type": "markdown",
   "id": "992f3166",
   "metadata": {},
   "source": [
    "# Que"
   ]
  },
  {
   "cell_type": "code",
   "execution_count": 32,
   "id": "c7449a94",
   "metadata": {},
   "outputs": [],
   "source": [
    "name = [\"Mohan\", \"dash\", \"karam\", \"chandra\", \"gandhi\", \"Bapu\"]"
   ]
  },
  {
   "cell_type": "code",
   "execution_count": 33,
   "id": "1ab1c47d",
   "metadata": {},
   "outputs": [
    {
     "data": {
      "text/plain": [
       "['freedom_fighter', 'Mohan', 'dash', 'karam', 'chandra', 'gandhi', 'Bapu']"
      ]
     },
     "execution_count": 33,
     "metadata": {},
     "output_type": "execute_result"
    }
   ],
   "source": [
    "# add element \"freedom_fighter\"\n",
    "\n",
    "name.insert(0,\"freedom_fighter\")\n",
    "name"
   ]
  },
  {
   "cell_type": "markdown",
   "id": "5c5a222a",
   "metadata": {},
   "source": [
    "# Write a program to display the appropriate message as per the color of signal (RED-Stop/Yellow-Stay/ Green-Go) at the road crossing."
   ]
  },
  {
   "cell_type": "code",
   "execution_count": 34,
   "id": "f3157818",
   "metadata": {},
   "outputs": [
    {
     "name": "stdout",
     "output_type": "stream",
     "text": [
      "Enter the signal color (RED, YELLOW, GREEN): green\n",
      "Go\n"
     ]
    }
   ],
   "source": [
    "signal = input(\"Enter the signal color (RED, YELLOW, GREEN): \").strip().upper()\n",
    "\n",
    "if signal == \"RED\":\n",
    "    print(\"Stop\")\n",
    "elif signal == \"YELLOW\":\n",
    "    print(\"Stay\")\n",
    "elif signal == \"GREEN\":\n",
    "    print(\"Go\")\n",
    "else:\n",
    "    print(\"Invalid color! Please enter RED, YELLOW, or GREEN.\")\n"
   ]
  },
  {
   "cell_type": "markdown",
   "id": "f119b1fe",
   "metadata": {},
   "source": [
    "# Write a program to create a simple calculator performing only four basic operations (+,-,/,*)."
   ]
  },
  {
   "cell_type": "code",
   "execution_count": 35,
   "id": "eff2426a",
   "metadata": {},
   "outputs": [
    {
     "name": "stdout",
     "output_type": "stream",
     "text": [
      "Enter the first number: 5\n",
      "Enter the operator (+, -, *, /): +\n",
      "Enter the second number: 2\n",
      "The result is: 7.0\n"
     ]
    }
   ],
   "source": [
    "def calculator():\n",
    "    num1 = float(input(\"Enter the first number: \"))\n",
    "    operator = input(\"Enter the operator (+, -, *, /): \").strip()\n",
    "    num2 = float(input(\"Enter the second number: \"))\n",
    "\n",
    "    if operator == \"+\":\n",
    "        result = num1 + num2\n",
    "    elif operator == \"-\":\n",
    "        result = num1 - num2\n",
    "    elif operator == \"*\":\n",
    "        result = num1 * num2\n",
    "    elif operator == \"/\":\n",
    "        if num2 != 0:\n",
    "            result = num1 / num2\n",
    "        else:\n",
    "            return \"Error! Division by zero.\"\n",
    "    else:\n",
    "        return \"Invalid operator! Please use +, -, *, or /.\"\n",
    "\n",
    "    return f\"The result is: {result}\"\n",
    "\n",
    "print(calculator())\n"
   ]
  },
  {
   "cell_type": "markdown",
   "id": "eb6ac483",
   "metadata": {},
   "source": [
    "# Write a program to find the sum of all the positive numbers entered by the user. As soon as the user enters a negative number, stop taking in any further input from the user and display the sum."
   ]
  },
  {
   "cell_type": "code",
   "execution_count": 36,
   "id": "3ffa302a",
   "metadata": {},
   "outputs": [
    {
     "name": "stdout",
     "output_type": "stream",
     "text": [
      "Enter a positive number (or a negative number to stop): 5\n",
      "Enter a positive number (or a negative number to stop): 4\n",
      "Enter a positive number (or a negative number to stop): 34\n",
      "Enter a positive number (or a negative number to stop): 84\n",
      "Enter a positive number (or a negative number to stop): -5\n",
      "The sum of all positive numbers entered is: 127.0\n"
     ]
    }
   ],
   "source": [
    "# Program to find the sum of all positive numbers entered by the user\n",
    "\n",
    "sum_of_numbers = 0\n",
    "\n",
    "while True:\n",
    "    number = float(input(\"Enter a positive number (or a negative number to stop): \"))\n",
    "    \n",
    "    if number < 0:\n",
    "        break  # Exit the loop if the user enters a negative number\n",
    "    \n",
    "    sum_of_numbers += number  # Add the positive number to the sum\n",
    "\n",
    "print(f\"The sum of all positive numbers entered is: {sum_of_numbers}\")\n"
   ]
  },
  {
   "cell_type": "markdown",
   "id": "28a2cf8f",
   "metadata": {},
   "source": [
    "# Write a program to find prime numbers between 2 to 100 using nested for loops."
   ]
  },
  {
   "cell_type": "code",
   "execution_count": 37,
   "id": "401ec30a",
   "metadata": {},
   "outputs": [
    {
     "name": "stdout",
     "output_type": "stream",
     "text": [
      "2 3 5 7 11 13 17 19 23 29 31 37 41 43 47 53 59 61 67 71 73 79 83 89 97 "
     ]
    }
   ],
   "source": [
    "for num in range(2, 101):  # Loop through numbers from 2 to 100\n",
    "    is_prime = True  # Assume the number is prime\n",
    "    \n",
    "    for i in range(2, int(num ** 0.5) + 1): \n",
    "        if num % i == 0:  \n",
    "            is_prime = False  \n",
    "            break\n",
    "\n",
    "    if is_prime: \n",
    "        print(num, end=\" \")  # Print the prime number\n",
    "\n"
   ]
  },
  {
   "cell_type": "markdown",
   "id": "3a084f80",
   "metadata": {},
   "source": [
    "# Que 1.12 "
   ]
  },
  {
   "cell_type": "code",
   "execution_count": 38,
   "id": "2aea4eac",
   "metadata": {},
   "outputs": [
    {
     "name": "stdout",
     "output_type": "stream",
     "text": [
      "Enter the marks for subject 1: 50\n",
      "Enter the marks for subject 2: 85\n",
      "Enter the marks for subject 3: 65\n",
      "Enter the marks for subject 4: 74\n",
      "Enter the marks for subject 5: 86\n",
      "\n",
      "Marks obtained in five major subjects:\n",
      "Subject 1: 50.0\n",
      "Subject 2: 85.0\n",
      "Subject 3: 65.0\n",
      "Subject 4: 74.0\n",
      "Subject 5: 86.0\n",
      "\n",
      "Total Marks: 360.0\n",
      "Percentage: 72.00%\n",
      "Grade: C\n"
     ]
    }
   ],
   "source": [
    "# Step 1: Accept the marks for five major subjects\n",
    "marks = []\n",
    "for i in range(1, 6):\n",
    "    mark = float(input(f\"Enter the marks for subject {i}: \"))\n",
    "    marks.append(mark)\n",
    "\n",
    "print(\"\\nMarks obtained in five major subjects:\")\n",
    "for i, mark in enumerate(marks, 1):\n",
    "    print(f\"Subject {i}: {mark}\")\n",
    "\n",
    "# Step 2: Calculate total marks, percentage, and grade\n",
    "total_marks = sum(marks)\n",
    "percentage = total_marks / 5\n",
    "\n",
    "print(f\"\\nTotal Marks: {total_marks}\")\n",
    "print(f\"Percentage: {percentage:.2f}%\")\n",
    "\n",
    "# Step 3: Determine the grade using if-elif-else\n",
    "if percentage > 85:\n",
    "    grade = \"A\"\n",
    "elif percentage >= 75:\n",
    "    grade = \"B\"\n",
    "elif percentage >= 50:\n",
    "    grade = \"C\"\n",
    "elif percentage > 30:\n",
    "    grade = \"D\"\n",
    "else:\n",
    "    grade = \"Reappear\"\n",
    "\n",
    "print(f\"Grade: {grade}\")\n"
   ]
  },
  {
   "cell_type": "markdown",
   "id": "9c6c8397",
   "metadata": {},
   "source": [
    "# Que - 2"
   ]
  },
  {
   "cell_type": "code",
   "execution_count": 39,
   "id": "fdc758d6",
   "metadata": {},
   "outputs": [],
   "source": [
    "class Student:\n",
    "    def __init__(self, name, age, roll_number):\n",
    "        self.__name = name        # Encapsulated attribute for name\n",
    "        self.__age = age          # Encapsulated attribute for age\n",
    "        self.__roll_number = roll_number  # Encapsulated attribute for roll number\n",
    "\n",
    "    # Getter method for name\n",
    "    def get_name(self):\n",
    "        return self.__name\n",
    "\n",
    "    # Setter method for name\n",
    "    def set_name(self, name):\n",
    "        self.__name = name\n",
    "\n",
    "    # Getter method for age\n",
    "    def get_age(self):\n",
    "        return self.__age\n",
    "\n",
    "    # Setter method for age\n",
    "    def set_age(self, age):\n",
    "        if age > 0:  # Ensuring age is positive\n",
    "            self.__age = age\n",
    "        else:\n",
    "            print(\"Please enter a valid age.\")\n",
    "\n",
    "    # Getter method for roll number\n",
    "    def get_roll_number(self):\n",
    "        return self.__roll_number\n",
    "\n",
    "    # Setter method for roll number\n",
    "    def set_roll_number(self, roll_number):\n",
    "        self.__roll_number = roll_number\n",
    "\n",
    "    # Method to display student information\n",
    "    def display_student_info(self):\n",
    "        print(f\"Student Name: {self.__name}\")\n",
    "        print(f\"Age: {self.__age}\")\n",
    "        print(f\"Roll Number: {self.__roll_number}\")\n",
    "\n",
    "    # Method to update student details\n",
    "    def update_student_details(self, name=None, age=None, roll_number=None):\n",
    "        if name:\n",
    "            self.set_name(name)\n",
    "        if age:\n",
    "            self.set_age(age)\n",
    "        if roll_number:\n",
    "            self.set_roll_number(roll_number)\n",
    "        print(\"Student details updated successfully.\")\n"
   ]
  },
  {
   "cell_type": "code",
   "execution_count": null,
   "id": "56fb8bfa",
   "metadata": {},
   "outputs": [],
   "source": []
  },
  {
   "cell_type": "markdown",
   "id": "de5687c2",
   "metadata": {},
   "source": [
    "# Que 3"
   ]
  },
  {
   "cell_type": "code",
   "execution_count": 40,
   "id": "7ba918fd",
   "metadata": {},
   "outputs": [],
   "source": [
    "class LibraryBook:\n",
    "    def __init__(self, book_name, author):\n",
    "        self.__book_name = book_name          # Encapsulated attribute for book name\n",
    "        self.__author = author                # Encapsulated attribute for author\n",
    "        self.__is_available = True            # Encapsulated attribute for availability status\n",
    "\n",
    "    # Getter method for book name\n",
    "    def get_book_name(self):\n",
    "        return self.__book_name\n",
    "\n",
    "    # Getter method for author\n",
    "    def get_author(self):\n",
    "        return self.__author\n",
    "\n",
    "    # Getter method for availability status\n",
    "    def is_available(self):\n",
    "        return self.__is_available\n",
    "\n",
    "    # Method for borrowing a book\n",
    "    def borrow_book(self):\n",
    "        if self.__is_available:\n",
    "            self.__is_available = False\n",
    "            print(f\"You have successfully borrowed '{self.__book_name}' by {self.__author}.\")\n",
    "        else:\n",
    "            print(f\"Sorry, '{self.__book_name}' is currently unavailable.\")\n",
    "\n",
    "    # Method for returning a book\n",
    "    def return_book(self):\n",
    "        if not self.__is_available:\n",
    "            self.__is_available = True\n",
    "            print(f\"Thank you for returning '{self.__book_name}'.\")\n",
    "        else:\n",
    "            print(f\"'{self.__book_name}' was not borrowed.\")\n",
    "\n",
    "    # Method to display book details\n",
    "    def display_book_info(self):\n",
    "        availability = \"Available\" if self.__is_available else \"Not Available\"\n",
    "        print(f\"Book Name: {self.__book_name}\")\n",
    "        print(f\"Author: {self.__author}\")\n",
    "        print(f\"Availability: {availability}\")\n"
   ]
  },
  {
   "cell_type": "code",
   "execution_count": null,
   "id": "a2c6c240",
   "metadata": {},
   "outputs": [],
   "source": []
  },
  {
   "cell_type": "markdown",
   "id": "2e31d91b",
   "metadata": {},
   "source": [
    "# Write a Python program to create a text file named \"employees.txt\" and write the details of employees, including their name, age, and salary, into the file."
   ]
  },
  {
   "cell_type": "code",
   "execution_count": 42,
   "id": "2ec6ea2b",
   "metadata": {},
   "outputs": [
    {
     "name": "stdout",
     "output_type": "stream",
     "text": [
      "Employee details have been written to employees.txt\n"
     ]
    }
   ],
   "source": [
    "def write_employee_details_to_file(filename, employees):\n",
    "    with open(filename, 'w') as file: \n",
    "        for employee in employees:\n",
    "            name, age, salary = employee\n",
    "            file.write(f\"Name: {name}, Age: {age}, Salary: {salary}\\n\")\n",
    "    print(f\"Employee details have been written to {filename}\")\n",
    "\n",
    "    q2aaaaaaaaa1ZSASQ\n",
    "employees = [\n",
    "    (\"John Doe\", 28, 50000),\n",
    "    (\"Jane Smith\", 32, 60000),\n",
    "    (\"Emily Davis\", 24, 45000),\n",
    "    (\"Michael Brown\", 40, 75000),\n",
    "]\n",
    "\n",
    "\n",
    "\n",
    "filename = \"employees.txt\"\n",
    "\n",
    "\n",
    "\n",
    "write_employee_details_to_file(filename, employees)\n"
   ]
  },
  {
   "cell_type": "code",
   "execution_count": null,
   "id": "a5b57ccd",
   "metadata": {},
   "outputs": [],
   "source": []
  },
  {
   "cell_type": "markdown",
   "id": "6602f442",
   "metadata": {},
   "source": [
    "# What do you mean by Measure of Central Tendency and Measures of Dispersion.How it can be calculated."
   ]
  },
  {
   "cell_type": "raw",
   "id": "11677225",
   "metadata": {},
   "source": [
    "Central Tendency - It describes the center value of dataset. This summarized the middle or center of the data\n",
    "(Mean, Median, Mode)\n",
    "\n",
    "Measures of Dispersion - It describes the spread of the data \n",
    "(Variance, Standard Deviation)"
   ]
  },
  {
   "cell_type": "markdown",
   "id": "66adeb8c",
   "metadata": {},
   "source": [
    "# What do you mean by skewness.Explain its types?"
   ]
  },
  {
   "cell_type": "raw",
   "id": "b7ebe00a",
   "metadata": {},
   "source": [
    "Skewness:- It describes the asymmetry of the distribution of data point of the dataset. It indicates weather the data points are spread out more to left or right of the mean.\n",
    "\n",
    "Types of Skewness:- \n",
    "\n",
    "1. Left-Skewness\n",
    "2. Right-Skewness\n",
    "3. Symmetrical"
   ]
  },
  {
   "cell_type": "markdown",
   "id": "3eaf658d",
   "metadata": {},
   "source": [
    "# What is correlation. Explain its type in details?"
   ]
  },
  {
   "cell_type": "raw",
   "id": "98610393",
   "metadata": {},
   "source": [
    "Correlation is a statistical measure that describes the strength and direction of the relationship between two variables.\n",
    "\n",
    "\n",
    "Positive Correlation:- In a positive correlation, as one variable increases, the other variable also increases. Similarly, when one variable decreases, the other variable also decreases.\n",
    "\n",
    "\n",
    "Negative Correlation:- In a negative correlation, as one variable increases, the other variable decreases, and vice versa.\n",
    "\n",
    "\n",
    "No Correlation (Zero Correlation):- When there is no apparent relationship between two variables, they are said to have no correlation. Changes in one variable do not predict or affect changes in the other."
   ]
  },
  {
   "cell_type": "markdown",
   "id": "73b74d79",
   "metadata": {},
   "source": [
    "# Discuss the 4 differences between correlation and regression."
   ]
  },
  {
   "cell_type": "raw",
   "id": "3c7f6db8",
   "metadata": {},
   "source": [
    "Correlation:- \n",
    "1. Measures the strength and direction of a relationship\n",
    "2. Symmetric, no distinction between variables\n",
    "3. Single coefficient\n",
    "4. No dependent or independent variable\n",
    "\n",
    "Regression:- \n",
    "1. Analyzes and models the relationship between variables.\n",
    "2. Asymmetric, distinguishes between dependent and independent variables\n",
    "3. Equation for predicting dependent variable\n",
    "4. Explicitly models dependent and independent variables"
   ]
  },
  {
   "cell_type": "code",
   "execution_count": null,
   "id": "ba45d322",
   "metadata": {},
   "outputs": [],
   "source": []
  },
  {
   "cell_type": "markdown",
   "id": "06522a54",
   "metadata": {},
   "source": [
    "# What is Normal Distribution? What are the four Assumptions of Normal Distribution?"
   ]
  },
  {
   "cell_type": "raw",
   "id": "5793832d",
   "metadata": {},
   "source": [
    "Normal Distribution - This is the distribution in which our data spread equally on both side (right or left). In this distribution our Mean, Median or Mode all are equal because this is a symmatrical distribution.\n",
    "\n",
    "4 Assumptions:-\n",
    "\n",
    "1. Linearity - The relationship between the variable is linear.\n",
    "2. Errors are Independent.\n",
    "3. Errors are normally distriduted.\n",
    "4. Observations are independent of each other."
   ]
  },
  {
   "cell_type": "markdown",
   "id": "1ba46d19",
   "metadata": {},
   "source": [
    "# If the height of 500 students are normally distributed with mean 65 inch and standard deviation 5 inch. How many students have height is greater than 70 inch."
   ]
  },
  {
   "cell_type": "raw",
   "id": "6a786e18",
   "metadata": {},
   "source": [
    "z-score = 1\n",
    "\n",
    "This means 84.13% of students have a height less than 70 inches.\n",
    "\n",
    "P(X > 70) = 1 - 0.8413 = 0.1587 \n",
    "\n",
    "0.1587×500=79.35\n",
    "\n",
    "Since the number of students cannot be a fraction, we round it to 79 students."
   ]
  },
  {
   "cell_type": "markdown",
   "id": "48644cda",
   "metadata": {},
   "source": [
    "# What is the statistical hypothesis? Explain the errors in hypothesis testing.b) Explain the Sample. What are Large Samples & Small Samples?"
   ]
  },
  {
   "cell_type": "raw",
   "id": "d98d6bed",
   "metadata": {},
   "source": [
    "Statistical Hypothesis - This is the hypothesis technique where we assume our population parameter is true.\n",
    "\n",
    "Type I Error: Incorrectly rejecting a true null hypothesis (False Positive).\n",
    "\n",
    "Type II Error: Failing to reject a false null hypothesis (False Negative).\n",
    "\n",
    "Sample: A subset of the population used for statistical analysis.\n",
    "\n",
    "Large Sample: Typically more than 30 observations, allowing for more robust analysis.\n",
    "\n",
    "Small Sample: Typically fewer than 30 observations, requiring careful statistical handling."
   ]
  },
  {
   "cell_type": "markdown",
   "id": "43ac5c3e",
   "metadata": {},
   "source": [
    "# How would you create a basic Flask route that displays \"Hello, World!\" on the homepage?"
   ]
  },
  {
   "cell_type": "code",
   "execution_count": null,
   "id": "7dd2de5a",
   "metadata": {},
   "outputs": [],
   "source": [
    "from flask import Flask\n",
    "\n",
    "# Create an instance of the Flask class\n",
    "app = Flask(__name__)\n",
    "\n",
    "# Define a route for the homepage\n",
    "@app.route('/')\n",
    "def home():\n",
    "    return \"Hello, World!\"\n",
    "\n",
    "# Run the Flask application\n",
    "if __name__ == '__main__':\n",
    "    app.run(debug=True)\n"
   ]
  },
  {
   "cell_type": "markdown",
   "id": "c5327fd7",
   "metadata": {},
   "source": [
    "# Explain how to set up a Flask application to handle form submissions using POST requests."
   ]
  },
  {
   "cell_type": "code",
   "execution_count": null,
   "id": "e48cd058",
   "metadata": {},
   "outputs": [],
   "source": [
    "from flask import Flask, render_template, request\n",
    "\n",
    "app = Flask(__name__)\n",
    "\n",
    "# Route for displaying the form\n",
    "@app.route('/')\n",
    "def form():\n",
    "    return render_template('form.html')\n",
    "\n",
    "# Route for handling the form submission\n",
    "@app.route('/submit', methods=['POST'])\n",
    "def submit():\n",
    "    # Retrieve data from the form\n",
    "    name = request.form['name']\n",
    "    # Process the data (here we just return a message)\n",
    "    return f\"Hello, {name}! Your form was submitted successfully.\"\n",
    "\n",
    "if __name__ == '__main__':\n",
    "    app.run(debug=True)\n"
   ]
  },
  {
   "cell_type": "code",
   "execution_count": null,
   "id": "15c9e56d",
   "metadata": {},
   "outputs": [],
   "source": []
  },
  {
   "cell_type": "markdown",
   "id": "6a1bb444",
   "metadata": {},
   "source": [
    "# What is the difference between Series & Dataframes."
   ]
  },
  {
   "cell_type": "raw",
   "id": "7195c0bd",
   "metadata": {},
   "source": [
    "Series - Series is a one dimensional that can hold same datatype value only.\n",
    "\n",
    "DataFrame - DataFrame is a multi dimensional that can hold multiply rows and columns"
   ]
  },
  {
   "cell_type": "code",
   "execution_count": null,
   "id": "597c6732",
   "metadata": {},
   "outputs": [],
   "source": []
  },
  {
   "cell_type": "markdown",
   "id": "acd771a4",
   "metadata": {},
   "source": [
    "# Difference between loc and iloc."
   ]
  },
  {
   "cell_type": "raw",
   "id": "377a1bdd",
   "metadata": {},
   "source": [
    "loc - location\n",
    "iloc - index location\n",
    "\n",
    "loc and iloc mainly use for filteration of data.\n",
    "\n",
    "loc: Uses labels (names) of rows and columns.\n",
    "iloc: Uses integer positions (indexes) of rows and columns."
   ]
  },
  {
   "cell_type": "code",
   "execution_count": null,
   "id": "f3b75811",
   "metadata": {},
   "outputs": [],
   "source": []
  },
  {
   "cell_type": "markdown",
   "id": "95e895e2",
   "metadata": {},
   "source": [
    "# What is the difference between supervised and unsupervised learning?"
   ]
  },
  {
   "cell_type": "raw",
   "id": "41f05e4b",
   "metadata": {},
   "source": [
    "Supervised - Supervised learning involves training a model on a labeled dataset where the output is known. We have independent and dependent variables for prediction.\n",
    "\n",
    "Unsupervised - Unsupervised learning involves training a model on data without labeled responses. The model tries to find patterns or structures in the data."
   ]
  },
  {
   "cell_type": "code",
   "execution_count": null,
   "id": "1402df24",
   "metadata": {},
   "outputs": [],
   "source": []
  },
  {
   "cell_type": "markdown",
   "id": "5d93d91d",
   "metadata": {},
   "source": [
    "# Explain the bias-variance tradeoff."
   ]
  },
  {
   "cell_type": "raw",
   "id": "a1577696",
   "metadata": {},
   "source": [
    "Bias refers to the error introduced by approximating a real-world problem, which may be complex, by a simplified model. It measures how much the average model prediction deviates from the true value."
   ]
  },
  {
   "cell_type": "code",
   "execution_count": null,
   "id": "e127d927",
   "metadata": {},
   "outputs": [],
   "source": []
  },
  {
   "cell_type": "markdown",
   "id": "cab0f9e9",
   "metadata": {},
   "source": [
    "# What are precision and recall?"
   ]
  },
  {
   "cell_type": "raw",
   "id": "1e5532a5",
   "metadata": {},
   "source": [
    "Precision :- It measures the proportion of true positive predictions among all positive predictions made by the model. It tells us how many of the predicted positive cases are actually positive.\n",
    "\n",
    "\n",
    "Recall :- Recall measures the proportion of true positive predictions among all actual positive cases. It tells us how many of the actual positive cases were correctly identified by the model."
   ]
  },
  {
   "cell_type": "code",
   "execution_count": null,
   "id": "b4253e11",
   "metadata": {},
   "outputs": [],
   "source": []
  },
  {
   "cell_type": "markdown",
   "id": "080d6a8c",
   "metadata": {},
   "source": [
    "# What is overfitting?"
   ]
  },
  {
   "cell_type": "raw",
   "id": "aa3254db",
   "metadata": {},
   "source": [
    "Overfitting is the concept where over model learns every thing from our data and gives us a high accuracy during the training and low accuracy during the testing "
   ]
  },
  {
   "cell_type": "code",
   "execution_count": null,
   "id": "85fa4e39",
   "metadata": {},
   "outputs": [],
   "source": []
  },
  {
   "cell_type": "markdown",
   "id": "ae14626a",
   "metadata": {},
   "source": [
    "# Explain the concept of cross-validation."
   ]
  },
  {
   "cell_type": "raw",
   "id": "672a7528",
   "metadata": {},
   "source": [
    "To evaluate the performance of a model and assess its ability to generalize to new data.\n",
    "To prevent overfitting by using multiple training and validation splits."
   ]
  },
  {
   "cell_type": "code",
   "execution_count": null,
   "id": "825c8db5",
   "metadata": {},
   "outputs": [],
   "source": []
  },
  {
   "cell_type": "markdown",
   "id": "111961f9",
   "metadata": {},
   "source": [
    "# Explain the difference between L1 and L2 regularization."
   ]
  },
  {
   "cell_type": "raw",
   "id": "14ea1a85",
   "metadata": {},
   "source": [
    "Lasso (L1) :- L1 regularization specific use for feature selection. When we want to reduce our dimensions. \n",
    "\n",
    "Ridge (L2) :- L2 regularization specific use for reducing overfitting for adding some error into my model. "
   ]
  },
  {
   "cell_type": "code",
   "execution_count": null,
   "id": "ee1faac6",
   "metadata": {},
   "outputs": [],
   "source": []
  },
  {
   "cell_type": "code",
   "execution_count": null,
   "id": "ef379414",
   "metadata": {},
   "outputs": [],
   "source": []
  },
  {
   "cell_type": "code",
   "execution_count": null,
   "id": "137f8724",
   "metadata": {},
   "outputs": [],
   "source": []
  }
 ],
 "metadata": {
  "kernelspec": {
   "display_name": "Python 3 (ipykernel)",
   "language": "python",
   "name": "python3"
  },
  "language_info": {
   "codemirror_mode": {
    "name": "ipython",
    "version": 3
   },
   "file_extension": ".py",
   "mimetype": "text/x-python",
   "name": "python",
   "nbconvert_exporter": "python",
   "pygments_lexer": "ipython3",
   "version": "3.9.13"
  }
 },
 "nbformat": 4,
 "nbformat_minor": 5
}
