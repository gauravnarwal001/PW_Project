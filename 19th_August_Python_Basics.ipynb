{
 "cells": [
  {
   "cell_type": "markdown",
   "id": "7542d806",
   "metadata": {},
   "source": [
    "# TOPIC: Python Basics Variable"
   ]
  },
  {
   "cell_type": "markdown",
   "id": "65c35f7a",
   "metadata": {},
   "source": [
    "###### Question 1. Declare two variables, `x` and `y`, and assign them integer values. Swap the values of these variables without using any temporary variable."
   ]
  },
  {
   "cell_type": "code",
   "execution_count": 18,
   "id": "b23bc4b5",
   "metadata": {},
   "outputs": [
    {
     "name": "stdout",
     "output_type": "stream",
     "text": [
      "After Swapping\n",
      "x = 4\n",
      "y = 2\n"
     ]
    }
   ],
   "source": [
    "x = 2\n",
    "y = 4\n",
    "\n",
    "y, x = x,y\n",
    "print(\"After Swapping\")\n",
    "print(f'x = {x}')\n",
    "print(f'y = {y}')"
   ]
  },
  {
   "cell_type": "markdown",
   "id": "b20fb272",
   "metadata": {},
   "source": [
    "In this question:-\n",
    "1. I am swap the integer values without using any temporary variable.\n",
    "2. `x` assign `y` value. `y` assign `x` value\n",
    "3. At last print `x`, `y` values using formatting"
   ]
  },
  {
   "cell_type": "markdown",
   "id": "05823a23",
   "metadata": {},
   "source": [
    "###### Question 2. Create a program that calculates the area of a rectangle. Take the length and width as inputs from the user and store them in variables. Calculate and display the area."
   ]
  },
  {
   "cell_type": "code",
   "execution_count": 26,
   "id": "7fedd93e",
   "metadata": {},
   "outputs": [
    {
     "name": "stdout",
     "output_type": "stream",
     "text": [
      "Enter your Length5\n",
      "\n",
      "Enter your Width3\n",
      "\n",
      "The area of rectangle is 15\n"
     ]
    }
   ],
   "source": [
    "length = int(input(\"Enter your Length\"))\n",
    "width = int(input(\"\\nEnter your Width\"))\n",
    "area = length * width\n",
    "print(f'\\nThe area of rectangle is {area}')"
   ]
  },
  {
   "cell_type": "markdown",
   "id": "4ab69135",
   "metadata": {},
   "source": [
    "In this question:-\n",
    "1. Firstly I make 2 variables (`length`,`breadth`).\n",
    "2. Both Variables take input values and converted into integer type.\n",
    "3. Apply the formula of area of a rectange.\n",
    "4. Print the value of `Area` using formatting"
   ]
  },
  {
   "cell_type": "markdown",
   "id": "f530896c",
   "metadata": {},
   "source": [
    "###### Question 3. Write a Python program that converts temperatures from Celsius to Fahrenheit. Take the temperature in Celsius as input, store it in a variable, convert it to Fahrenheit, and display the result."
   ]
  },
  {
   "cell_type": "code",
   "execution_count": 39,
   "id": "2c76d70b",
   "metadata": {},
   "outputs": [
    {
     "name": "stdout",
     "output_type": "stream",
     "text": [
      "Enter your Temperature 5\n",
      "Your Temperatur is 5°C\n",
      "\n",
      "Temperature to Fahrenheit\n",
      "\n",
      "5°C --> 41.0°F\n"
     ]
    }
   ],
   "source": [
    "temperature = int(input(\"Enter your Temperature \"))\n",
    "print(f'Your Temperatur is {temperature}°C')\n",
    "fahrenheit = (temperature * 9/5) + 32\n",
    "print(\"\\nTemperature to Fahrenheit\")\n",
    "print(f'\\n{temperature}°C --> {fahrenheit}°F')"
   ]
  },
  {
   "cell_type": "markdown",
   "id": "16683150",
   "metadata": {},
   "source": [
    "In this Question:-\n",
    "1. Firstly I am taking input temperature.\n",
    "2. Convert temperature to fahrenheit using `Fahrenheit (°F) = (Temperature in degrees Celsius (°C) * 9/5) + 32` formula.\n",
    "3. Print the Temperature to Fahrenheit"
   ]
  },
  {
   "cell_type": "markdown",
   "id": "0d061de2",
   "metadata": {},
   "source": [
    "# TOPIC: String Based Questions"
   ]
  },
  {
   "cell_type": "markdown",
   "id": "f9c91a94",
   "metadata": {},
   "source": [
    "###### Question 1. Write a Python program that takes a string as input and prints the length of the string."
   ]
  },
  {
   "cell_type": "code",
   "execution_count": 43,
   "id": "bcc2a717",
   "metadata": {},
   "outputs": [
    {
     "name": "stdout",
     "output_type": "stream",
     "text": [
      "Enter your String Value Gaurav\n",
      "Length of your String Value is 6\n"
     ]
    }
   ],
   "source": [
    "a = input(\"Enter your String Value \")\n",
    "l = len(a)\n",
    "print('Length of your String Value is',l)"
   ]
  },
  {
   "cell_type": "markdown",
   "id": "9219f339",
   "metadata": {},
   "source": [
    "In this Question:- \n",
    "1. Firstly I take an `a` Variable which takes a string as input.\n",
    "2. Find the length of string which is store in variable `a`.\n",
    "3. Print the Length of string"
   ]
  },
  {
   "cell_type": "markdown",
   "id": "e780aac4",
   "metadata": {},
   "source": [
    "###### Question 2. Create a program that takes a sentence from the user and counts the number of vowels (a, e, i, o, u) in the string."
   ]
  },
  {
   "cell_type": "code",
   "execution_count": 59,
   "id": "7aee108a",
   "metadata": {},
   "outputs": [
    {
     "name": "stdout",
     "output_type": "stream",
     "text": [
      "Enter your sentenceMy name is GAURAV\n",
      "Total vowels is sentence 6\n"
     ]
    }
   ],
   "source": [
    "a = input(\"Enter your sentence\")\n",
    "count = 0\n",
    "for i in a:\n",
    "    if i in ('a', 'e', 'i', 'o', 'u','A','E','I','O','U'):\n",
    "        count = count + 1\n",
    "        \n",
    "print('Total vowels is sentence',count)"
   ]
  },
  {
   "cell_type": "markdown",
   "id": "a0b60543",
   "metadata": {},
   "source": [
    "In this Question:-\n",
    "1. Firstly I take a sentence from the user in `a` variable.\n",
    "2. Making `count` name variable and assign a `0` value.\n",
    "3. Start an for loop and loop converted all sentence into character type.\n",
    "4. Using If statement for filter an vowels and using `in` operator for matching the vowels with character.\n",
    "5. In every match I Increase the count with `+1`.\n",
    "6. At last I am Print the `Count`"
   ]
  },
  {
   "cell_type": "markdown",
   "id": "e4d20a5e",
   "metadata": {},
   "source": [
    "###### Question 3. Given a string, reverse the order of characters using string slicing and print the reversed string."
   ]
  },
  {
   "cell_type": "code",
   "execution_count": 63,
   "id": "a8f82f04",
   "metadata": {},
   "outputs": [
    {
     "name": "stdout",
     "output_type": "stream",
     "text": [
      "Enter the string Garuav\n",
      "Correct String :- Garuav\n",
      "Reverse String :- vauraG\n"
     ]
    }
   ],
   "source": [
    "str1 = input(\"Enter the string \")\n",
    "reverse = str1[::-1]\n",
    "print(\"Correct String :-\",str1)\n",
    "print(\"Reverse String :-\",reverse)"
   ]
  },
  {
   "cell_type": "markdown",
   "id": "2042718f",
   "metadata": {},
   "source": [
    "In this question:-\n",
    "1. I am taking an input to an user.\n",
    "2. Using indexing technique. I reverse an String.\n",
    "3. Print Correct and Reverse String."
   ]
  },
  {
   "cell_type": "markdown",
   "id": "b69db7d2",
   "metadata": {},
   "source": [
    "###### Question 4. Write a program that takes a string as input and checks if it is a palindrome (reads the same forwards and backwards)."
   ]
  },
  {
   "cell_type": "code",
   "execution_count": 77,
   "id": "0f6fa104",
   "metadata": {},
   "outputs": [
    {
     "name": "stdout",
     "output_type": "stream",
     "text": [
      "Enter your string Hanah\n",
      "Yes your string is palindrome\n"
     ]
    }
   ],
   "source": [
    "string = input(\"Enter your string \").upper()\n",
    "reverse = string[::-1].upper()\n",
    "if string == reverse:\n",
    "    print('Yes your string is palindrome')\n",
    "else:\n",
    "    print(\"Your string is not palindrome\")"
   ]
  },
  {
   "cell_type": "markdown",
   "id": "c4658445",
   "metadata": {},
   "source": [
    "In this Question:- \n",
    "1. Firstly I am taking string input and converted into upper case.\n",
    "2. Making reverse variable and reverse our string and also convert reverse string into a upper case.\n",
    "3. Using If Else Statement for check string is palindrome or not.\n",
    "\n",
    "Note :- We convert string and reverse into a upper case. Because python language is case-sensitive language. If our all string is in lower case and upper case then we can't seen any type of change in answer. But when string is in Capitalize form this shows an wrong answer. So this is the reason I converted string and reverse into a upper case. "
   ]
  },
  {
   "cell_type": "markdown",
   "id": "ca59f7c4",
   "metadata": {},
   "source": [
    "###### Question 5. Create a program that takes a string as input and removes all the spaces from it. Print the modified string without spaces."
   ]
  },
  {
   "cell_type": "code",
   "execution_count": 88,
   "id": "68691a3b",
   "metadata": {},
   "outputs": [
    {
     "name": "stdout",
     "output_type": "stream",
     "text": [
      "Enter Your String My name is Gaurav\n",
      "\n",
      "Your String - My name is Gaurav\n",
      "After removing all spaces - MynameisGaurav\n"
     ]
    }
   ],
   "source": [
    "string = input(\"Enter Your String \")\n",
    "remove_spaces = string.replace(\" \",'')\n",
    "print(\"\\nYour String -\",string)\n",
    "print('After removing all spaces -',remove_spaces)"
   ]
  },
  {
   "cell_type": "markdown",
   "id": "a0b2d8e7",
   "metadata": {},
   "source": [
    "In this Question:- \n",
    "1. Firstly taking an input to an user\n",
    "2. Removing all spaces in string using replace method\n",
    "3. Print the final output after removing an spaces"
   ]
  }
 ],
 "metadata": {
  "kernelspec": {
   "display_name": "Python 3 (ipykernel)",
   "language": "python",
   "name": "python3"
  },
  "language_info": {
   "codemirror_mode": {
    "name": "ipython",
    "version": 3
   },
   "file_extension": ".py",
   "mimetype": "text/x-python",
   "name": "python",
   "nbconvert_exporter": "python",
   "pygments_lexer": "ipython3",
   "version": "3.9.13"
  }
 },
 "nbformat": 4,
 "nbformat_minor": 5
}
